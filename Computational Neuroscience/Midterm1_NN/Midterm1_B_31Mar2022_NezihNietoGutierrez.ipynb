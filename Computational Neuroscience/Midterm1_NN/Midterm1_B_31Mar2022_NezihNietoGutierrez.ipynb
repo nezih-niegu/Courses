{
 "cells": [
  {
   "cell_type": "markdown",
   "metadata": {},
   "source": [
    "<img src=\"data/itesm.png\" >"
   ]
  },
  {
   "cell_type": "markdown",
   "metadata": {},
   "source": [
    "<h1><center>Computational Neuroscience</center></h1> \n"
   ]
  },
  {
   "cell_type": "markdown",
   "metadata": {},
   "source": [
    "<h4><center>2022</center></h4>"
   ]
  },
  {
   "cell_type": "markdown",
   "metadata": {},
   "source": [
    "It's time to test your **Python** skills!\n",
    "\n",
    "You will:\n",
    "\n",
    "    Perform an exploratory analysis of a given dataset.\n",
    "    Gain data-driven insight into potential issues or findings regarding the dataset you chose.\n",
    "    Visualise data distributions. \n",
    "    \n",
    "----"
   ]
  },
  {
   "cell_type": "markdown",
   "metadata": {},
   "source": [
    "##  INSTRUCTIONS\n",
    "\n",
    "Dataset:\n",
    "\n",
    "- **Covid-19**. Time series data tracking the number of people affected by COVID-19 worldwide.\n",
    "\n",
    "    Data source: https://github.com/datasets/covid-19/tree/master/data  \n",
    "    Data source: https://ourworldindata.org/coronavirus-source-data\n",
    "\n",
    "With the dataset, accomplish:\n",
    "\n",
    "a) - Quickly describe a dataset; number of rows/columns, features, feature description, missing data, data types, preview the last 7 rows. **(25 pts)**\n",
    "\n",
    "b) - Compute mean, median and standard deviation for three features of the dataset. _Use a for loop_. Don't forget about the units. **(25 pts)**\n",
    "\n",
    "c) - Convert your dataset into a Pandas Object (Pandas DataFrame) and execute: print(dataset.describe()). What information is displayed? Provide a **clear** explanation of it. What attributes are used and why? **(25 pts)**\n",
    "\n",
    "d) - Calculate and visualise (At least three graphs) relations between variables, correlations. All graphs should include title, axis names and units of measurement. Provide a **clear** explanation and conclusions for each graph. **(25 pts)**\n",
    "\n",
    "--------\n",
    "\n",
    "**Note**: \n",
    "This assignment must be completed individually – any submitted work that is suspected of being the product of collusion will be thoroughly investigated and those involved will be penalised. Credit will not be given to material that is copied (either unchanged or minimally modified) from published sources, including web sites."
   ]
  },
  {
   "cell_type": "markdown",
   "metadata": {},
   "source": [
    "### 1 - Libraries\n",
    "\n",
    "Let's first import all the packages that you will need during this assignment. "
   ]
  },
  {
   "cell_type": "code",
   "execution_count": 1,
   "metadata": {},
   "outputs": [],
   "source": [
    "# import libraries\n",
    "\n",
    "import numpy as np\n",
    "import pandas as pd\n",
    "import seaborn as sb\n",
    "import matplotlib.pyplot as plt\n",
    "from contextlib import nullcontext\n",
    "import random\n",
    "from tkinter.font import names\n",
    "import numpy as np\n",
    "import random\n",
    "from matplotlib import pyplot as plt\n",
    "import pandas as pd\n",
    "columns=['Date', 'Country/Region','Province/State','Confirmed','Recovered','Deaths']"
   ]
  },
  {
   "cell_type": "markdown",
   "metadata": {},
   "source": [
    "### 2 - Dataset ##\n",
    "\n",
    "Now, let's get the dataset you will work on."
   ]
  },
  {
   "cell_type": "code",
   "execution_count": 30,
   "metadata": {},
   "outputs": [],
   "source": [
    "# Import dataset\n",
    "DataSet = pd.read_csv('time-series-19-covid-combined.csv',names = columns,low_memory=False)"
   ]
  },
  {
   "cell_type": "code",
   "execution_count": 3,
   "metadata": {},
   "outputs": [
    {
     "data": {
      "text/html": [
       "<div>\n",
       "<style scoped>\n",
       "    .dataframe tbody tr th:only-of-type {\n",
       "        vertical-align: middle;\n",
       "    }\n",
       "\n",
       "    .dataframe tbody tr th {\n",
       "        vertical-align: top;\n",
       "    }\n",
       "\n",
       "    .dataframe thead th {\n",
       "        text-align: right;\n",
       "    }\n",
       "</style>\n",
       "<table border=\"1\" class=\"dataframe\">\n",
       "  <thead>\n",
       "    <tr style=\"text-align: right;\">\n",
       "      <th></th>\n",
       "      <th>Date</th>\n",
       "      <th>Country/Region</th>\n",
       "      <th>Province/State</th>\n",
       "      <th>Confirmed</th>\n",
       "      <th>Recovered</th>\n",
       "      <th>Deaths</th>\n",
       "    </tr>\n",
       "  </thead>\n",
       "  <tbody>\n",
       "    <tr>\n",
       "      <th>0</th>\n",
       "      <td>Date</td>\n",
       "      <td>Country/Region</td>\n",
       "      <td>Province/State</td>\n",
       "      <td>Confirmed</td>\n",
       "      <td>Recovered</td>\n",
       "      <td>Deaths</td>\n",
       "    </tr>\n",
       "    <tr>\n",
       "      <th>1</th>\n",
       "      <td>2020-01-22</td>\n",
       "      <td>Afghanistan</td>\n",
       "      <td>NaN</td>\n",
       "      <td>0</td>\n",
       "      <td>0</td>\n",
       "      <td>0</td>\n",
       "    </tr>\n",
       "    <tr>\n",
       "      <th>2</th>\n",
       "      <td>2020-01-23</td>\n",
       "      <td>Afghanistan</td>\n",
       "      <td>NaN</td>\n",
       "      <td>0</td>\n",
       "      <td>0</td>\n",
       "      <td>0</td>\n",
       "    </tr>\n",
       "    <tr>\n",
       "      <th>3</th>\n",
       "      <td>2020-01-24</td>\n",
       "      <td>Afghanistan</td>\n",
       "      <td>NaN</td>\n",
       "      <td>0</td>\n",
       "      <td>0</td>\n",
       "      <td>0</td>\n",
       "    </tr>\n",
       "    <tr>\n",
       "      <th>4</th>\n",
       "      <td>2020-01-25</td>\n",
       "      <td>Afghanistan</td>\n",
       "      <td>NaN</td>\n",
       "      <td>0</td>\n",
       "      <td>0</td>\n",
       "      <td>0</td>\n",
       "    </tr>\n",
       "    <tr>\n",
       "      <th>5</th>\n",
       "      <td>2020-01-26</td>\n",
       "      <td>Afghanistan</td>\n",
       "      <td>NaN</td>\n",
       "      <td>0</td>\n",
       "      <td>0</td>\n",
       "      <td>0</td>\n",
       "    </tr>\n",
       "    <tr>\n",
       "      <th>6</th>\n",
       "      <td>2020-01-27</td>\n",
       "      <td>Afghanistan</td>\n",
       "      <td>NaN</td>\n",
       "      <td>0</td>\n",
       "      <td>0</td>\n",
       "      <td>0</td>\n",
       "    </tr>\n",
       "    <tr>\n",
       "      <th>7</th>\n",
       "      <td>2020-01-28</td>\n",
       "      <td>Afghanistan</td>\n",
       "      <td>NaN</td>\n",
       "      <td>0</td>\n",
       "      <td>0</td>\n",
       "      <td>0</td>\n",
       "    </tr>\n",
       "  </tbody>\n",
       "</table>\n",
       "</div>"
      ],
      "text/plain": [
       "         Date  Country/Region  Province/State  Confirmed  Recovered  Deaths\n",
       "0        Date  Country/Region  Province/State  Confirmed  Recovered  Deaths\n",
       "1  2020-01-22     Afghanistan             NaN          0          0       0\n",
       "2  2020-01-23     Afghanistan             NaN          0          0       0\n",
       "3  2020-01-24     Afghanistan             NaN          0          0       0\n",
       "4  2020-01-25     Afghanistan             NaN          0          0       0\n",
       "5  2020-01-26     Afghanistan             NaN          0          0       0\n",
       "6  2020-01-27     Afghanistan             NaN          0          0       0\n",
       "7  2020-01-28     Afghanistan             NaN          0          0       0"
      ]
     },
     "execution_count": 3,
     "metadata": {},
     "output_type": "execute_result"
    }
   ],
   "source": [
    "# Preview the first 8 rows of the dataset and the last 11 rows of the dataset\n",
    "firstEight= pd.read_csv('time-series-19-covid-combined.csv', skiprows=[i for i in range(8,2269016)],names = columns)\n",
    "firstEight"
   ]
  },
  {
   "cell_type": "code",
   "execution_count": 4,
   "metadata": {},
   "outputs": [
    {
     "data": {
      "text/html": [
       "<div>\n",
       "<style scoped>\n",
       "    .dataframe tbody tr th:only-of-type {\n",
       "        vertical-align: middle;\n",
       "    }\n",
       "\n",
       "    .dataframe tbody tr th {\n",
       "        vertical-align: top;\n",
       "    }\n",
       "\n",
       "    .dataframe thead th {\n",
       "        text-align: right;\n",
       "    }\n",
       "</style>\n",
       "<table border=\"1\" class=\"dataframe\">\n",
       "  <thead>\n",
       "    <tr style=\"text-align: right;\">\n",
       "      <th></th>\n",
       "      <th>Date</th>\n",
       "      <th>Country/Region</th>\n",
       "      <th>Province/State</th>\n",
       "      <th>Confirmed</th>\n",
       "      <th>Recovered</th>\n",
       "      <th>Deaths</th>\n",
       "    </tr>\n",
       "  </thead>\n",
       "  <tbody>\n",
       "    <tr>\n",
       "      <th>0</th>\n",
       "      <td>2022-03-20</td>\n",
       "      <td>Zimbabwe</td>\n",
       "      <td>NaN</td>\n",
       "      <td>244452</td>\n",
       "      <td>0</td>\n",
       "      <td>5426</td>\n",
       "    </tr>\n",
       "    <tr>\n",
       "      <th>1</th>\n",
       "      <td>2022-03-21</td>\n",
       "      <td>Zimbabwe</td>\n",
       "      <td>NaN</td>\n",
       "      <td>244685</td>\n",
       "      <td>0</td>\n",
       "      <td>5429</td>\n",
       "    </tr>\n",
       "    <tr>\n",
       "      <th>2</th>\n",
       "      <td>2022-03-22</td>\n",
       "      <td>Zimbabwe</td>\n",
       "      <td>NaN</td>\n",
       "      <td>244685</td>\n",
       "      <td>0</td>\n",
       "      <td>5429</td>\n",
       "    </tr>\n",
       "    <tr>\n",
       "      <th>3</th>\n",
       "      <td>2022-03-23</td>\n",
       "      <td>Zimbabwe</td>\n",
       "      <td>NaN</td>\n",
       "      <td>244958</td>\n",
       "      <td>0</td>\n",
       "      <td>5432</td>\n",
       "    </tr>\n",
       "    <tr>\n",
       "      <th>4</th>\n",
       "      <td>2022-03-24</td>\n",
       "      <td>Zimbabwe</td>\n",
       "      <td>NaN</td>\n",
       "      <td>245194</td>\n",
       "      <td>0</td>\n",
       "      <td>5432</td>\n",
       "    </tr>\n",
       "    <tr>\n",
       "      <th>5</th>\n",
       "      <td>2022-03-25</td>\n",
       "      <td>Zimbabwe</td>\n",
       "      <td>NaN</td>\n",
       "      <td>245645</td>\n",
       "      <td>0</td>\n",
       "      <td>5436</td>\n",
       "    </tr>\n",
       "    <tr>\n",
       "      <th>6</th>\n",
       "      <td>2022-03-26</td>\n",
       "      <td>Zimbabwe</td>\n",
       "      <td>NaN</td>\n",
       "      <td>245645</td>\n",
       "      <td>0</td>\n",
       "      <td>5436</td>\n",
       "    </tr>\n",
       "    <tr>\n",
       "      <th>7</th>\n",
       "      <td>2022-03-27</td>\n",
       "      <td>Zimbabwe</td>\n",
       "      <td>NaN</td>\n",
       "      <td>245820</td>\n",
       "      <td>0</td>\n",
       "      <td>5438</td>\n",
       "    </tr>\n",
       "    <tr>\n",
       "      <th>8</th>\n",
       "      <td>2022-03-28</td>\n",
       "      <td>Zimbabwe</td>\n",
       "      <td>NaN</td>\n",
       "      <td>245927</td>\n",
       "      <td>0</td>\n",
       "      <td>5438</td>\n",
       "    </tr>\n",
       "    <tr>\n",
       "      <th>9</th>\n",
       "      <td>2022-03-29</td>\n",
       "      <td>Zimbabwe</td>\n",
       "      <td>NaN</td>\n",
       "      <td>246042</td>\n",
       "      <td>0</td>\n",
       "      <td>5439</td>\n",
       "    </tr>\n",
       "    <tr>\n",
       "      <th>10</th>\n",
       "      <td>2022-03-30</td>\n",
       "      <td>Zimbabwe</td>\n",
       "      <td>NaN</td>\n",
       "      <td>246182</td>\n",
       "      <td>0</td>\n",
       "      <td>5440</td>\n",
       "    </tr>\n",
       "  </tbody>\n",
       "</table>\n",
       "</div>"
      ],
      "text/plain": [
       "          Date Country/Region  Province/State  Confirmed  Recovered  Deaths\n",
       "0   2022-03-20       Zimbabwe             NaN     244452          0    5426\n",
       "1   2022-03-21       Zimbabwe             NaN     244685          0    5429\n",
       "2   2022-03-22       Zimbabwe             NaN     244685          0    5429\n",
       "3   2022-03-23       Zimbabwe             NaN     244958          0    5432\n",
       "4   2022-03-24       Zimbabwe             NaN     245194          0    5432\n",
       "5   2022-03-25       Zimbabwe             NaN     245645          0    5436\n",
       "6   2022-03-26       Zimbabwe             NaN     245645          0    5436\n",
       "7   2022-03-27       Zimbabwe             NaN     245820          0    5438\n",
       "8   2022-03-28       Zimbabwe             NaN     245927          0    5438\n",
       "9   2022-03-29       Zimbabwe             NaN     246042          0    5439\n",
       "10  2022-03-30       Zimbabwe             NaN     246182          0    5440"
      ]
     },
     "execution_count": 4,
     "metadata": {},
     "output_type": "execute_result"
    }
   ],
   "source": [
    "lastEleven= pd.read_csv('time-series-19-covid-combined.csv', skiprows=226906,names = columns)\n",
    "lastEleven"
   ]
  },
  {
   "cell_type": "markdown",
   "metadata": {},
   "source": [
    "### 3 - Quickly describe the dataset:\n",
    "- Description of dataset\n",
    "- Number of rows/columns\n",
    "- Preview the last 7 rows of the dataset\n",
    "- Description of features\n",
    "- Missing data (if any)\n",
    "- Data types  \n",
    "\n",
    "This is the very first step towards the exploratory analysis."
   ]
  },
  {
   "cell_type": "markdown",
   "metadata": {},
   "source": [
    "#### Description of the Dataset\n",
    "\n",
    "In this document, the many linked charts, our COVID-19 Data Explorer, and the Complete COVID-19 dataset we report and visualize the data on confirmed cases and deaths from Johns Hopkins University (JHU). \n",
    "\n"
   ]
  },
  {
   "cell_type": "code",
   "execution_count": 5,
   "metadata": {},
   "outputs": [
    {
     "name": "stdout",
     "output_type": "stream",
     "text": [
      "Total Registers (ROWS): 226917\n",
      "Total Attributes (COLUMNS): 6\n"
     ]
    },
    {
     "data": {
      "text/html": [
       "<div>\n",
       "<style scoped>\n",
       "    .dataframe tbody tr th:only-of-type {\n",
       "        vertical-align: middle;\n",
       "    }\n",
       "\n",
       "    .dataframe tbody tr th {\n",
       "        vertical-align: top;\n",
       "    }\n",
       "\n",
       "    .dataframe thead th {\n",
       "        text-align: right;\n",
       "    }\n",
       "</style>\n",
       "<table border=\"1\" class=\"dataframe\">\n",
       "  <thead>\n",
       "    <tr style=\"text-align: right;\">\n",
       "      <th></th>\n",
       "      <th>Date</th>\n",
       "      <th>Country/Region</th>\n",
       "      <th>Province/State</th>\n",
       "      <th>Confirmed</th>\n",
       "      <th>Recovered</th>\n",
       "      <th>Deaths</th>\n",
       "    </tr>\n",
       "  </thead>\n",
       "  <tbody>\n",
       "    <tr>\n",
       "      <th>0</th>\n",
       "      <td>2022-03-24</td>\n",
       "      <td>Zimbabwe</td>\n",
       "      <td>NaN</td>\n",
       "      <td>245194</td>\n",
       "      <td>0</td>\n",
       "      <td>5432</td>\n",
       "    </tr>\n",
       "    <tr>\n",
       "      <th>1</th>\n",
       "      <td>2022-03-25</td>\n",
       "      <td>Zimbabwe</td>\n",
       "      <td>NaN</td>\n",
       "      <td>245645</td>\n",
       "      <td>0</td>\n",
       "      <td>5436</td>\n",
       "    </tr>\n",
       "    <tr>\n",
       "      <th>2</th>\n",
       "      <td>2022-03-26</td>\n",
       "      <td>Zimbabwe</td>\n",
       "      <td>NaN</td>\n",
       "      <td>245645</td>\n",
       "      <td>0</td>\n",
       "      <td>5436</td>\n",
       "    </tr>\n",
       "    <tr>\n",
       "      <th>3</th>\n",
       "      <td>2022-03-27</td>\n",
       "      <td>Zimbabwe</td>\n",
       "      <td>NaN</td>\n",
       "      <td>245820</td>\n",
       "      <td>0</td>\n",
       "      <td>5438</td>\n",
       "    </tr>\n",
       "    <tr>\n",
       "      <th>4</th>\n",
       "      <td>2022-03-28</td>\n",
       "      <td>Zimbabwe</td>\n",
       "      <td>NaN</td>\n",
       "      <td>245927</td>\n",
       "      <td>0</td>\n",
       "      <td>5438</td>\n",
       "    </tr>\n",
       "    <tr>\n",
       "      <th>5</th>\n",
       "      <td>2022-03-29</td>\n",
       "      <td>Zimbabwe</td>\n",
       "      <td>NaN</td>\n",
       "      <td>246042</td>\n",
       "      <td>0</td>\n",
       "      <td>5439</td>\n",
       "    </tr>\n",
       "    <tr>\n",
       "      <th>6</th>\n",
       "      <td>2022-03-30</td>\n",
       "      <td>Zimbabwe</td>\n",
       "      <td>NaN</td>\n",
       "      <td>246182</td>\n",
       "      <td>0</td>\n",
       "      <td>5440</td>\n",
       "    </tr>\n",
       "  </tbody>\n",
       "</table>\n",
       "</div>"
      ],
      "text/plain": [
       "         Date Country/Region  Province/State  Confirmed  Recovered  Deaths\n",
       "0  2022-03-24       Zimbabwe             NaN     245194          0    5432\n",
       "1  2022-03-25       Zimbabwe             NaN     245645          0    5436\n",
       "2  2022-03-26       Zimbabwe             NaN     245645          0    5436\n",
       "3  2022-03-27       Zimbabwe             NaN     245820          0    5438\n",
       "4  2022-03-28       Zimbabwe             NaN     245927          0    5438\n",
       "5  2022-03-29       Zimbabwe             NaN     246042          0    5439\n",
       "6  2022-03-30       Zimbabwe             NaN     246182          0    5440"
      ]
     },
     "execution_count": 5,
     "metadata": {},
     "output_type": "execute_result"
    }
   ],
   "source": [
    "print('Total Registers (ROWS):', DataSet.shape[0])\n",
    "print('Total Attributes (COLUMNS):', DataSet.shape[1])\n",
    "\n",
    "lastSeven= pd.read_csv('time-series-19-covid-combined.csv', skiprows=226910,names = columns)\n",
    "lastSeven\n",
    "\n"
   ]
  },
  {
   "cell_type": "code",
   "execution_count": 24,
   "metadata": {},
   "outputs": [
    {
     "name": "stdout",
     "output_type": "stream",
     "text": [
      "DESCRIPTION OF FEATURES\n",
      "Date is the date where COVID cases, recoveries and decease have been reported.\n",
      "Country/Region are the countries of interest in our data set.\n",
      "Province/State are the provinces of the countries of interest in our data set\n",
      "Confirmed refers to the confirmed cases of COVID-19.\n",
      "Recovered refers to the confirmed recoveries of COVID-19.\n",
      "Deaths refers to the confirmed deaths due to COVID-19.\n"
     ]
    }
   ],
   "source": [
    "print('DESCRIPTION OF FEATURES')\n",
    "print(columns[0]+' is the date where COVID cases, recoveries and decease have been reported.')\n",
    "print(columns[1]+' are the countries of interest in our data set.')\n",
    "print(columns[2]+' are the provinces of the countries of interest in our data set')\n",
    "print(columns[3]+' refers to the confirmed cases of COVID-19.')\n",
    "print(columns[4]+' refers to the confirmed recoveries of COVID-19.')\n",
    "print(columns[5]+' refers to the confirmed deaths due to COVID-19.')"
   ]
  },
  {
   "cell_type": "code",
   "execution_count": 25,
   "metadata": {},
   "outputs": [
    {
     "data": {
      "text/html": [
       "<div>\n",
       "<style scoped>\n",
       "    .dataframe tbody tr th:only-of-type {\n",
       "        vertical-align: middle;\n",
       "    }\n",
       "\n",
       "    .dataframe tbody tr th {\n",
       "        vertical-align: top;\n",
       "    }\n",
       "\n",
       "    .dataframe thead th {\n",
       "        text-align: right;\n",
       "    }\n",
       "</style>\n",
       "<table border=\"1\" class=\"dataframe\">\n",
       "  <thead>\n",
       "    <tr style=\"text-align: right;\">\n",
       "      <th></th>\n",
       "      <th>Date</th>\n",
       "      <th>Country/Region</th>\n",
       "      <th>Province/State</th>\n",
       "      <th>Confirmed</th>\n",
       "      <th>Recovered</th>\n",
       "      <th>Deaths</th>\n",
       "    </tr>\n",
       "  </thead>\n",
       "  <tbody>\n",
       "    <tr>\n",
       "      <th>0</th>\n",
       "      <td>False</td>\n",
       "      <td>False</td>\n",
       "      <td>False</td>\n",
       "      <td>False</td>\n",
       "      <td>False</td>\n",
       "      <td>False</td>\n",
       "    </tr>\n",
       "    <tr>\n",
       "      <th>1</th>\n",
       "      <td>False</td>\n",
       "      <td>False</td>\n",
       "      <td>True</td>\n",
       "      <td>False</td>\n",
       "      <td>False</td>\n",
       "      <td>False</td>\n",
       "    </tr>\n",
       "    <tr>\n",
       "      <th>2</th>\n",
       "      <td>False</td>\n",
       "      <td>False</td>\n",
       "      <td>True</td>\n",
       "      <td>False</td>\n",
       "      <td>False</td>\n",
       "      <td>False</td>\n",
       "    </tr>\n",
       "    <tr>\n",
       "      <th>3</th>\n",
       "      <td>False</td>\n",
       "      <td>False</td>\n",
       "      <td>True</td>\n",
       "      <td>False</td>\n",
       "      <td>False</td>\n",
       "      <td>False</td>\n",
       "    </tr>\n",
       "    <tr>\n",
       "      <th>4</th>\n",
       "      <td>False</td>\n",
       "      <td>False</td>\n",
       "      <td>True</td>\n",
       "      <td>False</td>\n",
       "      <td>False</td>\n",
       "      <td>False</td>\n",
       "    </tr>\n",
       "    <tr>\n",
       "      <th>...</th>\n",
       "      <td>...</td>\n",
       "      <td>...</td>\n",
       "      <td>...</td>\n",
       "      <td>...</td>\n",
       "      <td>...</td>\n",
       "      <td>...</td>\n",
       "    </tr>\n",
       "    <tr>\n",
       "      <th>226912</th>\n",
       "      <td>False</td>\n",
       "      <td>False</td>\n",
       "      <td>True</td>\n",
       "      <td>False</td>\n",
       "      <td>False</td>\n",
       "      <td>False</td>\n",
       "    </tr>\n",
       "    <tr>\n",
       "      <th>226913</th>\n",
       "      <td>False</td>\n",
       "      <td>False</td>\n",
       "      <td>True</td>\n",
       "      <td>False</td>\n",
       "      <td>False</td>\n",
       "      <td>False</td>\n",
       "    </tr>\n",
       "    <tr>\n",
       "      <th>226914</th>\n",
       "      <td>False</td>\n",
       "      <td>False</td>\n",
       "      <td>True</td>\n",
       "      <td>False</td>\n",
       "      <td>False</td>\n",
       "      <td>False</td>\n",
       "    </tr>\n",
       "    <tr>\n",
       "      <th>226915</th>\n",
       "      <td>False</td>\n",
       "      <td>False</td>\n",
       "      <td>True</td>\n",
       "      <td>False</td>\n",
       "      <td>False</td>\n",
       "      <td>False</td>\n",
       "    </tr>\n",
       "    <tr>\n",
       "      <th>226916</th>\n",
       "      <td>False</td>\n",
       "      <td>False</td>\n",
       "      <td>True</td>\n",
       "      <td>False</td>\n",
       "      <td>False</td>\n",
       "      <td>False</td>\n",
       "    </tr>\n",
       "  </tbody>\n",
       "</table>\n",
       "<p>226917 rows × 6 columns</p>\n",
       "</div>"
      ],
      "text/plain": [
       "         Date  Country/Region  Province/State  Confirmed  Recovered  Deaths\n",
       "0       False           False           False      False      False   False\n",
       "1       False           False            True      False      False   False\n",
       "2       False           False            True      False      False   False\n",
       "3       False           False            True      False      False   False\n",
       "4       False           False            True      False      False   False\n",
       "...       ...             ...             ...        ...        ...     ...\n",
       "226912  False           False            True      False      False   False\n",
       "226913  False           False            True      False      False   False\n",
       "226914  False           False            True      False      False   False\n",
       "226915  False           False            True      False      False   False\n",
       "226916  False           False            True      False      False   False\n",
       "\n",
       "[226917 rows x 6 columns]"
      ]
     },
     "execution_count": 25,
     "metadata": {},
     "output_type": "execute_result"
    }
   ],
   "source": [
    "DataSet.isnull()\n",
    "\n"
   ]
  },
  {
   "cell_type": "code",
   "execution_count": 26,
   "metadata": {},
   "outputs": [
    {
     "data": {
      "text/plain": [
       "Date              object\n",
       "Country/Region    object\n",
       "Province/State    object\n",
       "Confirmed         object\n",
       "Recovered         object\n",
       "Deaths            object\n",
       "dtype: object"
      ]
     },
     "execution_count": 26,
     "metadata": {},
     "output_type": "execute_result"
    }
   ],
   "source": [
    "DataSet.dtypes"
   ]
  },
  {
   "cell_type": "markdown",
   "metadata": {},
   "source": [
    "### 4 - Convert your dataset into a Pandas Object (Pandas DataFrame) and execute: print(dataset.describe()). What attributes are mentioned and why?\n",
    "What information is displayed? Provide a clear explanation of it."
   ]
  },
  {
   "cell_type": "code",
   "execution_count": 27,
   "metadata": {},
   "outputs": [
    {
     "data": {
      "text/html": [
       "<div>\n",
       "<style scoped>\n",
       "    .dataframe tbody tr th:only-of-type {\n",
       "        vertical-align: middle;\n",
       "    }\n",
       "\n",
       "    .dataframe tbody tr th {\n",
       "        vertical-align: top;\n",
       "    }\n",
       "\n",
       "    .dataframe thead th {\n",
       "        text-align: right;\n",
       "    }\n",
       "</style>\n",
       "<table border=\"1\" class=\"dataframe\">\n",
       "  <thead>\n",
       "    <tr style=\"text-align: right;\">\n",
       "      <th></th>\n",
       "      <th>Date</th>\n",
       "      <th>Country/Region</th>\n",
       "      <th>Province/State</th>\n",
       "      <th>Confirmed</th>\n",
       "      <th>Recovered</th>\n",
       "      <th>Deaths</th>\n",
       "    </tr>\n",
       "  </thead>\n",
       "  <tbody>\n",
       "    <tr>\n",
       "      <th>count</th>\n",
       "      <td>226917</td>\n",
       "      <td>226917</td>\n",
       "      <td>71112</td>\n",
       "      <td>226917</td>\n",
       "      <td>214133</td>\n",
       "      <td>226917</td>\n",
       "    </tr>\n",
       "    <tr>\n",
       "      <th>unique</th>\n",
       "      <td>800</td>\n",
       "      <td>199</td>\n",
       "      <td>90</td>\n",
       "      <td>87314</td>\n",
       "      <td>44178</td>\n",
       "      <td>29388</td>\n",
       "    </tr>\n",
       "    <tr>\n",
       "      <th>top</th>\n",
       "      <td>2021-02-24</td>\n",
       "      <td>China</td>\n",
       "      <td>Macau</td>\n",
       "      <td>0</td>\n",
       "      <td>0</td>\n",
       "      <td>0</td>\n",
       "    </tr>\n",
       "    <tr>\n",
       "      <th>freq</th>\n",
       "      <td>284</td>\n",
       "      <td>27166</td>\n",
       "      <td>799</td>\n",
       "      <td>18611</td>\n",
       "      <td>87861</td>\n",
       "      <td>45675</td>\n",
       "    </tr>\n",
       "  </tbody>\n",
       "</table>\n",
       "</div>"
      ],
      "text/plain": [
       "              Date Country/Region Province/State Confirmed Recovered  Deaths\n",
       "count       226917         226917          71112    226917    214133  226917\n",
       "unique         800            199             90     87314     44178   29388\n",
       "top     2021-02-24          China          Macau         0         0       0\n",
       "freq           284          27166            799     18611     87861   45675"
      ]
     },
     "execution_count": 27,
     "metadata": {},
     "output_type": "execute_result"
    }
   ],
   "source": [
    "# Dataset.describe()\n",
    "DataSet = pd.DataFrame(DataSet)\n",
    "DataSet.describe()"
   ]
  },
  {
   "cell_type": "markdown",
   "metadata": {},
   "source": [
    "### 5 - Compute mean, median and standard deviation for three features of the dataset. _Use a for loop_ to generate the information. What can you conclude with the information?\n",
    "Don't forget the units of measurement."
   ]
  },
  {
   "cell_type": "code",
   "execution_count": 41,
   "metadata": {},
   "outputs": [
    {
     "name": "stdout",
     "output_type": "stream",
     "text": [
      "Indexed by Confirmed\n",
      "Mean of total cases: 486933.4297317069\n",
      "Median of total cases: 5333.0\n",
      "Standard Deviation of total cases: 2877439.9538756423\n",
      "Indexed by Recovered\n",
      "Mean of total cases: 108471.44555227617\n",
      "Median of total cases: 75.0\n",
      "Standard Deviation of total cases: 848483.3101250608\n",
      "Indexed by Deaths\n",
      "Mean of total cases: 9512.573586701687\n",
      "Median of total cases: 69.0\n",
      "Standard Deviation of total cases: 48752.511773361526\n"
     ]
    }
   ],
   "source": [
    "# Compute some statistics\n",
    "DataSet= pd.read_csv('time-series-19-covid-combined.csv', skiprows=1,names = columns)\n",
    "DataSet\n",
    "for i in range(3,6):\n",
    "    print('Indexed by '+columns[i])\n",
    "    print('Mean of total cases: '+str(DataSet[columns[i]].mean()))\n",
    "    print('Median of total cases: '+str(DataSet[columns[i]].median()))\n",
    "    print('Standard Deviation of total cases: '+str(DataSet[columns[i]].std()))\n",
    "    \n",
    "    "
   ]
  },
  {
   "cell_type": "markdown",
   "metadata": {},
   "source": [
    "### 6 -Calculate and visualise (At least three graphs) relations between variables, correlations. Provide a **clear** explanation of each graph.\n",
    "All graphs should include title, axis names and units of measurement."
   ]
  },
  {
   "cell_type": "code",
   "execution_count": 70,
   "metadata": {},
   "outputs": [
    {
     "data": {
      "text/plain": [
       "Text(0, 0.5, 'Number of Cases')"
      ]
     },
     "execution_count": 70,
     "metadata": {},
     "output_type": "execute_result"
    },
    {
     "data": {
      "image/png": "[encoded data removed]",
      "text/plain": [
       "<Figure size 1080x1080 with 3 Axes>"
      ]
     },
     "metadata": {
      "needs_background": "light"
     },
     "output_type": "display_data"
    }
   ],
   "source": [
    "fig = plt.figure(figsize = (15,15), )\n",
    "ax = fig.gca()\n",
    "plt.subplot(2,2,1)\n",
    "\n",
    "plt.hist(DataSet[columns[3]], bins = 15)\n",
    "\n",
    "plt.title('A Histogram of confirmed cases from the COVID-19 Data Set')\n",
    "plt.xlabel('Time [Units Undefined]')\n",
    "plt.ylabel('Number of Cases')\n",
    "\n",
    "plt.subplot(2,2,2)\n",
    "\n",
    "plt.hist(DataSet[columns[4]], bins = 15)\n",
    "\n",
    "plt.title('A Histogram of recovered cases from the COVID-19 Data Set')\n",
    "plt.xlabel('Time [Units Undefined]')\n",
    "plt.ylabel('Number of Cases')\n",
    "\n",
    "plt.subplot(2,2,3)\n",
    "\n",
    "plt.hist(DataSet[columns[5]], bins = 15)\n",
    "\n",
    "plt.title('A Histogram of decease cases from the COVID-19 Data Set')\n",
    "plt.xlabel('Time [Units Undefined]')\n",
    "plt.ylabel('Number of Cases')\n"
   ]
  },
  {
   "cell_type": "code",
   "execution_count": 71,
   "metadata": {},
   "outputs": [
    {
     "data": {
      "image/png": "[encoded data removed]",
      "text/plain": [
       "<Figure size 432x288 with 1 Axes>"
      ]
     },
     "metadata": {
      "needs_background": "light"
     },
     "output_type": "display_data"
    }
   ],
   "source": [
    "\n",
    "bins = np.linspace(0, 10, 20)\n",
    "\n",
    "plt.hist([DataSet[columns[3]], DataSet[columns[4]],DataSet[columns[5]]], bins, label=['Confirmed', 'Recovered','Deaths'])\n",
    "plt.legend(loc='upper left')\n",
    "plt.xlabel('Time [Units Undefined]')\n",
    "plt.ylabel('Number of Cases')\n",
    "plt.show()"
   ]
  },
  {
   "cell_type": "markdown",
   "metadata": {},
   "source": [
    "### Explanation\n",
    "As we can see, the time series shows how there is a clear existance of delay of Deaths after a certain time where the cases where confirmed. Nonetheless, it would be difficult to assure that the high number of recovered cases in the first entry is related to the current confirmed cases, due to the active period of the virus. In the individual histograms shown above, it is easy to observe how the scale behaves exponentially in time, reducing the sensibility of the data distribution."
   ]
  },
  {
   "cell_type": "markdown",
   "metadata": {},
   "source": [
    "---  \n",
    "\n",
    "\n",
    "##  FINAL INSTRUCTIONS\n",
    "\n",
    "- Save your work and make sure all your answers are correct and in good format.\n",
    "- Filename convention: **Midterm1_31Mar2022_<YOURNAME>.ipynb** \n",
    "           Example: Midterm1_31Mar2022_DanielReyna.ipynb\n",
    "                    Midterm1_31Mar2022_DanielReyna.pdf\n",
    "\n",
    "- Send both the .pdf and the .ipynb files to ** dreyna@tec.mx **\n",
    "- E-mail Subject: _Computational Neuroscience - Midterm 1 Exam_"
   ]
  },
  {
   "cell_type": "markdown",
   "metadata": {},
   "source": [
    " "
   ]
  },
  {
   "cell_type": "markdown",
   "metadata": {},
   "source": [
    " "
   ]
  },
  {
   "cell_type": "markdown",
   "metadata": {},
   "source": [
    "----\n",
    "\n",
    "Copyright (C) 2022  Tecnológico de Monterrey."
   ]
  }
 ],
 "metadata": {
  "kernelspec": {
   "display_name": "Python 3.8.10 64-bit",
   "language": "python",
   "name": "python3"
  },
  "language_info": {
   "codemirror_mode": {
    "name": "ipython",
    "version": 3
   },
   "file_extension": ".py",
   "mimetype": "text/x-python",
   "name": "python",
   "nbconvert_exporter": "python",
   "pygments_lexer": "ipython3",
   "version": "3.8.10"
  },
  "vscode": {
   "interpreter": {
    "hash": "916dbcbb3f70747c44a77c7bcd40155683ae19c65e1c03b4aa3499c5328201f1"
   }
  }
 },
 "nbformat": 4,
 "nbformat_minor": 2
}
