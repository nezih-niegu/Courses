{
  "nbformat": 4,
  "nbformat_minor": 0,
  "metadata": {
    "colab": {
      "provenance": []
    },
    "kernelspec": {
      "name": "python3",
      "display_name": "Python 3"
    },
    "accelerator": "GPU"
  },
  "cells": [
    {
      "cell_type": "markdown",
      "metadata": {
        "id": "ZUuP6ZAbYuh-"
      },
      "source": [
        "# Assignment 1: Backpropagation and Multilayer Perceptrons"
      ]
    },
    {
      "cell_type": "markdown",
      "metadata": {
        "id": "XrYwPCdqZiLV"
      },
      "source": [
        "Your Name: \n",
        "\n",
        "Name of the Students You Worked With:\n",
        "\n",
        "References You Consulted:"
      ]
    },
    {
      "cell_type": "markdown",
      "metadata": {
        "id": "9B3KIIQtZZNF"
      },
      "source": [
        "Feel free to use the Google Colab environment (https://colab.research.google.com/notebooks/welcome.ipynb) or follow the instructions on the course website (https://hms-dbmi.github.io/BMI_707/resources/) to setup python environment.\n",
        "\n",
        "## Part 1: Data Exploration (20 points)\n",
        "In this assignment, we will use a modified dataset from the Pima Indian Diabetes Database (https://www.kaggle.com/uciml/pima-indians-diabetes-database). This dataset is released under the CC0 1.0 Universal (CC0 1.0) Public Domain Dedication (https://creativecommons.org/publicdomain/zero/1.0/).\n",
        "\n",
        "Below is a brief data description of this dataset from Kaggle (https://www.kaggle.com/uciml/pima-indians-diabetes-database):\n",
        "\"This dataset is originally from the National Institute of Diabetes and Digestive and Kidney Diseases. The objective of the dataset is to diagnostically predict whether or not a patient has diabetes, based on certain diagnostic measurements included in the dataset. Several constraints were placed on the selection of these instances from a larger database. In particular, all patients here are females at least 21 years old of Pima Indian heritage.\" \"The dataset consists of several medical predictor variables and one target variable, Outcome. Predictor variables include the number of pregnancies the patient has had, their BMI, insulin level, age, and so on.\"\n",
        "\n",
        "**Please note that we have modified the dataset a little to simplify the analyses. Please use the code below to read in the modified files.**"
      ]
    },
    {
      "cell_type": "code",
      "metadata": {
        "id": "8VSpYmQTMkJ4"
      },
      "source": [
        "# import python packages\n",
        "import numpy as np              # linear algebra\n",
        "import pandas as pd             # to process the input files\n",
        "\n",
        "import matplotlib.pyplot as plt # for plotting\n",
        "%matplotlib inline\n"
      ],
      "execution_count": 40,
      "outputs": []
    },
    {
      "cell_type": "code",
      "metadata": {
        "id": "iaTLmw6fNfi-",
        "outputId": "cd56048b-3d8d-49d5-bd17-e5771ad16290",
        "colab": {
          "base_uri": "https://localhost:8080/",
          "height": 206
        }
      },
      "source": [
        "# read in the data files; please use these files, instead of the raw files from the Pima Indian Diabetes Database\n",
        "train_data = pd.read_csv('https://www.dropbox.com/s/n0jjos6faoyqncp/diabetesTrain.csv?dl=1')\n",
        "test_data = pd.read_csv('https://www.dropbox.com/s/6uu2754iqv4cxei/diabetesTest.csv?dl=1')\n",
        "\n",
        "# check the data files\n",
        "train_data.head()"
      ],
      "execution_count": 41,
      "outputs": [
        {
          "output_type": "execute_result",
          "data": {
            "text/plain": [
              "   Pregnancies  Glucose  BloodPressure  SkinThickness     Insulin   BMI  \\\n",
              "0            2     99.0           70.0      16.000000   44.000000  20.4   \n",
              "1            7    136.0           74.0      26.000000  135.000000  26.0   \n",
              "2            1     97.0           70.0      15.000000  153.777049  18.2   \n",
              "3            2     90.0           60.0      28.962963  153.777049  23.5   \n",
              "4            8    188.0           78.0      28.962963  153.777049  47.9   \n",
              "\n",
              "   DiabetesPedigreeFunction  Age  Outcome  \n",
              "0                     0.235   27        0  \n",
              "1                     0.647   51        0  \n",
              "2                     0.147   21        0  \n",
              "3                     0.191   25        0  \n",
              "4                     0.137   43        1  "
            ],
            "text/html": [
              "\n",
              "  <div id=\"df-348f9d5e-0737-4213-9453-12ce919bfa24\">\n",
              "    <div class=\"colab-df-container\">\n",
              "      <div>\n",
              "<style scoped>\n",
              "    .dataframe tbody tr th:only-of-type {\n",
              "        vertical-align: middle;\n",
              "    }\n",
              "\n",
              "    .dataframe tbody tr th {\n",
              "        vertical-align: top;\n",
              "    }\n",
              "\n",
              "    .dataframe thead th {\n",
              "        text-align: right;\n",
              "    }\n",
              "</style>\n",
              "<table border=\"1\" class=\"dataframe\">\n",
              "  <thead>\n",
              "    <tr style=\"text-align: right;\">\n",
              "      <th></th>\n",
              "      <th>Pregnancies</th>\n",
              "      <th>Glucose</th>\n",
              "      <th>BloodPressure</th>\n",
              "      <th>SkinThickness</th>\n",
              "      <th>Insulin</th>\n",
              "      <th>BMI</th>\n",
              "      <th>DiabetesPedigreeFunction</th>\n",
              "      <th>Age</th>\n",
              "      <th>Outcome</th>\n",
              "    </tr>\n",
              "  </thead>\n",
              "  <tbody>\n",
              "    <tr>\n",
              "      <th>0</th>\n",
              "      <td>2</td>\n",
              "      <td>99.0</td>\n",
              "      <td>70.0</td>\n",
              "      <td>16.000000</td>\n",
              "      <td>44.000000</td>\n",
              "      <td>20.4</td>\n",
              "      <td>0.235</td>\n",
              "      <td>27</td>\n",
              "      <td>0</td>\n",
              "    </tr>\n",
              "    <tr>\n",
              "      <th>1</th>\n",
              "      <td>7</td>\n",
              "      <td>136.0</td>\n",
              "      <td>74.0</td>\n",
              "      <td>26.000000</td>\n",
              "      <td>135.000000</td>\n",
              "      <td>26.0</td>\n",
              "      <td>0.647</td>\n",
              "      <td>51</td>\n",
              "      <td>0</td>\n",
              "    </tr>\n",
              "    <tr>\n",
              "      <th>2</th>\n",
              "      <td>1</td>\n",
              "      <td>97.0</td>\n",
              "      <td>70.0</td>\n",
              "      <td>15.000000</td>\n",
              "      <td>153.777049</td>\n",
              "      <td>18.2</td>\n",
              "      <td>0.147</td>\n",
              "      <td>21</td>\n",
              "      <td>0</td>\n",
              "    </tr>\n",
              "    <tr>\n",
              "      <th>3</th>\n",
              "      <td>2</td>\n",
              "      <td>90.0</td>\n",
              "      <td>60.0</td>\n",
              "      <td>28.962963</td>\n",
              "      <td>153.777049</td>\n",
              "      <td>23.5</td>\n",
              "      <td>0.191</td>\n",
              "      <td>25</td>\n",
              "      <td>0</td>\n",
              "    </tr>\n",
              "    <tr>\n",
              "      <th>4</th>\n",
              "      <td>8</td>\n",
              "      <td>188.0</td>\n",
              "      <td>78.0</td>\n",
              "      <td>28.962963</td>\n",
              "      <td>153.777049</td>\n",
              "      <td>47.9</td>\n",
              "      <td>0.137</td>\n",
              "      <td>43</td>\n",
              "      <td>1</td>\n",
              "    </tr>\n",
              "  </tbody>\n",
              "</table>\n",
              "</div>\n",
              "      <button class=\"colab-df-convert\" onclick=\"convertToInteractive('df-348f9d5e-0737-4213-9453-12ce919bfa24')\"\n",
              "              title=\"Convert this dataframe to an interactive table.\"\n",
              "              style=\"display:none;\">\n",
              "        \n",
              "  <svg xmlns=\"http://www.w3.org/2000/svg\" height=\"24px\"viewBox=\"0 0 24 24\"\n",
              "       width=\"24px\">\n",
              "    <path d=\"M0 0h24v24H0V0z\" fill=\"none\"/>\n",
              "    <path d=\"M18.56 5.44l.94 2.06.94-2.06 2.06-.94-2.06-.94-.94-2.06-.94 2.06-2.06.94zm-11 1L8.5 8.5l.94-2.06 2.06-.94-2.06-.94L8.5 2.5l-.94 2.06-2.06.94zm10 10l.94 2.06.94-2.06 2.06-.94-2.06-.94-.94-2.06-.94 2.06-2.06.94z\"/><path d=\"M17.41 7.96l-1.37-1.37c-.4-.4-.92-.59-1.43-.59-.52 0-1.04.2-1.43.59L10.3 9.45l-7.72 7.72c-.78.78-.78 2.05 0 2.83L4 21.41c.39.39.9.59 1.41.59.51 0 1.02-.2 1.41-.59l7.78-7.78 2.81-2.81c.8-.78.8-2.07 0-2.86zM5.41 20L4 18.59l7.72-7.72 1.47 1.35L5.41 20z\"/>\n",
              "  </svg>\n",
              "      </button>\n",
              "      \n",
              "  <style>\n",
              "    .colab-df-container {\n",
              "      display:flex;\n",
              "      flex-wrap:wrap;\n",
              "      gap: 12px;\n",
              "    }\n",
              "\n",
              "    .colab-df-convert {\n",
              "      background-color: #E8F0FE;\n",
              "      border: none;\n",
              "      border-radius: 50%;\n",
              "      cursor: pointer;\n",
              "      display: none;\n",
              "      fill: #1967D2;\n",
              "      height: 32px;\n",
              "      padding: 0 0 0 0;\n",
              "      width: 32px;\n",
              "    }\n",
              "\n",
              "    .colab-df-convert:hover {\n",
              "      background-color: #E2EBFA;\n",
              "      box-shadow: 0px 1px 2px rgba(60, 64, 67, 0.3), 0px 1px 3px 1px rgba(60, 64, 67, 0.15);\n",
              "      fill: #174EA6;\n",
              "    }\n",
              "\n",
              "    [theme=dark] .colab-df-convert {\n",
              "      background-color: #3B4455;\n",
              "      fill: #D2E3FC;\n",
              "    }\n",
              "\n",
              "    [theme=dark] .colab-df-convert:hover {\n",
              "      background-color: #434B5C;\n",
              "      box-shadow: 0px 1px 3px 1px rgba(0, 0, 0, 0.15);\n",
              "      filter: drop-shadow(0px 1px 2px rgba(0, 0, 0, 0.3));\n",
              "      fill: #FFFFFF;\n",
              "    }\n",
              "  </style>\n",
              "\n",
              "      <script>\n",
              "        const buttonEl =\n",
              "          document.querySelector('#df-348f9d5e-0737-4213-9453-12ce919bfa24 button.colab-df-convert');\n",
              "        buttonEl.style.display =\n",
              "          google.colab.kernel.accessAllowed ? 'block' : 'none';\n",
              "\n",
              "        async function convertToInteractive(key) {\n",
              "          const element = document.querySelector('#df-348f9d5e-0737-4213-9453-12ce919bfa24');\n",
              "          const dataTable =\n",
              "            await google.colab.kernel.invokeFunction('convertToInteractive',\n",
              "                                                     [key], {});\n",
              "          if (!dataTable) return;\n",
              "\n",
              "          const docLinkHtml = 'Like what you see? Visit the ' +\n",
              "            '<a target=\"_blank\" href=https://colab.research.google.com/notebooks/data_table.ipynb>data table notebook</a>'\n",
              "            + ' to learn more about interactive tables.';\n",
              "          element.innerHTML = '';\n",
              "          dataTable['output_type'] = 'display_data';\n",
              "          await google.colab.output.renderOutput(dataTable, element);\n",
              "          const docLink = document.createElement('div');\n",
              "          docLink.innerHTML = docLinkHtml;\n",
              "          element.appendChild(docLink);\n",
              "        }\n",
              "      </script>\n",
              "    </div>\n",
              "  </div>\n",
              "  "
            ]
          },
          "metadata": {},
          "execution_count": 41
        }
      ]
    },
    {
      "cell_type": "code",
      "metadata": {
        "id": "TBO8azPZWfbC"
      },
      "source": [
        "# construct the design matrix for the input features and the outcome vector\n",
        "features = list(train_data.columns.values)\n",
        "features.remove('Outcome')\n",
        "X_train = train_data[features]\n",
        "y_train = train_data['Outcome']\n",
        "X_val = test_data[features]\n",
        "y_val = test_data['Outcome']"
      ],
      "execution_count": 42,
      "outputs": []
    },
    {
      "cell_type": "markdown",
      "metadata": {
        "id": "E7VOsiOfZ5cq"
      },
      "source": [
        "### Question 1.1: How many people have outcome \"1\" (diabetes) in the training set? How many people do not have diabetes in the training set? (5 points)\n",
        "Hint: The Pandas library has some handy functions for this task.\n"
      ]
    },
    {
      "cell_type": "code",
      "metadata": {
        "id": "b5klhV2MaCHe",
        "outputId": "1caa6cca-a249-438d-b977-bf203869202c",
        "colab": {
          "base_uri": "https://localhost:8080/"
        }
      },
      "source": [
        "########## Your code ##########\n",
        "\n",
        "print(\"Number of People with Outcome = 1 is \"+str(y_train.value_counts()[1]))"
      ],
      "execution_count": 43,
      "outputs": [
        {
          "output_type": "stream",
          "name": "stdout",
          "text": [
            "Number of People with Outcome = 1 is 219\n"
          ]
        }
      ]
    },
    {
      "cell_type": "markdown",
      "metadata": {
        "id": "7uSGi7TaakZ-"
      },
      "source": [
        "### Question 1.2: What's the median BMI in the training cohort? What's the median BMI among diabetic and non-diabetic patients in the training and test set, respectively? (5 points)\n",
        "Hint: Feel free to use the Statistics library in Python\n",
        "\n"
      ]
    },
    {
      "cell_type": "code",
      "metadata": {
        "id": "qk-C4Uj1avIa",
        "outputId": "389a81cb-3825-4ba2-9431-17dc786e48c2",
        "colab": {
          "base_uri": "https://localhost:8080/"
        }
      },
      "source": [
        "########## Your code ##########\n",
        "print(\"Train Data: BMI Median = \"+str(train_data['BMI'].median()))\n",
        "print(\"Train Data: Non-Diabetic BMI Median = \"+str(train_data.loc[train_data['Outcome'] == 0, 'BMI'].median()))\n",
        "print(\"Train Data: Diabetic BMI Median = \"+str(train_data.loc[train_data['Outcome'] == 1, 'BMI'].median()))\n",
        "\n",
        "print(\"Test Data: BMI Median = \"+str(test_data['BMI'].median()))\n",
        "print(\"Test Data: Non-Diabetic BMI Median = \"+str(test_data.loc[test_data['Outcome'] == 0, 'BMI'].median()))\n",
        "print(\"Test Data: Diabetic BMI Median = \"+str(test_data.loc[test_data['Outcome'] == 1, 'BMI'].median()))\n"
      ],
      "execution_count": 44,
      "outputs": [
        {
          "output_type": "stream",
          "name": "stdout",
          "text": [
            "Train Data: BMI Median = 32.349999999999994\n",
            "Train Data: Non-Diabetic BMI Median = 30.1\n",
            "Train Data: Diabetic BMI Median = 34.3\n",
            "Test Data: BMI Median = 32.6633333333333\n",
            "Test Data: Non-Diabetic BMI Median = 31.6\n",
            "Test Data: Diabetic BMI Median = 33.9\n"
          ]
        }
      ]
    },
    {
      "cell_type": "markdown",
      "metadata": {
        "id": "mgdI0qfucJyb"
      },
      "source": [
        "### Question 1.3: Is BMI associated with diabetes in the training cohort? Why? (5 points)\n",
        "Hint: Feel free to use any statistical test, but be sure to **mention the assumption(s) of the test you chose**.\n",
        "\n",
        "Word limit: 100 words."
      ]
    },
    {
      "cell_type": "code",
      "metadata": {
        "id": "fVuqFn8IfBe7",
        "outputId": "ac81df95-8124-4a12-f39f-102912a6c189",
        "colab": {
          "base_uri": "https://localhost:8080/"
        }
      },
      "source": [
        "########## Your answer ##########\n",
        "# Many possible solutions. Below are two examples.\n",
        "\n",
        "import numpy as np\n",
        "import matplotlib.pyplot as plt\n",
        "\n",
        "# Covariance\n",
        "x = train_data['BMI']\n",
        "y = train_data['Outcome']\n",
        "covariance = np.cov(x, y)\n",
        "print('Covariance: '+ str(covariance[1,0]))\n",
        "\n",
        "\n",
        "# Pearson's Correlation\n",
        "from scipy.stats import pearsonr\n",
        "corr, p = pearsonr(x, y)\n",
        "print(\"Pearson's correlation: %.3f\" % corr)\n",
        "alpha = 0.05\n",
        "if p > alpha:\n",
        " print('Samples are uncorrelated (fail to reject H0) p=%f' % p)\n",
        "else:\n",
        " print('Samples are correlated (reject H0) p=%f' % p)\n",
        "# Spearman's Correlation\n",
        "from scipy.stats import spearmanr\n",
        "corr, p = spearmanr(x, y)\n",
        "print(\"Spearman's correlation: %f\" % corr)\n",
        "alpha = 0.05\n",
        "if p > alpha:\n",
        " print('Samples are uncorrelated (fail to reject H0) p=%f' % p)\n",
        "else:\n",
        " print('Samples are correlated (reject H0) p=%f' % p)\n",
        "\n",
        "# Kendall's Correlation\n",
        "from scipy.stats import kendalltau\n",
        "corr, p = kendalltau(x, y)\n",
        "print(\"Kendall's correlation: %f\" % corr)\n",
        "alpha = 0.05\n",
        "if p > alpha:\n",
        " print('Samples are uncorrelated (fail to reject H0) p=%f' % p)\n",
        "else:\n",
        " print('Samples are correlated (reject H0) p=%f' % p)\n"
      ],
      "execution_count": 45,
      "outputs": [
        {
          "output_type": "stream",
          "name": "stdout",
          "text": [
            "Covariance: 1.1121859975113617\n",
            "Pearson's correlation: 0.333\n",
            "Samples are correlated (reject H0) p=0.000000\n",
            "Spearman's correlation: 0.324910\n",
            "Samples are correlated (reject H0) p=0.000000\n",
            "Kendall's correlation: 0.266152\n",
            "Samples are correlated (reject H0) p=0.000000\n"
          ]
        }
      ]
    },
    {
      "cell_type": "markdown",
      "source": [
        "Given positive Covariance, it can be said that both distributions change in the same direction. These two variables are corralated positively after calculating Pearson's, Spearman's and Kendall's correlation values, yet such correlation coefficients are not high enough (above 0.5). Nonetheless, the significance of this correlation can be accepted for it has p-values below α=0.05 in each analysis.   "
      ],
      "metadata": {
        "id": "_E1_M3b2B2br"
      }
    },
    {
      "cell_type": "markdown",
      "metadata": {
        "id": "qOK9ebs_gPNg"
      },
      "source": [
        "### Question 1.4: From the analyses 1.1-1.3 and the data description (https://www.kaggle.com/uciml/pima-indians-diabetes-database) alone (and without resorting to any of your prior knowledge), do you think losing weight would reduce the training set participants' risk of developing diabetes? (5 points)\n",
        "Word limit: 100 words."
      ]
    },
    {
      "cell_type": "markdown",
      "source": [
        "**Your answer:** \n",
        "\n",
        "As demonstrated by the previous quantitative analyses, there is a positive correlation between diabetic patients and their Body Max Index (BMI) of the trainig data set. Besides, a slightly difference between the median BMI of the non-diabetic and the diabetic cohorts was found, being the latter 4.2 points above the former group. Even though there would be a positive impact against the risk of developing diabetes from reducing Body Max Index (directly related to people's weight), we cannot assure that it is a determinant factor without knowing how the disribution behaves when compared to the rest of the variables like insulin and glucose levels, blood pressure, and age, which have been ignored for the purpose of these analyses.     "
      ],
      "metadata": {
        "id": "RBBeqVN1Fv9e"
      }
    },
    {
      "cell_type": "markdown",
      "metadata": {
        "id": "rOxpyZLoiRFj"
      },
      "source": [
        "## Part 2: Perceptrons and Backpropagation (30 points)\n",
        "In this section, we will implement perceptron and backpropagation from scratch, and apply them to the dataset we explored in Part 1.\n",
        "\n",
        "Please do **NOT** use Keras / Tensorflow, Pytorch or any other high-level machine or deep learning frameworks. Upon completing this exercise from scratch, you will gain a better understanding of what's under the hood of popular deep learning packages.\n",
        "\n",
        "The only allowed packages are numpy, pandas, and matplotlib.pyplot. The roc_auc_score function in sklearn.metrics is also allowed, but other functions from sklearn are prohibited.\n",
        "\n",
        "**BUT FIRST** we are going to scale our data so that every feature has a mean of 0 and a standard deviation of 1. In general, neural nets are very sensitive to scale so this is standard practice:"
      ]
    },
    {
      "cell_type": "code",
      "source": [
        "from sklearn.preprocessing import StandardScaler\n",
        "\n",
        "scaler = StandardScaler()\n",
        "X_train = scaler.fit_transform(X_train)\n",
        "X_val = scaler.transform(X_val)\n"
      ],
      "metadata": {
        "id": "UqW3HQVABaf8"
      },
      "execution_count": 46,
      "outputs": []
    },
    {
      "cell_type": "markdown",
      "metadata": {
        "id": "G0jsQQaLny-N"
      },
      "source": [
        "### Question 2.1: Please complete the function for the forward pass below. (5 points)\n",
        "You have to write a function that takes in an X matrix (e.g. `X_train` or `X_val` from the previous section) and a weight matrix `w` that represents weights for all 8 variables. The function should return predicted probabilities for each sample in `X`. \n",
        "\n",
        "**No loops are allowed.** Please use only matrix, vector, or element-wise operations. As we did in lecture, you should be able to write out the forward pass using only base `numpy` operations and simple element-wise operations."
      ]
    },
    {
      "cell_type": "code",
      "metadata": {
        "id": "YcLA-mnRirec"
      },
      "source": [
        "# X: an n x d matrix of the input features\n",
        "# w: a d x 1 vector containing the weights for our peceptron\n",
        "# Replace all 0s with your solution\n",
        "def forward_pass(X, w):\n",
        "    h = np.dot(X,w)\n",
        "    p = 1 / (1 + np.exp(-h))\n",
        "    return p"
      ],
      "execution_count": 47,
      "outputs": []
    },
    {
      "cell_type": "markdown",
      "metadata": {
        "id": "jkL-X_Ps54aX"
      },
      "source": [
        "### Question 2.2: Please complete the function for the backward pass below. (5 points)\n",
        "\n",
        "Now we will compute the backwards pass, using squared error as our loss. This is shown below:\n",
        "\n",
        "Loss = $\\frac{1}{N}\\sum_{i=1}^N (y_i-p_i)^2$\n",
        "\n",
        "To do this, you must write a function that takes a `y` vector of labels, then input matrix `X`, and the predicted probabilites `p` from the perceptron using the current values of the weights. The function should return a vector `grad_w` with `d` elements, where each element is the gradient for that that weight (e.g. the first element of `grad_w` corresponds to the gradient for the first element of `w`. As in lecture, you should compute the gradients for each observation in `X` and the store and return the *average* gradient in `grad_w`.\n",
        "\n",
        "**No loops are allowed.** Please use only matrix, vector, or element-wise operations."
      ]
    },
    {
      "cell_type": "code",
      "metadata": {
        "id": "3WcvR0Rpit-5"
      },
      "source": [
        "# X: the design matrix of the input features\n",
        "# y: the ground truth of outcome labels (classes)\n",
        "# p: the class probability outputted by the model\n",
        "# Replace all 0s with your solution\n",
        "def backward_pass(y, X, p):\n",
        "    # Compute all of the element-wise terms at the sample level\n",
        "    grad_w0 =  (p-y) * p * (1-p) * X[:, 0]\n",
        "    grad_w1 =  (p-y) * p * (1-p) * X[:, 1]\n",
        "    grad_w2 =  (p-y) * p * (1-p) * X[:, 2]\n",
        "    grad_w3 =  (p-y) * p * (1-p) * X[:, 3]\n",
        "    grad_w4 =  (p-y) * p * (1-p) * X[:, 4]\n",
        "    grad_w5 =  (p-y) * p * (1-p) * X[:, 5]\n",
        "    grad_w6 =  (p-y) * p * (1-p) * X[:, 6]\n",
        "    grad_w7 =  (p-y) * p * (1-p) * X[:, 7]\n",
        "    # Compute gradients for every example and average\n",
        "    grad_w0 = grad_w0.mean()\n",
        "    grad_w1 = grad_w1.mean()\n",
        "    grad_w2 = grad_w2.mean()\n",
        "    grad_w3 = grad_w3.mean()\n",
        "    grad_w4 = grad_w4.mean()\n",
        "    grad_w5 = grad_w5.mean()\n",
        "    grad_w6 = grad_w6.mean()\n",
        "    grad_w7 = grad_w7.mean()\n",
        "    \n",
        "    return grad_w0, grad_w1, grad_w2,grad_w3, grad_w4, grad_w5, grad_w6, grad_w7"
      ],
      "execution_count": 48,
      "outputs": []
    },
    {
      "cell_type": "markdown",
      "metadata": {
        "id": "i8g0Ar1z6q9Q"
      },
      "source": [
        "### Question 2.3: Perceptron (20 points)\n",
        "Train your perceptron using the forward_pass and backward_pass functions for 1,000 epochs. Report the loss, accuracy, area under the receiver operating characteristic curve (AUC) for both the training and validation data sets. Plot the training and validation loss vs. epochs. Modify this cell to include your results and commentary on your approach.\n",
        "\n",
        "Your perceptron should have an AUC > 0.7 when evaluated on the validation data set.\n",
        "\n",
        "**Hint**: Given your implementation is correct, you should find a suitable learning rate and the number epochs to train your model"
      ]
    },
    {
      "cell_type": "code",
      "metadata": {
        "id": "xJbchRoMivpO",
        "colab": {
          "base_uri": "https://localhost:8080/",
          "height": 611
        },
        "outputId": "c788c69d-7e7b-4cac-95c0-dc01d3776efb"
      },
      "source": [
        "# Helper functions to make your life easier!\n",
        "# Adapted from http://scikit-learn.org/stable/auto_examples/model_selection/plot_learning_curve.html\n",
        "\n",
        "from sklearn.metrics import roc_auc_score\n",
        "\n",
        "def plot_learning_curve(train_scores,val_scores, title=None, ylim=None):\n",
        "    plt.figure()\n",
        "    plt.title(title)\n",
        "    if ylim is not None:\n",
        "        plt.ylim(*ylim)\n",
        "    plt.xlabel(\"Training Epochs\")\n",
        "    plt.ylabel(\"Loss Value\")\n",
        "    plt.grid()\n",
        "    plt.plot(range(len(train_scores)), train_scores, '-', color=\"r\",\n",
        "             label=\"Training score\")\n",
        "    plt.plot(range(len(val_scores)), val_scores, '-', color=\"g\",\n",
        "             label=\"Validation score\")\n",
        "\n",
        "    plt.legend(loc=\"best\")\n",
        "    plt.show()\n",
        "\n",
        "def mse_loss(y, p):\n",
        "  return np.mean( (y-p)**2 )\n",
        "\n",
        "def accuracy(y,p):\n",
        "    y_hat = np.round(p)\n",
        "    return float(len(np.where(y == y_hat)[0]))/len(y)\n",
        "\n",
        "# Now the part you are supposed to complete!\n",
        "\n",
        "lr = 0.01 # Find a good learning rate. 0 will not be good -> your perceptron won't learn anything\n",
        "n_epochs = 2000 # Find a good number of epochs. 0 will not be good -> your perceptron won't learn anything\n",
        "\n",
        "w = np.zeros((X_train.shape[1],))\n",
        "\n",
        "w_new = w\n",
        "\n",
        "train_scores = []\n",
        "val_scores = []\n",
        "for i in range(n_epochs):\n",
        "    p = forward_pass(X_train, w_new) # Replace with your forward pass \n",
        "    gw0,gw1,gw2,gw3,gw4,gw5,gw6,gw7 = backward_pass(y, X_train, p) # Replace with your backward pass \n",
        "    w_new[0] = w_new[0] - lr*gw0 # Apply the gradient descent learning rule\n",
        "    w_new[1] = w_new[1] - lr*gw1\n",
        "    w_new[2] = w_new[2] - lr*gw2\n",
        "    w_new[3] = w_new[3] - lr*gw3\n",
        "    w_new[4] = w_new[4] - lr*gw4\n",
        "    w_new[5] = w_new[5] - lr*gw5\n",
        "    w_new[6] = w_new[6] - lr*gw6\n",
        "    w_new[7] = w_new[7] - lr*gw7\n",
        "    # Keep track of how well we are doing on train data\n",
        "    train_scores.append(np.mean(mse_loss(y_train, p)))\n",
        "\n",
        "    p_val = forward_pass(X_val, w_new) # Replace with your forward pass on *val* data\n",
        "\n",
        "    # Keep track of how well we are doing on train data\n",
        "    val_scores.append(np.mean(mse_loss(y_val, p_val)))\n",
        "\n",
        "# Measure the performance of our perceptron after training\n",
        "p = forward_pass(X_train, w_new) # Forward pass on training data\n",
        "p_val =  forward_pass(X_val, w_new) # Forward pass on val data\n",
        "    \n",
        "print(\"-\"*10 + \" Training Set \" + \"-\"*10)\n",
        "print(\"MSE Loss: \\t\\t\" + str(mse_loss(y_train,p)))\n",
        "print(\"Accuracy: \\t\" + str(accuracy(y_train,p)))\n",
        "print(\"AUC: \\t\\t\" + str(roc_auc_score(y_train, p)))\n",
        "\n",
        "\n",
        "print(\"-\"*10 + \"Validation Set\" + \"-\"*10)\n",
        "print(\"MSE Loss: \\t\\t\" + str(mse_loss(y_val,p_val)))\n",
        "print(\"Accuracy: \\t\" + str(accuracy(y_val,p_val)))\n",
        "print(\"AUC: \\t\\t\" + str(roc_auc_score(y_val,p_val)))\n",
        "\n",
        "plot_learning_curve(train_scores,val_scores, title='Perceptron', ylim=None)\n"
      ],
      "execution_count": 49,
      "outputs": [
        {
          "output_type": "stream",
          "name": "stdout",
          "text": [
            "---------- Training Set ----------\n",
            "MSE Loss: \t\t0.17571202684621176\n",
            "Accuracy: \t0.745928338762215\n",
            "AUC: \t\t0.8484827466620426\n",
            "----------Validation Set----------\n",
            "MSE Loss: \t\t0.2024482514816214\n",
            "Accuracy: \t0.7207792207792207\n",
            "AUC: \t\t0.8017492711370262\n"
          ]
        },
        {
          "output_type": "display_data",
          "data": {
            "text/plain": [
              "<Figure size 640x480 with 1 Axes>"
            ],
            "image/png": "[encoded data removed]"
          },
          "metadata": {}
        }
      ]
    },
    {
      "cell_type": "markdown",
      "metadata": {
        "id": "dzIzxQ2n7-QV"
      },
      "source": [
        "## Part 3: Perceptron with L2 regularization (20 points)\n",
        "In this section, we will implement perceptron and backpropagation with L2 regularization from scratch, and apply them to the same dataset from Part 1 again.\n",
        "\n",
        "Train your perceptron with L2 regularization using the `forward_pass` and `backward_pass` functions for 1,000 epochs. Report the loss, accuracy, AUC for both the training and validation data sets. Plot the training and validation loss vs. epochs. Modify this cell to include your results and commentary on your approach.\n",
        "\n",
        "Recall from lecture that an L2 penalty augments the loss function with an additional regularization term that penalizes the nerual network for using *large* weights. For the purposes of this excercise, we will use the following form:\n",
        "\n",
        "$$ \\ell_{L2}(y_i, p_i) = (y_i - p_i)^2 + \\lambda*\\sum_{j=1}^2 w_j^2$$  \n",
        "\n",
        "where $\\lambda$ is a tuning parameter that you will have to select by trying a grid of possible values. Your task is to change the `backward_pass` function to incorporate this new regularization term. The forward pass should remain unchanged.\n",
        "\n",
        "Please do **NOT** use Keras, Pytorch, Tensorflow, or any other high-level a framework. Upon completing this exercise from scratch, you will gain a deep understanding of what's under the hood of popular deep learning packages. **No loops are allowed.** Please use only matrix, vector, or element-wise operations.\n",
        "\n",
        "**Hint**: This new term is additive. Think about what parts of the backward pass are the same as part 2, and what parts would be different from part 2.\n",
        "\n",
        "Your first task to complet this new backward pass function:"
      ]
    },
    {
      "cell_type": "code",
      "source": [
        "# The new backward pass function. We now have to include lambda since (hint!) it will be \n",
        "# needed for the backward pass\n",
        "# Fill in the 0 with your solution\n",
        "def backward_pass_l2(y,X, p, w, lam):\n",
        "\n",
        "    # Compute all of the element-wise terms at the sample level\n",
        "    grad_w0 =  (p-y) * p * (1-p) * X[:, 0]+lam * (w[0]**2)\n",
        "    grad_w1 =  (p-y) * p * (1-p) * X[:, 1]+lam * (w[1]**2)\n",
        "    grad_w2 =  (p-y) * p * (1-p) * X[:, 2]+lam * (w[2]**2)\n",
        "    grad_w3 =  (p-y) * p * (1-p) * X[:, 3]+lam * (w[3]**2)\n",
        "    grad_w4 =  (p-y) * p * (1-p) * X[:, 4]+lam * (w[4]**2)\n",
        "    grad_w5 =  (p-y) * p * (1-p) * X[:, 5]+lam * (w[5]**2)\n",
        "    grad_w6 =  (p-y) * p * (1-p) * X[:, 6]+lam * (w[6]**2)\n",
        "    grad_w7 =  (p-y) * p * (1-p) * X[:, 7]+lam * (w[7]**2)\n",
        "    # Compute gradients for every example and average\n",
        "    grad_w0 = grad_w0.mean()\n",
        "    grad_w1 = grad_w1.mean()\n",
        "    grad_w2 = grad_w2.mean()\n",
        "    grad_w3 = grad_w3.mean()\n",
        "    grad_w4 = grad_w4.mean()\n",
        "    grad_w5 = grad_w5.mean()\n",
        "    grad_w6 = grad_w6.mean()\n",
        "    grad_w7 = grad_w7.mean()\n",
        "    \n",
        "    return grad_w0, grad_w1, grad_w2,grad_w3, grad_w4, grad_w5, grad_w6, grad_w7"
      ],
      "metadata": {
        "id": "pUG0-5sZ7Mjj"
      },
      "execution_count": 50,
      "outputs": []
    },
    {
      "cell_type": "markdown",
      "source": [
        "Now we are going train our neural network with L2 regularization. Places with a `0` are places where you should fill in your solution"
      ],
      "metadata": {
        "id": "sNwUJxs93JJl"
      }
    },
    {
      "cell_type": "code",
      "source": [
        "# We will sweep over a range of potential lambdas\n",
        "lambda_seq = [0.5, 0.55, 0.6, 0.65, 0.7, 0.75, 0.8, 0.85, 0.9, 0.95, 1] # Replace this with a list of lambdas to try \n",
        "\n",
        "# We will set up some lists to track our progress\n",
        "best_train_scores = []\n",
        "best_val_scores = []\n",
        "best_val_loss = 1e9\n",
        "best_lambda = 0\n",
        "w_best = np.zeros((X_train.shape[1],))\n",
        "\n",
        "for current_lambda in lambda_seq:\n",
        "    w = np.zeros((X_train.shape[1],))\n",
        "    lr = 0.01 # Find a good learning rate. 0 will not be good -> your perceptron won't learn anything\n",
        "    epochs = 1000  # Find a good number of epochs. 0 will not be good -> your perceptron won't learn anything\n",
        "    w_new = w.copy()\n",
        "    print(f'Current value of lambda: {current_lambda}')\n",
        "    train_scores = []\n",
        "    val_scores = []\n",
        "    for i in range(epochs):\n",
        "        p = forward_pass(X_train, w_new) # Your forward pass \n",
        "        gw0,gw1,gw2,gw3,gw4,gw5,gw6,gw7 = backward_pass_l2(y,X_train,p, w_new, current_lambda) # Your *new* backward pass with the L2 penalty\n",
        "        w_new[0] = w_new[0] - lr*gw0 # gradient descent update rule\n",
        "        w_new[0] = w_new[0] - lr*gw1\n",
        "        w_new[0] = w_new[0] - lr*gw2\n",
        "        w_new[0] = w_new[0] - lr*gw3\n",
        "        w_new[0] = w_new[0] - lr*gw4\n",
        "        w_new[0] = w_new[0] - lr*gw5\n",
        "        w_new[0] = w_new[0] - lr*gw6\n",
        "        w_new[0] = w_new[0] - lr*gw7\n",
        "        # Let's measure some performance on the train data\n",
        "        train_score = mse_loss(y_train, p)\n",
        "\n",
        "        # Let's measure some performance on the val data\n",
        "        p_val = forward_pass(X_val, w_new)\n",
        "        val_score = mse_loss(y_val, p_val)\n",
        "\n",
        "        # Log it so we can keep track of it so we can make some loss curves\n",
        "        train_scores.append(train_score)\n",
        "        val_scores.append(val_score)\n",
        "\n",
        "    # Print out some info for this value of lambda\n",
        "    p = forward_pass(X_train, w_new)\n",
        "    p_val = forward_pass(X_val, w_new)\n",
        "    current_train_loss = mse_loss(y_train, p)\n",
        "    current_val_loss = mse_loss(y_val, p_val)\n",
        "    print(f'Train loss: {np.round(current_train_loss, 3)}, \\\n",
        "    Val loss: {np.round(current_val_loss, 3)}\\n')\n",
        "\n",
        "    # Is this our best lambda?\n",
        "    if current_val_loss < best_val_loss:\n",
        "        best_val_loss = current_val_loss\n",
        "        best_lambda = current_lambda\n",
        "        best_train_scores = train_scores\n",
        "        best_val_scores = val_scores\n",
        "        w_best = w_new\n",
        "        \n",
        "p_train_best = forward_pass(X_train, w_best)\n",
        "p_val_best = forward_pass(X_val, w_best)\n",
        "\n",
        "print(f'\\n Best value for lambda: {best_lambda}')\n",
        "\n",
        "print(\"-\"*10 + \" Training Set \" + \"-\"*10)\n",
        "print(f'Loss: {mse_loss(y_train,p_train_best)}')\n",
        "print(f'Accuracy: {accuracy(y_train, p_train_best)}')\n",
        "print(f'AUC: {roc_auc_score(y_train, p_train_best)}')\n",
        "\n",
        "print(\"-\"*10 + \" Validation Set \" + \"-\"*10)\n",
        "print(f'Loss: {mse_loss(y_val, p_val_best)}')\n",
        "print(f'Accuracy: {accuracy(y_val,p_val_best)}')\n",
        "print(f'AUC: {roc_auc_score(y_val,p_val_best)}')\n",
        "\n",
        "\n",
        "plot_learning_curve(train_scores,val_scores, title='Perceptron with Regularization', ylim=None)"
      ],
      "metadata": {
        "id": "dE4nbXKc3KcA",
        "colab": {
          "base_uri": "https://localhost:8080/",
          "height": 1000
        },
        "outputId": "8b6e0b40-eafb-44d8-a2f5-3546f39268fa"
      },
      "execution_count": 51,
      "outputs": [
        {
          "output_type": "stream",
          "name": "stdout",
          "text": [
            "Current value of lambda: 0.5\n",
            "Train loss: 0.238,     Val loss: 0.239\n",
            "\n",
            "Current value of lambda: 0.55\n",
            "Train loss: 0.238,     Val loss: 0.239\n",
            "\n",
            "Current value of lambda: 0.6\n",
            "Train loss: 0.238,     Val loss: 0.239\n",
            "\n",
            "Current value of lambda: 0.65\n",
            "Train loss: 0.238,     Val loss: 0.239\n",
            "\n",
            "Current value of lambda: 0.7\n",
            "Train loss: 0.238,     Val loss: 0.239\n",
            "\n",
            "Current value of lambda: 0.75\n",
            "Train loss: 0.238,     Val loss: 0.238\n",
            "\n",
            "Current value of lambda: 0.8\n",
            "Train loss: 0.238,     Val loss: 0.238\n",
            "\n",
            "Current value of lambda: 0.85\n",
            "Train loss: 0.238,     Val loss: 0.238\n",
            "\n",
            "Current value of lambda: 0.9\n",
            "Train loss: 0.238,     Val loss: 0.238\n",
            "\n",
            "Current value of lambda: 0.95\n",
            "Train loss: 0.238,     Val loss: 0.239\n",
            "\n",
            "Current value of lambda: 1\n",
            "Train loss: 0.238,     Val loss: 0.239\n",
            "\n",
            "\n",
            " Best value for lambda: 0.85\n",
            "---------- Training Set ----------\n",
            "Loss: 0.23780785315706301\n",
            "Accuracy: 0.6123778501628665\n",
            "AUC: 0.6192936824461013\n",
            "---------- Validation Set ----------\n",
            "Loss: 0.23847826055563454\n",
            "Accuracy: 0.5844155844155844\n",
            "AUC: 0.6219630709426628\n"
          ]
        },
        {
          "output_type": "display_data",
          "data": {
            "text/plain": [
              "<Figure size 640x480 with 1 Axes>"
            ],
            "image/png": "[encoded data removed]"
          },
          "metadata": {}
        }
      ]
    },
    {
      "cell_type": "markdown",
      "source": [
        "Comment on whether you think L2 regularization helped in this scenario, and justify your answer.\n",
        "\n",
        "\n",
        "The regularization term did not help in terms of accuracy or AUC. But it is easy to see that a stable response of the loss value was achieved in less epochs and the model seems to have quite similar results for the training and the validation data set, which is useful when looking for a robust or efficient model.\n"
      ],
      "metadata": {
        "id": "EPjy0zs9CBHe"
      }
    },
    {
      "cell_type": "markdown",
      "metadata": {
        "id": "TinhJAU9nIEy"
      },
      "source": [
        "## Part 4: Multi-layer neural network using Keras (30 points)\n",
        "In this section, we will train a multi-layer neural network using the Keras framework, and apply it to the dataset from Part 1."
      ]
    },
    {
      "cell_type": "markdown",
      "metadata": {
        "id": "N_jAnUefozHY"
      },
      "source": [
        "### Question 4.1 Train a multi-layer neural network using Keras (20 points)\n",
        "Please implement a neural network with at least one hidden layer using Keras, and plot the model accuracy and model loss in both the training and validation sets over the epochs.\n",
        "\n",
        "Your neural network should have an accuracy > 0.7 when evaluated by the validation data set. \n",
        "\n",
        "**For the purposes of this homework continue to use MSE loss for comparison to the previous question. In real life (i.e. not homeworks, you would want to use binary cross entropy since this is a classification problem.**"
      ]
    },
    {
      "cell_type": "code",
      "metadata": {
        "id": "Fwn78uPwW41I"
      },
      "source": [
        "########## Answer ##########\n",
        "# Train a multi-layer neural network using Keras\n",
        "\n",
        "from keras.models import Sequential\n",
        "from keras.layers import Dense\n",
        "from tensorflow.keras.optimizers import Adam,SGD\n",
        "from tensorflow.keras.layers import Dense, Dropout, Activation\n",
        "\n",
        "\n",
        "# Your code here - build an MLP with one hidden layer\n",
        "############################################################\n",
        "\n",
        "\n",
        "N_EPOCHS = 200 # Decide how long to train the network\n",
        "BATCH_SIZE = 10 # Decide on the batch size (less important for this problem)\n"
      ],
      "execution_count": 52,
      "outputs": []
    },
    {
      "cell_type": "code",
      "metadata": {
        "id": "57Ee6YHCXKXe",
        "colab": {
          "base_uri": "https://localhost:8080/"
        },
        "outputId": "e439f451-6efc-4093-f19e-6d71cc1a34da"
      },
      "source": [
        "## Define the model\n",
        "model = Sequential()\n",
        "\n",
        "## Your model specification goes below\n",
        "\n",
        "num_features = X_train.shape[1]\n",
        "model.add(Dense(units=30, activation='tanh', input_dim=num_features, name='hidden_layer'))\n",
        "model.add(Dropout(rate=0.1))\n",
        "model.add(Dense(units=1, activation='sigmoid', name='output_layer')) \n",
        "\n",
        "\n",
        "## After you have specified the model, compile it with an appropriate loss function and optimizer\n",
        "\n",
        "opt = SGD(learning_rate=0.025)\n",
        "model.compile(optimizer=opt, loss='binary_crossentropy', metrics=['accuracy'])\n",
        "model.summary()\n",
        "## Now fit the model with a call to model.fit()\n",
        "history=model.fit(x=X_train, \n",
        "         y=y_train,\n",
        "         batch_size=BATCH_SIZE,\n",
        "         validation_data = (X_val, y_val),\n",
        "         epochs=N_EPOCHS)"
      ],
      "execution_count": 60,
      "outputs": [
        {
          "output_type": "stream",
          "name": "stdout",
          "text": [
            "Model: \"sequential_1\"\n",
            "_________________________________________________________________\n",
            " Layer (type)                Output Shape              Param #   \n",
            "=================================================================\n",
            " hidden_layer (Dense)        (None, 30)                270       \n",
            "                                                                 \n",
            " dropout_1 (Dropout)         (None, 30)                0         \n",
            "                                                                 \n",
            " output_layer (Dense)        (None, 1)                 31        \n",
            "                                                                 \n",
            "=================================================================\n",
            "Total params: 301\n",
            "Trainable params: 301\n",
            "Non-trainable params: 0\n",
            "_________________________________________________________________\n",
            "Epoch 1/200\n",
            "62/62 [==============================] - 1s 6ms/step - loss: 0.6031 - accuracy: 0.6710 - val_loss: 0.5487 - val_accuracy: 0.7273\n",
            "Epoch 2/200\n",
            "62/62 [==============================] - 0s 4ms/step - loss: 0.5057 - accuracy: 0.7655 - val_loss: 0.5215 - val_accuracy: 0.7338\n",
            "Epoch 3/200\n",
            "62/62 [==============================] - 0s 4ms/step - loss: 0.4819 - accuracy: 0.7671 - val_loss: 0.5107 - val_accuracy: 0.7403\n",
            "Epoch 4/200\n",
            "62/62 [==============================] - 0s 4ms/step - loss: 0.4793 - accuracy: 0.7752 - val_loss: 0.5070 - val_accuracy: 0.7532\n",
            "Epoch 5/200\n",
            "62/62 [==============================] - 0s 4ms/step - loss: 0.4706 - accuracy: 0.7818 - val_loss: 0.5065 - val_accuracy: 0.7597\n",
            "Epoch 6/200\n",
            "62/62 [==============================] - 0s 4ms/step - loss: 0.4682 - accuracy: 0.7720 - val_loss: 0.5034 - val_accuracy: 0.7662\n",
            "Epoch 7/200\n",
            "62/62 [==============================] - 0s 4ms/step - loss: 0.4723 - accuracy: 0.7720 - val_loss: 0.5053 - val_accuracy: 0.7662\n",
            "Epoch 8/200\n",
            "62/62 [==============================] - 0s 4ms/step - loss: 0.4676 - accuracy: 0.7671 - val_loss: 0.5033 - val_accuracy: 0.7597\n",
            "Epoch 9/200\n",
            "62/62 [==============================] - 0s 4ms/step - loss: 0.4622 - accuracy: 0.7704 - val_loss: 0.5014 - val_accuracy: 0.7597\n",
            "Epoch 10/200\n",
            "62/62 [==============================] - 0s 4ms/step - loss: 0.4587 - accuracy: 0.7687 - val_loss: 0.5042 - val_accuracy: 0.7597\n",
            "Epoch 11/200\n",
            "62/62 [==============================] - 0s 4ms/step - loss: 0.4601 - accuracy: 0.7720 - val_loss: 0.5064 - val_accuracy: 0.7597\n",
            "Epoch 12/200\n",
            "62/62 [==============================] - 0s 4ms/step - loss: 0.4586 - accuracy: 0.7785 - val_loss: 0.5071 - val_accuracy: 0.7597\n",
            "Epoch 13/200\n",
            "62/62 [==============================] - 0s 4ms/step - loss: 0.4588 - accuracy: 0.7818 - val_loss: 0.5079 - val_accuracy: 0.7597\n",
            "Epoch 14/200\n",
            "62/62 [==============================] - 0s 5ms/step - loss: 0.4648 - accuracy: 0.7671 - val_loss: 0.5082 - val_accuracy: 0.7597\n",
            "Epoch 15/200\n",
            "62/62 [==============================] - 0s 4ms/step - loss: 0.4538 - accuracy: 0.7801 - val_loss: 0.5082 - val_accuracy: 0.7597\n",
            "Epoch 16/200\n",
            "62/62 [==============================] - 0s 4ms/step - loss: 0.4491 - accuracy: 0.7899 - val_loss: 0.5085 - val_accuracy: 0.7532\n",
            "Epoch 17/200\n",
            "62/62 [==============================] - 0s 4ms/step - loss: 0.4515 - accuracy: 0.7883 - val_loss: 0.5100 - val_accuracy: 0.7532\n",
            "Epoch 18/200\n",
            "62/62 [==============================] - 0s 4ms/step - loss: 0.4503 - accuracy: 0.7736 - val_loss: 0.5094 - val_accuracy: 0.7597\n",
            "Epoch 19/200\n",
            "62/62 [==============================] - 0s 4ms/step - loss: 0.4541 - accuracy: 0.7834 - val_loss: 0.5084 - val_accuracy: 0.7532\n",
            "Epoch 20/200\n",
            "62/62 [==============================] - 0s 4ms/step - loss: 0.4450 - accuracy: 0.7801 - val_loss: 0.5084 - val_accuracy: 0.7662\n",
            "Epoch 21/200\n",
            "62/62 [==============================] - 0s 4ms/step - loss: 0.4551 - accuracy: 0.7850 - val_loss: 0.5110 - val_accuracy: 0.7662\n",
            "Epoch 22/200\n",
            "62/62 [==============================] - 0s 4ms/step - loss: 0.4516 - accuracy: 0.7866 - val_loss: 0.5111 - val_accuracy: 0.7532\n",
            "Epoch 23/200\n",
            "62/62 [==============================] - 0s 4ms/step - loss: 0.4518 - accuracy: 0.7899 - val_loss: 0.5104 - val_accuracy: 0.7597\n",
            "Epoch 24/200\n",
            "62/62 [==============================] - 0s 4ms/step - loss: 0.4479 - accuracy: 0.7801 - val_loss: 0.5115 - val_accuracy: 0.7597\n",
            "Epoch 25/200\n",
            "62/62 [==============================] - 0s 4ms/step - loss: 0.4462 - accuracy: 0.7785 - val_loss: 0.5107 - val_accuracy: 0.7532\n",
            "Epoch 26/200\n",
            "62/62 [==============================] - 0s 4ms/step - loss: 0.4495 - accuracy: 0.7736 - val_loss: 0.5098 - val_accuracy: 0.7597\n",
            "Epoch 27/200\n",
            "62/62 [==============================] - 0s 4ms/step - loss: 0.4569 - accuracy: 0.7752 - val_loss: 0.5094 - val_accuracy: 0.7532\n",
            "Epoch 28/200\n",
            "62/62 [==============================] - 0s 4ms/step - loss: 0.4517 - accuracy: 0.7850 - val_loss: 0.5092 - val_accuracy: 0.7468\n",
            "Epoch 29/200\n",
            "62/62 [==============================] - 0s 4ms/step - loss: 0.4474 - accuracy: 0.7866 - val_loss: 0.5097 - val_accuracy: 0.7597\n",
            "Epoch 30/200\n",
            "62/62 [==============================] - 0s 4ms/step - loss: 0.4481 - accuracy: 0.7801 - val_loss: 0.5092 - val_accuracy: 0.7597\n",
            "Epoch 31/200\n",
            "62/62 [==============================] - 0s 4ms/step - loss: 0.4478 - accuracy: 0.7899 - val_loss: 0.5105 - val_accuracy: 0.7468\n",
            "Epoch 32/200\n",
            "62/62 [==============================] - 0s 4ms/step - loss: 0.4449 - accuracy: 0.7769 - val_loss: 0.5086 - val_accuracy: 0.7468\n",
            "Epoch 33/200\n",
            "62/62 [==============================] - 0s 4ms/step - loss: 0.4481 - accuracy: 0.7883 - val_loss: 0.5098 - val_accuracy: 0.7532\n",
            "Epoch 34/200\n",
            "62/62 [==============================] - 0s 4ms/step - loss: 0.4468 - accuracy: 0.7736 - val_loss: 0.5089 - val_accuracy: 0.7597\n",
            "Epoch 35/200\n",
            "62/62 [==============================] - 0s 4ms/step - loss: 0.4415 - accuracy: 0.7883 - val_loss: 0.5097 - val_accuracy: 0.7532\n",
            "Epoch 36/200\n",
            "62/62 [==============================] - 0s 4ms/step - loss: 0.4494 - accuracy: 0.7850 - val_loss: 0.5101 - val_accuracy: 0.7532\n",
            "Epoch 37/200\n",
            "62/62 [==============================] - 0s 4ms/step - loss: 0.4421 - accuracy: 0.7899 - val_loss: 0.5086 - val_accuracy: 0.7597\n",
            "Epoch 38/200\n",
            "62/62 [==============================] - 0s 4ms/step - loss: 0.4395 - accuracy: 0.7932 - val_loss: 0.5087 - val_accuracy: 0.7532\n",
            "Epoch 39/200\n",
            "62/62 [==============================] - 0s 6ms/step - loss: 0.4458 - accuracy: 0.7785 - val_loss: 0.5092 - val_accuracy: 0.7597\n",
            "Epoch 40/200\n",
            "62/62 [==============================] - 0s 5ms/step - loss: 0.4418 - accuracy: 0.7883 - val_loss: 0.5107 - val_accuracy: 0.7532\n",
            "Epoch 41/200\n",
            "62/62 [==============================] - 0s 5ms/step - loss: 0.4499 - accuracy: 0.7801 - val_loss: 0.5120 - val_accuracy: 0.7532\n",
            "Epoch 42/200\n",
            "62/62 [==============================] - 0s 5ms/step - loss: 0.4355 - accuracy: 0.7834 - val_loss: 0.5126 - val_accuracy: 0.7532\n",
            "Epoch 43/200\n",
            "62/62 [==============================] - 0s 6ms/step - loss: 0.4335 - accuracy: 0.7785 - val_loss: 0.5103 - val_accuracy: 0.7597\n",
            "Epoch 44/200\n",
            "62/62 [==============================] - 0s 6ms/step - loss: 0.4366 - accuracy: 0.7899 - val_loss: 0.5110 - val_accuracy: 0.7468\n",
            "Epoch 45/200\n",
            "62/62 [==============================] - 0s 6ms/step - loss: 0.4450 - accuracy: 0.7785 - val_loss: 0.5110 - val_accuracy: 0.7532\n",
            "Epoch 46/200\n",
            "62/62 [==============================] - 0s 4ms/step - loss: 0.4347 - accuracy: 0.7801 - val_loss: 0.5134 - val_accuracy: 0.7532\n",
            "Epoch 47/200\n",
            "62/62 [==============================] - 0s 7ms/step - loss: 0.4470 - accuracy: 0.7850 - val_loss: 0.5137 - val_accuracy: 0.7532\n",
            "Epoch 48/200\n",
            "62/62 [==============================] - 0s 6ms/step - loss: 0.4375 - accuracy: 0.7948 - val_loss: 0.5123 - val_accuracy: 0.7403\n",
            "Epoch 49/200\n",
            "62/62 [==============================] - 0s 7ms/step - loss: 0.4350 - accuracy: 0.7850 - val_loss: 0.5123 - val_accuracy: 0.7468\n",
            "Epoch 50/200\n",
            "62/62 [==============================] - 0s 7ms/step - loss: 0.4293 - accuracy: 0.7915 - val_loss: 0.5134 - val_accuracy: 0.7468\n",
            "Epoch 51/200\n",
            "62/62 [==============================] - 0s 7ms/step - loss: 0.4365 - accuracy: 0.7915 - val_loss: 0.5126 - val_accuracy: 0.7468\n",
            "Epoch 52/200\n",
            "62/62 [==============================] - 0s 6ms/step - loss: 0.4400 - accuracy: 0.7801 - val_loss: 0.5124 - val_accuracy: 0.7468\n",
            "Epoch 53/200\n",
            "62/62 [==============================] - 0s 4ms/step - loss: 0.4384 - accuracy: 0.7899 - val_loss: 0.5099 - val_accuracy: 0.7468\n",
            "Epoch 54/200\n",
            "62/62 [==============================] - 0s 4ms/step - loss: 0.4438 - accuracy: 0.7899 - val_loss: 0.5112 - val_accuracy: 0.7468\n",
            "Epoch 55/200\n",
            "62/62 [==============================] - 0s 4ms/step - loss: 0.4331 - accuracy: 0.7915 - val_loss: 0.5104 - val_accuracy: 0.7468\n",
            "Epoch 56/200\n",
            "62/62 [==============================] - 0s 5ms/step - loss: 0.4356 - accuracy: 0.7980 - val_loss: 0.5117 - val_accuracy: 0.7532\n",
            "Epoch 57/200\n",
            "62/62 [==============================] - 0s 4ms/step - loss: 0.4375 - accuracy: 0.7866 - val_loss: 0.5129 - val_accuracy: 0.7532\n",
            "Epoch 58/200\n",
            "62/62 [==============================] - 0s 4ms/step - loss: 0.4303 - accuracy: 0.7866 - val_loss: 0.5119 - val_accuracy: 0.7403\n",
            "Epoch 59/200\n",
            "62/62 [==============================] - 0s 4ms/step - loss: 0.4423 - accuracy: 0.7899 - val_loss: 0.5109 - val_accuracy: 0.7403\n",
            "Epoch 60/200\n",
            "62/62 [==============================] - 0s 4ms/step - loss: 0.4262 - accuracy: 0.7932 - val_loss: 0.5096 - val_accuracy: 0.7468\n",
            "Epoch 61/200\n",
            "62/62 [==============================] - 0s 4ms/step - loss: 0.4337 - accuracy: 0.7948 - val_loss: 0.5098 - val_accuracy: 0.7468\n",
            "Epoch 62/200\n",
            "62/62 [==============================] - 0s 5ms/step - loss: 0.4301 - accuracy: 0.7785 - val_loss: 0.5099 - val_accuracy: 0.7532\n",
            "Epoch 63/200\n",
            "62/62 [==============================] - 0s 4ms/step - loss: 0.4349 - accuracy: 0.7932 - val_loss: 0.5109 - val_accuracy: 0.7532\n",
            "Epoch 64/200\n",
            "62/62 [==============================] - 0s 4ms/step - loss: 0.4316 - accuracy: 0.7997 - val_loss: 0.5113 - val_accuracy: 0.7532\n",
            "Epoch 65/200\n",
            "62/62 [==============================] - 0s 4ms/step - loss: 0.4271 - accuracy: 0.7834 - val_loss: 0.5111 - val_accuracy: 0.7468\n",
            "Epoch 66/200\n",
            "62/62 [==============================] - 0s 4ms/step - loss: 0.4352 - accuracy: 0.7785 - val_loss: 0.5112 - val_accuracy: 0.7532\n",
            "Epoch 67/200\n",
            "62/62 [==============================] - 0s 4ms/step - loss: 0.4374 - accuracy: 0.7866 - val_loss: 0.5114 - val_accuracy: 0.7662\n",
            "Epoch 68/200\n",
            "62/62 [==============================] - 0s 4ms/step - loss: 0.4399 - accuracy: 0.7801 - val_loss: 0.5124 - val_accuracy: 0.7662\n",
            "Epoch 69/200\n",
            "62/62 [==============================] - 0s 4ms/step - loss: 0.4321 - accuracy: 0.7850 - val_loss: 0.5104 - val_accuracy: 0.7597\n",
            "Epoch 70/200\n",
            "62/62 [==============================] - 0s 5ms/step - loss: 0.4362 - accuracy: 0.7915 - val_loss: 0.5110 - val_accuracy: 0.7597\n",
            "Epoch 71/200\n",
            "62/62 [==============================] - 0s 4ms/step - loss: 0.4345 - accuracy: 0.7866 - val_loss: 0.5112 - val_accuracy: 0.7662\n",
            "Epoch 72/200\n",
            "62/62 [==============================] - 0s 4ms/step - loss: 0.4356 - accuracy: 0.7899 - val_loss: 0.5107 - val_accuracy: 0.7727\n",
            "Epoch 73/200\n",
            "62/62 [==============================] - 0s 4ms/step - loss: 0.4351 - accuracy: 0.7948 - val_loss: 0.5110 - val_accuracy: 0.7597\n",
            "Epoch 74/200\n",
            "62/62 [==============================] - 0s 4ms/step - loss: 0.4267 - accuracy: 0.7915 - val_loss: 0.5108 - val_accuracy: 0.7597\n",
            "Epoch 75/200\n",
            "62/62 [==============================] - 0s 4ms/step - loss: 0.4336 - accuracy: 0.7899 - val_loss: 0.5087 - val_accuracy: 0.7727\n",
            "Epoch 76/200\n",
            "62/62 [==============================] - 0s 6ms/step - loss: 0.4265 - accuracy: 0.7964 - val_loss: 0.5092 - val_accuracy: 0.7662\n",
            "Epoch 77/200\n",
            "62/62 [==============================] - 0s 5ms/step - loss: 0.4313 - accuracy: 0.7980 - val_loss: 0.5089 - val_accuracy: 0.7727\n",
            "Epoch 78/200\n",
            "62/62 [==============================] - 0s 6ms/step - loss: 0.4393 - accuracy: 0.7899 - val_loss: 0.5101 - val_accuracy: 0.7597\n",
            "Epoch 79/200\n",
            "62/62 [==============================] - 1s 9ms/step - loss: 0.4353 - accuracy: 0.7801 - val_loss: 0.5114 - val_accuracy: 0.7597\n",
            "Epoch 80/200\n",
            "62/62 [==============================] - 1s 8ms/step - loss: 0.4278 - accuracy: 0.7932 - val_loss: 0.5118 - val_accuracy: 0.7597\n",
            "Epoch 81/200\n",
            "62/62 [==============================] - 1s 9ms/step - loss: 0.4315 - accuracy: 0.7964 - val_loss: 0.5129 - val_accuracy: 0.7597\n",
            "Epoch 82/200\n",
            "62/62 [==============================] - 1s 9ms/step - loss: 0.4333 - accuracy: 0.7866 - val_loss: 0.5112 - val_accuracy: 0.7532\n",
            "Epoch 83/200\n",
            "62/62 [==============================] - 1s 8ms/step - loss: 0.4194 - accuracy: 0.8029 - val_loss: 0.5112 - val_accuracy: 0.7662\n",
            "Epoch 84/200\n",
            "62/62 [==============================] - 0s 5ms/step - loss: 0.4282 - accuracy: 0.7932 - val_loss: 0.5155 - val_accuracy: 0.7532\n",
            "Epoch 85/200\n",
            "62/62 [==============================] - 0s 4ms/step - loss: 0.4215 - accuracy: 0.7997 - val_loss: 0.5127 - val_accuracy: 0.7662\n",
            "Epoch 86/200\n",
            "62/62 [==============================] - 0s 4ms/step - loss: 0.4322 - accuracy: 0.7932 - val_loss: 0.5122 - val_accuracy: 0.7597\n",
            "Epoch 87/200\n",
            "62/62 [==============================] - 0s 4ms/step - loss: 0.4359 - accuracy: 0.7785 - val_loss: 0.5106 - val_accuracy: 0.7532\n",
            "Epoch 88/200\n",
            "62/62 [==============================] - 0s 4ms/step - loss: 0.4333 - accuracy: 0.7866 - val_loss: 0.5098 - val_accuracy: 0.7532\n",
            "Epoch 89/200\n",
            "62/62 [==============================] - 0s 4ms/step - loss: 0.4211 - accuracy: 0.7948 - val_loss: 0.5112 - val_accuracy: 0.7597\n",
            "Epoch 90/200\n",
            "62/62 [==============================] - 0s 4ms/step - loss: 0.4291 - accuracy: 0.7834 - val_loss: 0.5120 - val_accuracy: 0.7597\n",
            "Epoch 91/200\n",
            "62/62 [==============================] - 0s 4ms/step - loss: 0.4181 - accuracy: 0.7932 - val_loss: 0.5143 - val_accuracy: 0.7597\n",
            "Epoch 92/200\n",
            "62/62 [==============================] - 0s 4ms/step - loss: 0.4224 - accuracy: 0.8013 - val_loss: 0.5122 - val_accuracy: 0.7532\n",
            "Epoch 93/200\n",
            "62/62 [==============================] - 0s 4ms/step - loss: 0.4312 - accuracy: 0.7980 - val_loss: 0.5094 - val_accuracy: 0.7597\n",
            "Epoch 94/200\n",
            "62/62 [==============================] - 0s 4ms/step - loss: 0.4178 - accuracy: 0.8029 - val_loss: 0.5116 - val_accuracy: 0.7532\n",
            "Epoch 95/200\n",
            "62/62 [==============================] - 0s 4ms/step - loss: 0.4294 - accuracy: 0.7932 - val_loss: 0.5116 - val_accuracy: 0.7597\n",
            "Epoch 96/200\n",
            "62/62 [==============================] - 0s 4ms/step - loss: 0.4098 - accuracy: 0.8078 - val_loss: 0.5139 - val_accuracy: 0.7532\n",
            "Epoch 97/200\n",
            "62/62 [==============================] - 0s 4ms/step - loss: 0.4232 - accuracy: 0.7980 - val_loss: 0.5135 - val_accuracy: 0.7532\n",
            "Epoch 98/200\n",
            "62/62 [==============================] - 0s 4ms/step - loss: 0.4172 - accuracy: 0.7948 - val_loss: 0.5132 - val_accuracy: 0.7662\n",
            "Epoch 99/200\n",
            "62/62 [==============================] - 0s 4ms/step - loss: 0.4291 - accuracy: 0.7883 - val_loss: 0.5117 - val_accuracy: 0.7662\n",
            "Epoch 100/200\n",
            "62/62 [==============================] - 0s 4ms/step - loss: 0.4196 - accuracy: 0.7899 - val_loss: 0.5128 - val_accuracy: 0.7597\n",
            "Epoch 101/200\n",
            "62/62 [==============================] - 0s 4ms/step - loss: 0.4293 - accuracy: 0.7915 - val_loss: 0.5122 - val_accuracy: 0.7597\n",
            "Epoch 102/200\n",
            "62/62 [==============================] - 0s 5ms/step - loss: 0.4174 - accuracy: 0.8029 - val_loss: 0.5129 - val_accuracy: 0.7532\n",
            "Epoch 103/200\n",
            "62/62 [==============================] - 0s 4ms/step - loss: 0.4178 - accuracy: 0.7932 - val_loss: 0.5168 - val_accuracy: 0.7597\n",
            "Epoch 104/200\n",
            "62/62 [==============================] - 0s 7ms/step - loss: 0.4230 - accuracy: 0.7899 - val_loss: 0.5139 - val_accuracy: 0.7597\n",
            "Epoch 105/200\n",
            "62/62 [==============================] - 0s 6ms/step - loss: 0.4136 - accuracy: 0.8013 - val_loss: 0.5151 - val_accuracy: 0.7532\n",
            "Epoch 106/200\n",
            "62/62 [==============================] - 0s 7ms/step - loss: 0.4261 - accuracy: 0.7915 - val_loss: 0.5144 - val_accuracy: 0.7597\n",
            "Epoch 107/200\n",
            "62/62 [==============================] - 0s 6ms/step - loss: 0.4182 - accuracy: 0.7964 - val_loss: 0.5139 - val_accuracy: 0.7662\n",
            "Epoch 108/200\n",
            "62/62 [==============================] - 0s 5ms/step - loss: 0.4050 - accuracy: 0.8143 - val_loss: 0.5145 - val_accuracy: 0.7662\n",
            "Epoch 109/200\n",
            "62/62 [==============================] - 0s 4ms/step - loss: 0.4147 - accuracy: 0.7964 - val_loss: 0.5138 - val_accuracy: 0.7662\n",
            "Epoch 110/200\n",
            "62/62 [==============================] - 0s 4ms/step - loss: 0.4155 - accuracy: 0.8013 - val_loss: 0.5140 - val_accuracy: 0.7662\n",
            "Epoch 111/200\n",
            "62/62 [==============================] - 0s 4ms/step - loss: 0.4158 - accuracy: 0.7964 - val_loss: 0.5118 - val_accuracy: 0.7792\n",
            "Epoch 112/200\n",
            "62/62 [==============================] - 0s 4ms/step - loss: 0.4181 - accuracy: 0.7915 - val_loss: 0.5147 - val_accuracy: 0.7662\n",
            "Epoch 113/200\n",
            "62/62 [==============================] - 0s 4ms/step - loss: 0.4165 - accuracy: 0.7899 - val_loss: 0.5136 - val_accuracy: 0.7662\n",
            "Epoch 114/200\n",
            "62/62 [==============================] - 0s 4ms/step - loss: 0.4220 - accuracy: 0.7866 - val_loss: 0.5159 - val_accuracy: 0.7727\n",
            "Epoch 115/200\n",
            "62/62 [==============================] - 0s 5ms/step - loss: 0.4104 - accuracy: 0.8127 - val_loss: 0.5147 - val_accuracy: 0.7727\n",
            "Epoch 116/200\n",
            "62/62 [==============================] - 0s 4ms/step - loss: 0.4253 - accuracy: 0.7883 - val_loss: 0.5135 - val_accuracy: 0.7727\n",
            "Epoch 117/200\n",
            "62/62 [==============================] - 0s 4ms/step - loss: 0.4198 - accuracy: 0.7948 - val_loss: 0.5118 - val_accuracy: 0.7727\n",
            "Epoch 118/200\n",
            "62/62 [==============================] - 0s 5ms/step - loss: 0.4194 - accuracy: 0.7964 - val_loss: 0.5131 - val_accuracy: 0.7727\n",
            "Epoch 119/200\n",
            "62/62 [==============================] - 0s 6ms/step - loss: 0.4202 - accuracy: 0.8013 - val_loss: 0.5134 - val_accuracy: 0.7662\n",
            "Epoch 120/200\n",
            "62/62 [==============================] - 0s 6ms/step - loss: 0.4166 - accuracy: 0.7980 - val_loss: 0.5121 - val_accuracy: 0.7727\n",
            "Epoch 121/200\n",
            "62/62 [==============================] - 0s 6ms/step - loss: 0.4184 - accuracy: 0.8029 - val_loss: 0.5141 - val_accuracy: 0.7662\n",
            "Epoch 122/200\n",
            "62/62 [==============================] - 0s 5ms/step - loss: 0.4183 - accuracy: 0.7915 - val_loss: 0.5153 - val_accuracy: 0.7727\n",
            "Epoch 123/200\n",
            "62/62 [==============================] - 0s 5ms/step - loss: 0.4126 - accuracy: 0.7964 - val_loss: 0.5151 - val_accuracy: 0.7662\n",
            "Epoch 124/200\n",
            "62/62 [==============================] - 0s 6ms/step - loss: 0.4136 - accuracy: 0.7850 - val_loss: 0.5163 - val_accuracy: 0.7727\n",
            "Epoch 125/200\n",
            "62/62 [==============================] - 0s 5ms/step - loss: 0.4161 - accuracy: 0.7980 - val_loss: 0.5148 - val_accuracy: 0.7727\n",
            "Epoch 126/200\n",
            "62/62 [==============================] - 0s 5ms/step - loss: 0.4099 - accuracy: 0.8046 - val_loss: 0.5166 - val_accuracy: 0.7792\n",
            "Epoch 127/200\n",
            "62/62 [==============================] - 0s 8ms/step - loss: 0.4128 - accuracy: 0.7948 - val_loss: 0.5125 - val_accuracy: 0.7727\n",
            "Epoch 128/200\n",
            "62/62 [==============================] - 0s 4ms/step - loss: 0.4205 - accuracy: 0.7915 - val_loss: 0.5134 - val_accuracy: 0.7727\n",
            "Epoch 129/200\n",
            "62/62 [==============================] - 0s 4ms/step - loss: 0.4048 - accuracy: 0.8176 - val_loss: 0.5124 - val_accuracy: 0.7792\n",
            "Epoch 130/200\n",
            "62/62 [==============================] - 0s 5ms/step - loss: 0.4222 - accuracy: 0.7801 - val_loss: 0.5117 - val_accuracy: 0.7792\n",
            "Epoch 131/200\n",
            "62/62 [==============================] - 0s 4ms/step - loss: 0.4198 - accuracy: 0.7932 - val_loss: 0.5133 - val_accuracy: 0.7727\n",
            "Epoch 132/200\n",
            "62/62 [==============================] - 0s 4ms/step - loss: 0.4227 - accuracy: 0.7948 - val_loss: 0.5151 - val_accuracy: 0.7792\n",
            "Epoch 133/200\n",
            "62/62 [==============================] - 0s 5ms/step - loss: 0.4084 - accuracy: 0.7948 - val_loss: 0.5155 - val_accuracy: 0.7727\n",
            "Epoch 134/200\n",
            "62/62 [==============================] - 0s 5ms/step - loss: 0.4161 - accuracy: 0.8046 - val_loss: 0.5154 - val_accuracy: 0.7792\n",
            "Epoch 135/200\n",
            "62/62 [==============================] - 0s 6ms/step - loss: 0.4213 - accuracy: 0.7785 - val_loss: 0.5159 - val_accuracy: 0.7792\n",
            "Epoch 136/200\n",
            "62/62 [==============================] - 0s 7ms/step - loss: 0.4150 - accuracy: 0.8029 - val_loss: 0.5148 - val_accuracy: 0.7727\n",
            "Epoch 137/200\n",
            "62/62 [==============================] - 0s 6ms/step - loss: 0.4100 - accuracy: 0.7980 - val_loss: 0.5167 - val_accuracy: 0.7727\n",
            "Epoch 138/200\n",
            "62/62 [==============================] - 0s 7ms/step - loss: 0.4121 - accuracy: 0.8094 - val_loss: 0.5135 - val_accuracy: 0.7727\n",
            "Epoch 139/200\n",
            "62/62 [==============================] - 0s 5ms/step - loss: 0.4135 - accuracy: 0.7948 - val_loss: 0.5123 - val_accuracy: 0.7792\n",
            "Epoch 140/200\n",
            "62/62 [==============================] - 0s 4ms/step - loss: 0.4208 - accuracy: 0.7948 - val_loss: 0.5121 - val_accuracy: 0.7792\n",
            "Epoch 141/200\n",
            "62/62 [==============================] - 0s 4ms/step - loss: 0.4090 - accuracy: 0.7964 - val_loss: 0.5162 - val_accuracy: 0.7597\n",
            "Epoch 142/200\n",
            "62/62 [==============================] - 0s 5ms/step - loss: 0.4064 - accuracy: 0.8046 - val_loss: 0.5128 - val_accuracy: 0.7792\n",
            "Epoch 143/200\n",
            "62/62 [==============================] - 0s 4ms/step - loss: 0.4182 - accuracy: 0.7883 - val_loss: 0.5141 - val_accuracy: 0.7792\n",
            "Epoch 144/200\n",
            "62/62 [==============================] - 0s 4ms/step - loss: 0.4168 - accuracy: 0.7915 - val_loss: 0.5133 - val_accuracy: 0.7792\n",
            "Epoch 145/200\n",
            "62/62 [==============================] - 0s 4ms/step - loss: 0.4137 - accuracy: 0.7948 - val_loss: 0.5134 - val_accuracy: 0.7792\n",
            "Epoch 146/200\n",
            "62/62 [==============================] - 0s 4ms/step - loss: 0.4199 - accuracy: 0.7866 - val_loss: 0.5122 - val_accuracy: 0.7792\n",
            "Epoch 147/200\n",
            "62/62 [==============================] - 0s 4ms/step - loss: 0.4114 - accuracy: 0.8013 - val_loss: 0.5152 - val_accuracy: 0.7727\n",
            "Epoch 148/200\n",
            "62/62 [==============================] - 0s 4ms/step - loss: 0.4201 - accuracy: 0.7850 - val_loss: 0.5144 - val_accuracy: 0.7727\n",
            "Epoch 149/200\n",
            "62/62 [==============================] - 0s 4ms/step - loss: 0.4119 - accuracy: 0.7997 - val_loss: 0.5163 - val_accuracy: 0.7792\n",
            "Epoch 150/200\n",
            "62/62 [==============================] - 0s 5ms/step - loss: 0.4082 - accuracy: 0.8046 - val_loss: 0.5117 - val_accuracy: 0.7792\n",
            "Epoch 151/200\n",
            "62/62 [==============================] - 0s 4ms/step - loss: 0.4124 - accuracy: 0.8078 - val_loss: 0.5130 - val_accuracy: 0.7792\n",
            "Epoch 152/200\n",
            "62/62 [==============================] - 0s 4ms/step - loss: 0.4129 - accuracy: 0.8029 - val_loss: 0.5124 - val_accuracy: 0.7727\n",
            "Epoch 153/200\n",
            "62/62 [==============================] - 0s 4ms/step - loss: 0.4047 - accuracy: 0.8046 - val_loss: 0.5162 - val_accuracy: 0.7727\n",
            "Epoch 154/200\n",
            "62/62 [==============================] - 0s 5ms/step - loss: 0.4197 - accuracy: 0.7899 - val_loss: 0.5132 - val_accuracy: 0.7727\n",
            "Epoch 155/200\n",
            "62/62 [==============================] - 0s 4ms/step - loss: 0.4108 - accuracy: 0.8078 - val_loss: 0.5124 - val_accuracy: 0.7727\n",
            "Epoch 156/200\n",
            "62/62 [==============================] - 0s 4ms/step - loss: 0.4139 - accuracy: 0.7915 - val_loss: 0.5096 - val_accuracy: 0.7727\n",
            "Epoch 157/200\n",
            "62/62 [==============================] - 0s 4ms/step - loss: 0.4032 - accuracy: 0.8029 - val_loss: 0.5098 - val_accuracy: 0.7792\n",
            "Epoch 158/200\n",
            "62/62 [==============================] - 0s 4ms/step - loss: 0.4241 - accuracy: 0.7915 - val_loss: 0.5117 - val_accuracy: 0.7792\n",
            "Epoch 159/200\n",
            "62/62 [==============================] - 0s 6ms/step - loss: 0.4140 - accuracy: 0.7915 - val_loss: 0.5119 - val_accuracy: 0.7792\n",
            "Epoch 160/200\n",
            "62/62 [==============================] - 0s 6ms/step - loss: 0.4134 - accuracy: 0.8127 - val_loss: 0.5096 - val_accuracy: 0.7792\n",
            "Epoch 161/200\n",
            "62/62 [==============================] - 0s 6ms/step - loss: 0.4099 - accuracy: 0.7980 - val_loss: 0.5113 - val_accuracy: 0.7792\n",
            "Epoch 162/200\n",
            "62/62 [==============================] - 0s 6ms/step - loss: 0.4203 - accuracy: 0.7932 - val_loss: 0.5121 - val_accuracy: 0.7727\n",
            "Epoch 163/200\n",
            "62/62 [==============================] - 0s 6ms/step - loss: 0.4119 - accuracy: 0.7997 - val_loss: 0.5128 - val_accuracy: 0.7727\n",
            "Epoch 164/200\n",
            "62/62 [==============================] - 0s 6ms/step - loss: 0.4092 - accuracy: 0.8127 - val_loss: 0.5151 - val_accuracy: 0.7662\n",
            "Epoch 165/200\n",
            "62/62 [==============================] - 0s 5ms/step - loss: 0.4224 - accuracy: 0.7883 - val_loss: 0.5124 - val_accuracy: 0.7792\n",
            "Epoch 166/200\n",
            "62/62 [==============================] - 0s 5ms/step - loss: 0.4190 - accuracy: 0.7866 - val_loss: 0.5140 - val_accuracy: 0.7727\n",
            "Epoch 167/200\n",
            "62/62 [==============================] - 0s 4ms/step - loss: 0.4111 - accuracy: 0.7980 - val_loss: 0.5139 - val_accuracy: 0.7662\n",
            "Epoch 168/200\n",
            "62/62 [==============================] - 0s 4ms/step - loss: 0.4171 - accuracy: 0.7915 - val_loss: 0.5113 - val_accuracy: 0.7792\n",
            "Epoch 169/200\n",
            "62/62 [==============================] - 0s 4ms/step - loss: 0.3935 - accuracy: 0.8176 - val_loss: 0.5155 - val_accuracy: 0.7727\n",
            "Epoch 170/200\n",
            "62/62 [==============================] - 0s 4ms/step - loss: 0.4003 - accuracy: 0.8062 - val_loss: 0.5136 - val_accuracy: 0.7727\n",
            "Epoch 171/200\n",
            "62/62 [==============================] - 0s 4ms/step - loss: 0.4047 - accuracy: 0.8176 - val_loss: 0.5125 - val_accuracy: 0.7662\n",
            "Epoch 172/200\n",
            "62/62 [==============================] - 0s 4ms/step - loss: 0.4155 - accuracy: 0.8029 - val_loss: 0.5142 - val_accuracy: 0.7727\n",
            "Epoch 173/200\n",
            "62/62 [==============================] - 0s 6ms/step - loss: 0.4033 - accuracy: 0.7932 - val_loss: 0.5116 - val_accuracy: 0.7792\n",
            "Epoch 174/200\n",
            "62/62 [==============================] - 0s 6ms/step - loss: 0.3933 - accuracy: 0.8078 - val_loss: 0.5148 - val_accuracy: 0.7857\n",
            "Epoch 175/200\n",
            "62/62 [==============================] - 0s 4ms/step - loss: 0.4108 - accuracy: 0.8127 - val_loss: 0.5136 - val_accuracy: 0.7792\n",
            "Epoch 176/200\n",
            "62/62 [==============================] - 0s 6ms/step - loss: 0.4171 - accuracy: 0.7850 - val_loss: 0.5134 - val_accuracy: 0.7662\n",
            "Epoch 177/200\n",
            "62/62 [==============================] - 0s 6ms/step - loss: 0.4049 - accuracy: 0.8062 - val_loss: 0.5141 - val_accuracy: 0.7662\n",
            "Epoch 178/200\n",
            "62/62 [==============================] - 0s 6ms/step - loss: 0.4067 - accuracy: 0.7932 - val_loss: 0.5126 - val_accuracy: 0.7857\n",
            "Epoch 179/200\n",
            "62/62 [==============================] - 0s 6ms/step - loss: 0.4062 - accuracy: 0.7932 - val_loss: 0.5170 - val_accuracy: 0.7792\n",
            "Epoch 180/200\n",
            "62/62 [==============================] - 1s 9ms/step - loss: 0.4087 - accuracy: 0.7899 - val_loss: 0.5170 - val_accuracy: 0.7727\n",
            "Epoch 181/200\n",
            "62/62 [==============================] - 0s 8ms/step - loss: 0.4039 - accuracy: 0.8094 - val_loss: 0.5182 - val_accuracy: 0.7727\n",
            "Epoch 182/200\n",
            "62/62 [==============================] - 0s 4ms/step - loss: 0.4035 - accuracy: 0.8208 - val_loss: 0.5164 - val_accuracy: 0.7727\n",
            "Epoch 183/200\n",
            "62/62 [==============================] - 0s 4ms/step - loss: 0.4023 - accuracy: 0.8160 - val_loss: 0.5159 - val_accuracy: 0.7727\n",
            "Epoch 184/200\n",
            "62/62 [==============================] - 0s 4ms/step - loss: 0.4110 - accuracy: 0.8046 - val_loss: 0.5156 - val_accuracy: 0.7662\n",
            "Epoch 185/200\n",
            "62/62 [==============================] - 0s 5ms/step - loss: 0.4056 - accuracy: 0.8013 - val_loss: 0.5139 - val_accuracy: 0.7727\n",
            "Epoch 186/200\n",
            "62/62 [==============================] - 0s 4ms/step - loss: 0.3870 - accuracy: 0.7997 - val_loss: 0.5126 - val_accuracy: 0.7727\n",
            "Epoch 187/200\n",
            "62/62 [==============================] - 0s 4ms/step - loss: 0.4092 - accuracy: 0.8029 - val_loss: 0.5127 - val_accuracy: 0.7662\n",
            "Epoch 188/200\n",
            "62/62 [==============================] - 0s 4ms/step - loss: 0.3985 - accuracy: 0.8062 - val_loss: 0.5112 - val_accuracy: 0.7792\n",
            "Epoch 189/200\n",
            "62/62 [==============================] - 0s 5ms/step - loss: 0.4008 - accuracy: 0.8029 - val_loss: 0.5123 - val_accuracy: 0.7727\n",
            "Epoch 190/200\n",
            "62/62 [==============================] - 0s 4ms/step - loss: 0.4018 - accuracy: 0.7948 - val_loss: 0.5118 - val_accuracy: 0.7727\n",
            "Epoch 191/200\n",
            "62/62 [==============================] - 0s 4ms/step - loss: 0.3941 - accuracy: 0.8062 - val_loss: 0.5144 - val_accuracy: 0.7727\n",
            "Epoch 192/200\n",
            "62/62 [==============================] - 0s 4ms/step - loss: 0.4143 - accuracy: 0.8111 - val_loss: 0.5112 - val_accuracy: 0.7792\n",
            "Epoch 193/200\n",
            "62/62 [==============================] - 0s 4ms/step - loss: 0.4103 - accuracy: 0.7899 - val_loss: 0.5147 - val_accuracy: 0.7792\n",
            "Epoch 194/200\n",
            "62/62 [==============================] - 0s 4ms/step - loss: 0.3978 - accuracy: 0.8127 - val_loss: 0.5162 - val_accuracy: 0.7662\n",
            "Epoch 195/200\n",
            "62/62 [==============================] - 0s 5ms/step - loss: 0.4016 - accuracy: 0.8143 - val_loss: 0.5147 - val_accuracy: 0.7792\n",
            "Epoch 196/200\n",
            "62/62 [==============================] - 0s 4ms/step - loss: 0.4021 - accuracy: 0.7964 - val_loss: 0.5187 - val_accuracy: 0.7662\n",
            "Epoch 197/200\n",
            "62/62 [==============================] - 0s 4ms/step - loss: 0.4163 - accuracy: 0.8046 - val_loss: 0.5181 - val_accuracy: 0.7727\n",
            "Epoch 198/200\n",
            "62/62 [==============================] - 0s 6ms/step - loss: 0.3998 - accuracy: 0.8094 - val_loss: 0.5156 - val_accuracy: 0.7792\n",
            "Epoch 199/200\n",
            "62/62 [==============================] - 0s 5ms/step - loss: 0.3963 - accuracy: 0.8143 - val_loss: 0.5131 - val_accuracy: 0.7792\n",
            "Epoch 200/200\n",
            "62/62 [==============================] - 0s 6ms/step - loss: 0.3985 - accuracy: 0.8176 - val_loss: 0.5150 - val_accuracy: 0.7662\n"
          ]
        }
      ]
    },
    {
      "cell_type": "code",
      "metadata": {
        "id": "esIaQfTZuSa5",
        "colab": {
          "base_uri": "https://localhost:8080/",
          "height": 472
        },
        "outputId": "958beeb3-0b76-45fd-a5b5-5c2f7d334cf7"
      },
      "source": [
        "# Make a plot of model accuracy vs. epochs \n",
        "# summarize history for accuracy\n",
        "plt.plot(history.history['accuracy'])\n",
        "plt.plot(history.history['val_accuracy'])\n",
        "plt.title('Model Accuracy vs Epochs')\n",
        "plt.ylabel('accuracy')\n",
        "plt.xlabel('epoch')\n",
        "plt.legend(['Train', 'Validation'], loc='upper left')\n",
        "plt.show()\n"
      ],
      "execution_count": 61,
      "outputs": [
        {
          "output_type": "display_data",
          "data": {
            "text/plain": [
              "<Figure size 640x480 with 1 Axes>"
            ],
            "image/png": "[encoded data removed]"
          },
          "metadata": {}
        }
      ]
    },
    {
      "cell_type": "code",
      "metadata": {
        "id": "AWkfXByLXYmU",
        "colab": {
          "base_uri": "https://localhost:8080/",
          "height": 472
        },
        "outputId": "095ec72d-d2f7-4f43-b526-1865216fa4b2"
      },
      "source": [
        "# Plot model loss vs epochs\n",
        "# summarize history for loss\n",
        "plt.plot(history.history['loss'])\n",
        "plt.plot(history.history['val_loss'])\n",
        "plt.title('Model Loss vs Epochs')\n",
        "plt.ylabel('loss')\n",
        "plt.xlabel('epoch')\n",
        "plt.legend(['Train', 'Validation'], loc='upper left')\n",
        "plt.show()\n"
      ],
      "execution_count": 62,
      "outputs": [
        {
          "output_type": "display_data",
          "data": {
            "text/plain": [
              "<Figure size 640x480 with 1 Axes>"
            ],
            "image/png": "[encoded data removed]"
          },
          "metadata": {}
        }
      ]
    },
    {
      "cell_type": "code",
      "metadata": {
        "id": "06sk-xVJXiKp",
        "colab": {
          "base_uri": "https://localhost:8080/"
        },
        "outputId": "22ec9f3c-4c3d-4f1f-fdbd-fa223d2ae2ae"
      },
      "source": [
        "# Print final accuracy\n",
        "model.evaluate(X_val, y_val)"
      ],
      "execution_count": 64,
      "outputs": [
        {
          "output_type": "stream",
          "name": "stdout",
          "text": [
            "5/5 [==============================] - 0s 3ms/step - loss: 0.5150 - accuracy: 0.7662\n"
          ]
        },
        {
          "output_type": "execute_result",
          "data": {
            "text/plain": [
              "[0.514979898929596, 0.7662337422370911]"
            ]
          },
          "metadata": {},
          "execution_count": 64
        }
      ]
    },
    {
      "cell_type": "markdown",
      "metadata": {
        "id": "boQTjaJRXqud"
      },
      "source": [
        "### Question 4.2. Build a logistic regression model using the training set, and evaluate the training and validation set accuracy of the resulting model. (5 points)\n",
        "Feel free to use any pre-built functions for logistic regression.\n",
        "\n",
        "Hint: https://scikit-learn.org/stable/modules/classes.html#module-sklearn.linear_model"
      ]
    },
    {
      "cell_type": "code",
      "metadata": {
        "id": "ew6xNyfbN8Bt",
        "colab": {
          "base_uri": "https://localhost:8080/"
        },
        "outputId": "3202781f-f8c3-40e3-f42c-46757990db93"
      },
      "source": [
        "## Your code for fitting a logistic regression model \n",
        "from sklearn.linear_model import LogisticRegression\n",
        "\n",
        "from sklearn.metrics import confusion_matrix\n",
        "import matplotlib \n",
        "# fit the logistic regression model\n",
        "# note that only the training data X_train and y_train should be used in the training process\n",
        "clf_lr = LogisticRegression(random_state=0, solver='newton-cholesky').fit(X_train, y_train)\n",
        "print('\\nPrediction Probability')\n",
        "y_predicted = clf_lr.predict(X_val)\n",
        "predicted_lr = clf_lr.predict_proba(X_val)\n",
        "print(\"[ Min P(x,y): %.4f - \" % predicted_lr.min(),\"Max P(x,y): %.4f - \" % predicted_lr.max(), \"Mean P(x,y): %.4f ]\" % predicted_lr.mean())\n",
        "print('\\nConfusion Matrix')\n",
        "print(confusion_matrix(y_val,y_predicted))\n",
        "tn, fp, fn, tp = confusion_matrix(y_val,y_predicted).ravel()\n",
        "print(tn, fp, fn, tp)\n",
        "print('\\nBetas & Intercept')\n",
        "print(clf_lr.coef_)\n",
        "print(clf_lr.intercept_)\n",
        "print('\\nScore')\n",
        "clf_lr.score(X_val, y_val)\n",
        "\n"
      ],
      "execution_count": 59,
      "outputs": [
        {
          "output_type": "stream",
          "name": "stdout",
          "text": [
            "\n",
            "Prediction Probability\n",
            "[ Min P(x,y): 0.0240 -  Max P(x,y): 0.9760 -  Mean P(x,y): 0.5000 ]\n",
            "\n",
            "Confusion Matrix\n",
            "[[87 18]\n",
            " [19 30]]\n",
            "87 18 19 30\n",
            "\n",
            "Betas & Intercept\n",
            "[[ 0.4677367   1.1779494  -0.16731434 -0.01827802 -0.02310288  0.75387507\n",
            "   0.26463004  0.13983838]]\n",
            "[-0.83129246]\n",
            "\n",
            "Score\n"
          ]
        },
        {
          "output_type": "execute_result",
          "data": {
            "text/plain": [
              "0.7597402597402597"
            ]
          },
          "metadata": {},
          "execution_count": 59
        }
      ]
    },
    {
      "cell_type": "markdown",
      "metadata": {
        "id": "on94uP4Wr2kJ"
      },
      "source": [
        "### Question 4.3. Does your multi-layer neural network perform better than the logistic regression model? Why or why not (name three reasons)? (5 points)\n",
        "Word limit: 200 words.\n"
      ]
    },
    {
      "cell_type": "markdown",
      "source": [
        "**Your answer:** \n",
        "The average or maximum accuracy given by the score is almost the same for both models. In this case, the multi-layer NN was slightly better, and may have variations if re-trained. Nevertheless, he regression has a mean value of prediction probability of 0.5 for the validation data set. The results of the confusion matrix tell us that 18 false positives and 19 false negatives were delivered, which implies that the regression might have given 19 false alarms and sadly delayed the treatment for 18 patients, if it were the case that these data had been used for clinical purposes. Yet, as it was demonstrated by this work, it is way more easy to change the architecture of the multi-layer NN so it can perform better and achive better results subsequently, or even making it possible to compute a multivariate analysis more efficiently, if required.   "
      ],
      "metadata": {
        "id": "qS_i84LrJk0t"
      }
    }
  ]
}