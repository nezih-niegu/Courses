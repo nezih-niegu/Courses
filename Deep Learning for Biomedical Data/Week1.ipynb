{
  "nbformat": 4,
  "nbformat_minor": 0,
  "metadata": {
    "colab": {
      "provenance": []
    },
    "kernelspec": {
      "name": "python3",
      "display_name": "Python 3"
    }
  },
  "cells": [
    {
      "cell_type": "markdown",
      "metadata": {
        "id": "KH9jvECQOLnC"
      },
      "source": [
        "#Week 1 Lab: Machine Learning in Python\n",
        "\n",
        "In this example, we will generate some simulated data, fit logistic regression and random forest models, and evaluate the performance of the models\n",
        "\n",
        "Examples from: https://scikit-learn.org/stable/documentation.html\n",
        "\n",
        "Kun-Hsing Yu\n",
        "\n",
        "March 11, 2023"
      ]
    },
    {
      "cell_type": "markdown",
      "metadata": {
        "id": "rqiIal9NzLTB"
      },
      "source": [
        "## Part 1. Simulate a dataset and train a logistic regression model"
      ]
    },
    {
      "cell_type": "code",
      "metadata": {
        "id": "Ty9g3hbDNo6r"
      },
      "source": [
        "# import the required packages\n",
        "from sklearn.linear_model import LogisticRegression\n",
        "from sklearn.datasets import make_classification\n",
        "\n",
        "from sklearn.metrics import confusion_matrix"
      ],
      "execution_count": 3,
      "outputs": []
    },
    {
      "cell_type": "code",
      "metadata": {
        "id": "EiXrpxEJN8kN",
        "colab": {
          "base_uri": "https://localhost:8080/"
        },
        "outputId": "abf7ac46-61f9-41ad-89ab-1a67bd60a2b2"
      },
      "source": [
        "# generate simulated data\n",
        "n_train = 2000\n",
        "n_test = 500\n",
        "n_classes = 2\n",
        "X, y = make_classification(n_samples=n_train+n_test, n_features=10,\n",
        "                           n_classes=n_classes,\n",
        "                           n_informative=2, n_redundant=0,\n",
        "                           random_state=1, shuffle=True)\n",
        "X_train = X[0:n_train,:]\n",
        "y_train = y[0:n_train]\n",
        "X_test = X[n_train:(n_train+n_test),:]\n",
        "y_test = y[n_train:(n_train+n_test)]\n",
        "print(X_train.shape)\n",
        "print(y_train.shape)\n",
        "print(X_test.shape)\n",
        "print(y_test.shape)"
      ],
      "execution_count": 47,
      "outputs": [
        {
          "output_type": "stream",
          "name": "stdout",
          "text": [
            "(2000, 10)\n",
            "(2000,)\n",
            "(500, 10)\n",
            "(500,)\n"
          ]
        }
      ]
    },
    {
      "cell_type": "code",
      "metadata": {
        "id": "H3QRzCe2a3OI"
      },
      "source": [
        "# fit the logistic regression model\n",
        "# note that only the training data X_train and y_train should be used in the training process\n",
        "clf_lr = LogisticRegression(random_state=0, solver='lbfgs').fit(X_train, y_train)"
      ],
      "execution_count": 48,
      "outputs": []
    },
    {
      "cell_type": "code",
      "metadata": {
        "id": "V7s30xCbbNyH"
      },
      "source": [
        "# get prediction\n",
        "y_predicted = clf_lr.predict(X_test)\n"
      ],
      "execution_count": 49,
      "outputs": []
    },
    {
      "cell_type": "markdown",
      "metadata": {
        "id": "ODo45mxhyp-U"
      },
      "source": [
        "## Quiz Question 1\n",
        "How to get the predicted probability for each sample in the validation set?\n",
        "\n",
        "Hint: https://scikit-learn.org/stable/modules/generated/sklearn.linear_model.LogisticRegression.html#sklearn.linear_model.LogisticRegression.predict_proba\n"
      ]
    },
    {
      "cell_type": "code",
      "metadata": {
        "id": "MpBBO0gZbYNT"
      },
      "source": [
        "# Your codes here\n",
        "############################################################\n",
        "y_predicted_estimates_linear=clf_lr.predict_proba(X_test)\n",
        "y_predicted_estimates_log=clf_lr.predict_log_proba(X_test)\n"
      ],
      "execution_count": 50,
      "outputs": []
    },
    {
      "cell_type": "markdown",
      "metadata": {
        "id": "DiTJ_yI8y26U"
      },
      "source": [
        "##Quiz Question 2\n",
        "\n",
        "Generate the confusion matrix.\n",
        "\n",
        "Hint: https://scikit-learn.org/stable/modules/generated/sklearn.metrics.confusion_matrix.html"
      ]
    },
    {
      "cell_type": "code",
      "metadata": {
        "id": "px7b4zDubcPV",
        "colab": {
          "base_uri": "https://localhost:8080/"
        },
        "outputId": "69fcbef1-ac11-4f9e-9325-f4f20d72d03e"
      },
      "source": [
        "from numpy.ma.core import size\n",
        "# Your codes here\n",
        "############################################################\n",
        "confusion_matrix(y_test,y_predicted)"
      ],
      "execution_count": 65,
      "outputs": [
        {
          "output_type": "execute_result",
          "data": {
            "text/plain": [
              "array([[227,  18],\n",
              "       [ 31, 224]])"
            ]
          },
          "metadata": {},
          "execution_count": 65
        }
      ]
    },
    {
      "cell_type": "markdown",
      "metadata": {
        "id": "LXe9ADy015il"
      },
      "source": [
        "##Quiz Question 3\n",
        "\n",
        "Obtain the betas and intercept.\n",
        "\n",
        "Hint: https://scikit-learn.org/stable/modules/generated/sklearn.linear_model.LinearRegression.html#sklearn.linear_model.LinearRegression"
      ]
    },
    {
      "cell_type": "code",
      "metadata": {
        "id": "-iQO3pad1_7K"
      },
      "source": [
        "# Your codes here\n",
        "############################################################\n",
        "\n",
        "params=clf_lr.get_params(deep=True)\n",
        "\n",
        "intercept=clf_lr.intercept_\n",
        "\n",
        "coef=clf_lr.coef_"
      ],
      "execution_count": 74,
      "outputs": []
    },
    {
      "cell_type": "markdown",
      "metadata": {
        "id": "XErzpOJ8bOKL"
      },
      "source": [
        "## Part 2. Train a random forest model"
      ]
    },
    {
      "cell_type": "code",
      "metadata": {
        "id": "GWrUk-JacHQD"
      },
      "source": [
        "# load the package\n",
        "from sklearn.ensemble import RandomForestClassifier"
      ],
      "execution_count": 76,
      "outputs": []
    },
    {
      "cell_type": "markdown",
      "metadata": {
        "id": "G5wT_ZJ3zd7x"
      },
      "source": [
        "## Quiz Question 4\n",
        "\n",
        "Define and fit a random forest model.\n",
        "\n",
        "Hint: https://scikit-learn.org/stable/modules/generated/sklearn.ensemble.RandomForestClassifier.html\n"
      ]
    },
    {
      "cell_type": "code",
      "metadata": {
        "id": "JNhB1Er7x4Pv"
      },
      "source": [
        "# Your codes here\n",
        "clf_rf = RandomForestClassifier(random_state=0).fit(X_train, y_train)\n",
        "\n",
        "############################################################\n"
      ],
      "execution_count": 97,
      "outputs": []
    },
    {
      "cell_type": "code",
      "metadata": {
        "id": "ehIuRfnZO_0t",
        "colab": {
          "base_uri": "https://localhost:8080/"
        },
        "outputId": "bd2f53b1-0398-47c5-a4fb-eea06add23dc"
      },
      "source": [
        "# get prediction\n",
        "y_predicted = clf_rf.predict(X_test)"
      ],
      "execution_count": 102,
      "outputs": [
        {
          "output_type": "execute_result",
          "data": {
            "text/plain": [
              "500"
            ]
          },
          "metadata": {},
          "execution_count": 102
        }
      ]
    },
    {
      "cell_type": "code",
      "metadata": {
        "id": "eKM1HO2DTT5u",
        "colab": {
          "base_uri": "https://localhost:8080/"
        },
        "outputId": "7e8ce9ec-8027-49bb-826d-5f79d0104cca"
      },
      "source": [
        "# get predicted probability\n",
        "y_score = clf_rf.predict_proba(X_test)"
      ],
      "execution_count": 101,
      "outputs": [
        {
          "output_type": "execute_result",
          "data": {
            "text/plain": [
              "1000"
            ]
          },
          "metadata": {},
          "execution_count": 101
        }
      ]
    },
    {
      "cell_type": "code",
      "metadata": {
        "id": "ESKgPJtdQCDW",
        "colab": {
          "base_uri": "https://localhost:8080/"
        },
        "outputId": "de81d0b3-7964-4933-9a2a-e47fc53b9c06"
      },
      "source": [
        "# generate the confusion matrix (from quiz question 2)\n",
        "confusion_matrix(y_test,y_predicted)\n",
        "############################################################\n"
      ],
      "execution_count": 81,
      "outputs": [
        {
          "output_type": "execute_result",
          "data": {
            "text/plain": [
              "array([[228,  17],\n",
              "       [ 24, 231]])"
            ]
          },
          "metadata": {},
          "execution_count": 81
        }
      ]
    },
    {
      "cell_type": "markdown",
      "metadata": {
        "id": "uI_76Q6e0Sb6"
      },
      "source": [
        "## Quiz Question 5\n",
        "Obtain the feature importance."
      ]
    },
    {
      "cell_type": "code",
      "metadata": {
        "id": "Mzq-ULtL0Rbu",
        "colab": {
          "base_uri": "https://localhost:8080/"
        },
        "outputId": "9bcddabd-c334-46ad-8122-5d8fa4276ded"
      },
      "source": [
        "# Your codes here\n",
        "clf_rf.feature_importances_\n",
        "############################################################\n"
      ],
      "execution_count": 82,
      "outputs": [
        {
          "output_type": "execute_result",
          "data": {
            "text/plain": [
              "array([0.02899487, 0.02935671, 0.02631522, 0.0292122 , 0.02741886,\n",
              "       0.02734553, 0.08075576, 0.0275012 , 0.03012055, 0.69297909])"
            ]
          },
          "metadata": {},
          "execution_count": 82
        }
      ]
    },
    {
      "cell_type": "markdown",
      "metadata": {
        "id": "VxwdKiuE0d7w"
      },
      "source": [
        "## Quiz Question 6\n",
        "\n",
        "Generate the ROC curve.\n",
        "\n",
        "Hint: https://scikit-learn.org/stable/auto_examples/model_selection/plot_roc.html"
      ]
    },
    {
      "cell_type": "code",
      "metadata": {
        "id": "JBwXHfKaUzUk",
        "colab": {
          "base_uri": "https://localhost:8080/",
          "height": 279
        },
        "outputId": "f021c61d-4748-4c1f-cc4b-44ddaf058e0d"
      },
      "source": [
        "#from sklearn.metrics import roc_curve, auc\n",
        "import matplotlib.pyplot as plt\n",
        "from sklearn.metrics import RocCurveDisplay\n",
        "# Your codes here\n",
        "ax = plt.gca()\n",
        "rf_disp = RocCurveDisplay.from_estimator(clf_rf, X_test, y_test, ax=ax, alpha=0.8)\n",
        "lr_disp = RocCurveDisplay.from_estimator(clf_lr, X_test, y_test, ax=ax, alpha=0.8)\n",
        "plt.show()\n",
        "############################################################\n",
        "\n"
      ],
      "execution_count": 114,
      "outputs": [
        {
          "output_type": "display_data",
          "data": {
            "text/plain": [
              "<Figure size 432x288 with 1 Axes>"
            ],
            "image/png": "[encoded data removed]"
          },
          "metadata": {
            "needs_background": "light"
          }
        }
      ]
    }
  ]
}