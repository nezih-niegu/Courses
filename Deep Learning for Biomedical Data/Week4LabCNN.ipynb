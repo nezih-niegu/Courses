{
  "nbformat": 4,
  "nbformat_minor": 0,
  "metadata": {
    "colab": {
      "provenance": []
    },
    "kernelspec": {
      "name": "python3",
      "display_name": "Python 3"
    },
    "accelerator": "GPU"
  },
  "cells": [
    {
      "cell_type": "code",
      "metadata": {
        "id": "uh94VNEQA4Zg",
        "colab": {
          "base_uri": "https://localhost:8080/"
        },
        "outputId": "b08e7f7c-01fb-4276-a167-cf12f5cbad0d"
      },
      "source": [
        "!wget https://www.dropbox.com/s/viz3bmc8cil4w1y/train_data.csv?dl=1\n",
        "!wget https://www.dropbox.com/s/07wu5by7llczd36/test_data.csv?dl=1\n",
        "!wget https://www.dropbox.com/s/meymqbp1wrl23q6/sample_solution.csv?dl=1\n",
        "!pip install gensim\n",
        "import gensim.downloader as api\n",
        "word_vectors = api.load('glove-wiki-gigaword-100') "
      ],
      "execution_count": 1,
      "outputs": [
        {
          "output_type": "stream",
          "name": "stdout",
          "text": [
            "--2023-04-19 04:26:33--  https://www.dropbox.com/s/viz3bmc8cil4w1y/train_data.csv?dl=1\n",
            "Resolving www.dropbox.com (www.dropbox.com)... 162.125.3.18, 2620:100:6018:18::a27d:312\n",
            "Connecting to www.dropbox.com (www.dropbox.com)|162.125.3.18|:443... connected.\n",
            "HTTP request sent, awaiting response... 302 Found\n",
            "Location: /s/dl/viz3bmc8cil4w1y/train_data.csv [following]\n",
            "--2023-04-19 04:26:33--  https://www.dropbox.com/s/dl/viz3bmc8cil4w1y/train_data.csv\n",
            "Reusing existing connection to www.dropbox.com:443.\n",
            "HTTP request sent, awaiting response... 302 Found\n",
            "Location: https://uc0073fd01b38389862667c68948.dl.dropboxusercontent.com/cd/0/get/B6e9fZ7ZLmbDMgW3_1llinDjE2wazkLuJEhbXcSTZpLfPsBdXUNMPjcSxBnDZaAELdeHqZGYofuXjgp-HOxfex-azro9iY9qZN8adG9oyrwkxl0n14saUbg8jv5u8leuB1Gq8mhaYfAHgkJc0qxJoMp1j84xclHoOH77UI3dSk108Q/file?dl=1# [following]\n",
            "--2023-04-19 04:26:34--  https://uc0073fd01b38389862667c68948.dl.dropboxusercontent.com/cd/0/get/B6e9fZ7ZLmbDMgW3_1llinDjE2wazkLuJEhbXcSTZpLfPsBdXUNMPjcSxBnDZaAELdeHqZGYofuXjgp-HOxfex-azro9iY9qZN8adG9oyrwkxl0n14saUbg8jv5u8leuB1Gq8mhaYfAHgkJc0qxJoMp1j84xclHoOH77UI3dSk108Q/file?dl=1\n",
            "Resolving uc0073fd01b38389862667c68948.dl.dropboxusercontent.com (uc0073fd01b38389862667c68948.dl.dropboxusercontent.com)... 162.125.3.15, 2620:100:6018:15::a27d:30f\n",
            "Connecting to uc0073fd01b38389862667c68948.dl.dropboxusercontent.com (uc0073fd01b38389862667c68948.dl.dropboxusercontent.com)|162.125.3.15|:443... connected.\n",
            "HTTP request sent, awaiting response... 200 OK\n",
            "Length: 19724914 (19M) [application/binary]\n",
            "Saving to: ‘train_data.csv?dl=1’\n",
            "\n",
            "train_data.csv?dl=1 100%[===================>]  18.81M  77.2MB/s    in 0.2s    \n",
            "\n",
            "2023-04-19 04:26:34 (77.2 MB/s) - ‘train_data.csv?dl=1’ saved [19724914/19724914]\n",
            "\n",
            "--2023-04-19 04:26:34--  https://www.dropbox.com/s/07wu5by7llczd36/test_data.csv?dl=1\n",
            "Resolving www.dropbox.com (www.dropbox.com)... 162.125.3.18, 2620:100:6030:18::a27d:5012\n",
            "Connecting to www.dropbox.com (www.dropbox.com)|162.125.3.18|:443... connected.\n",
            "HTTP request sent, awaiting response... 302 Found\n",
            "Location: /s/dl/07wu5by7llczd36/test_data.csv [following]\n",
            "--2023-04-19 04:26:35--  https://www.dropbox.com/s/dl/07wu5by7llczd36/test_data.csv\n",
            "Reusing existing connection to www.dropbox.com:443.\n",
            "HTTP request sent, awaiting response... 302 Found\n",
            "Location: https://uc63e2aea673ec2e404019f429fc.dl.dropboxusercontent.com/cd/0/get/B6c4ZmbH2UFZEgrbPdWJBx_W5-YON98SBQXn-bSQ7flH_DgBMvEwXhoNAsZHnHsDz5b2IhBOMPd-7vQs9PkBkwgY6r03-sZXz5z-XpqmlIigBaqDHMRvFKSl-GPo6R25X6aBfU1w3NFVX9dzMbLYBqnscSo3cdQKxHfXsXezeKbJSw/file?dl=1# [following]\n",
            "--2023-04-19 04:26:35--  https://uc63e2aea673ec2e404019f429fc.dl.dropboxusercontent.com/cd/0/get/B6c4ZmbH2UFZEgrbPdWJBx_W5-YON98SBQXn-bSQ7flH_DgBMvEwXhoNAsZHnHsDz5b2IhBOMPd-7vQs9PkBkwgY6r03-sZXz5z-XpqmlIigBaqDHMRvFKSl-GPo6R25X6aBfU1w3NFVX9dzMbLYBqnscSo3cdQKxHfXsXezeKbJSw/file?dl=1\n",
            "Resolving uc63e2aea673ec2e404019f429fc.dl.dropboxusercontent.com (uc63e2aea673ec2e404019f429fc.dl.dropboxusercontent.com)... 162.125.3.15, 2620:100:6018:15::a27d:30f\n",
            "Connecting to uc63e2aea673ec2e404019f429fc.dl.dropboxusercontent.com (uc63e2aea673ec2e404019f429fc.dl.dropboxusercontent.com)|162.125.3.15|:443... connected.\n",
            "HTTP request sent, awaiting response... 200 OK\n",
            "Length: 12332351 (12M) [application/binary]\n",
            "Saving to: ‘test_data.csv?dl=1’\n",
            "\n",
            "test_data.csv?dl=1  100%[===================>]  11.76M  60.5MB/s    in 0.2s    \n",
            "\n",
            "2023-04-19 04:26:36 (60.5 MB/s) - ‘test_data.csv?dl=1’ saved [12332351/12332351]\n",
            "\n",
            "--2023-04-19 04:26:36--  https://www.dropbox.com/s/meymqbp1wrl23q6/sample_solution.csv?dl=1\n",
            "Resolving www.dropbox.com (www.dropbox.com)... 162.125.3.18, 2620:100:6030:18::a27d:5012\n",
            "Connecting to www.dropbox.com (www.dropbox.com)|162.125.3.18|:443... connected.\n",
            "HTTP request sent, awaiting response... 302 Found\n",
            "Location: /s/dl/meymqbp1wrl23q6/sample_solution.csv [following]\n",
            "--2023-04-19 04:26:36--  https://www.dropbox.com/s/dl/meymqbp1wrl23q6/sample_solution.csv\n",
            "Reusing existing connection to www.dropbox.com:443.\n",
            "HTTP request sent, awaiting response... 302 Found\n",
            "Location: https://uc166e94c5413b4a0be785d9613b.dl.dropboxusercontent.com/cd/0/get/B6e2y8UJtJfddLm07T2SKHHnSG29mWGCuK_IioErhZ0cu-NkYSF1ZknqtVLuQ08oVMtCIwiLay7FsGc8PYXsccS8W7zFtRg_lECDYqRruWjDTxt1ilqMOoCKnbXfngIGv3PB8eOEhGfYae1JvkyGcMEwaZKp5o5UgMiSl879-7cASw/file?dl=1# [following]\n",
            "--2023-04-19 04:26:36--  https://uc166e94c5413b4a0be785d9613b.dl.dropboxusercontent.com/cd/0/get/B6e2y8UJtJfddLm07T2SKHHnSG29mWGCuK_IioErhZ0cu-NkYSF1ZknqtVLuQ08oVMtCIwiLay7FsGc8PYXsccS8W7zFtRg_lECDYqRruWjDTxt1ilqMOoCKnbXfngIGv3PB8eOEhGfYae1JvkyGcMEwaZKp5o5UgMiSl879-7cASw/file?dl=1\n",
            "Resolving uc166e94c5413b4a0be785d9613b.dl.dropboxusercontent.com (uc166e94c5413b4a0be785d9613b.dl.dropboxusercontent.com)... 162.125.3.15, 2620:100:6018:15::a27d:30f\n",
            "Connecting to uc166e94c5413b4a0be785d9613b.dl.dropboxusercontent.com (uc166e94c5413b4a0be785d9613b.dl.dropboxusercontent.com)|162.125.3.15|:443... connected.\n",
            "HTTP request sent, awaiting response... 200 OK\n",
            "Length: 338007 (330K) [application/binary]\n",
            "Saving to: ‘sample_solution.csv?dl=1’\n",
            "\n",
            "sample_solution.csv 100%[===================>] 330.08K  --.-KB/s    in 0.04s   \n",
            "\n",
            "2023-04-19 04:26:37 (7.64 MB/s) - ‘sample_solution.csv?dl=1’ saved [338007/338007]\n",
            "\n",
            "Looking in indexes: https://pypi.org/simple, https://us-python.pkg.dev/colab-wheels/public/simple/\n",
            "Requirement already satisfied: gensim in /usr/local/lib/python3.9/dist-packages (4.3.1)\n",
            "Requirement already satisfied: numpy>=1.18.5 in /usr/local/lib/python3.9/dist-packages (from gensim) (1.22.4)\n",
            "Requirement already satisfied: smart-open>=1.8.1 in /usr/local/lib/python3.9/dist-packages (from gensim) (6.3.0)\n",
            "Requirement already satisfied: scipy>=1.7.0 in /usr/local/lib/python3.9/dist-packages (from gensim) (1.10.1)\n",
            "[==================================================] 100.0% 128.1/128.1MB downloaded\n"
          ]
        }
      ]
    },
    {
      "cell_type": "code",
      "metadata": {
        "id": "8dzOvtRnA_AH"
      },
      "source": [
        "import pandas as pd\n",
        "import numpy as np\n",
        "train_data = pd.read_csv('train_data.csv?dl=1', encoding = 'latin-1')\n",
        "test_data = pd.read_csv('test_data.csv?dl=1', encoding = 'latin-1')\n",
        "train_data.iloc[0:5]\n",
        "\n",
        "## Tokenize ##\n",
        "from tensorflow.keras.preprocessing.text import Tokenizer\n",
        "texts = train_data['Text']\n",
        "test_sentences = test_data['Text']\n",
        "labels = train_data['Label']\n",
        "\n",
        "max_words = 10000\n",
        "token = Tokenizer(max_words)\n",
        "token.fit_on_texts(texts)\n",
        "vocab_size = max_words + 1\n",
        "\n",
        "sequences = token.texts_to_sequences(texts)\n",
        "test_sequences = token.texts_to_sequences(test_sentences)\n",
        "\n",
        "## Convert to sequences ##\n",
        "from tensorflow.keras.preprocessing.sequence import pad_sequences\n",
        "seq_len = 125\n",
        "X = pad_sequences(sequences, maxlen=seq_len)\n",
        "X_test = pad_sequences(test_sequences, maxlen=seq_len)\n",
        "\n",
        "## Make y one-hot ##\n",
        "y = np.zeros( (len(labels),len(np.unique(labels)) ) )\n",
        "for l in np.unique(labels):\n",
        "    pos_inds = np.where(labels == l)[0]\n",
        "    y[pos_inds,l] = 1\n",
        "\n",
        "num_classes = y.shape[1]\n"
      ],
      "execution_count": 2,
      "outputs": []
    },
    {
      "cell_type": "code",
      "metadata": {
        "id": "5K1BCGZrBBqG",
        "colab": {
          "base_uri": "https://localhost:8080/"
        },
        "outputId": "b32b70e4-fe84-48bc-bba8-6ba03b9ff959"
      },
      "source": [
        "embeddings_index = {}\n",
        "vocab = token.word_index.keys()\n",
        "for word in vocab:\n",
        "    if word in word_vectors.index_to_key:\n",
        "      coefs = np.asarray(word_vectors[word], dtype='float32')\n",
        "      embeddings_index[word] = coefs\n",
        "\n",
        "print('Found %s word vectors.' % len(embeddings_index))\n",
        "\n",
        "word_index = token.word_index\n",
        "embedding_matrix = np.zeros( (vocab_size , 100) )\n",
        "for word, i in word_index.items():\n",
        "    if i < vocab_size:\n",
        "      embedding_vector = embeddings_index.get(word)\n",
        "      if embedding_vector is not None:\n",
        "          # words not found in embedding index will be all-zeros.\n",
        "          embedding_matrix[i] = embedding_vector"
      ],
      "execution_count": 3,
      "outputs": [
        {
          "output_type": "stream",
          "name": "stdout",
          "text": [
            "Found 56914 word vectors.\n"
          ]
        }
      ]
    },
    {
      "cell_type": "code",
      "metadata": {
        "id": "N_98RHg-BLI6",
        "colab": {
          "base_uri": "https://localhost:8080/"
        },
        "outputId": "a8f5eabe-c86f-4aa8-c430-cfa54ac86274"
      },
      "source": [
        "from tensorflow.keras.layers import Dense, Input, GlobalMaxPooling1D, Dropout\n",
        "from tensorflow.keras.layers import Conv1D, MaxPooling1D, Embedding, Flatten\n",
        "from tensorflow.keras.models import Model\n",
        "\n",
        "input = Input(shape=(seq_len,), dtype='int32')\n",
        "x = Embedding(vocab_size, \n",
        "              output_dim = 100,\n",
        "              weights=[embedding_matrix],\n",
        "              input_length=seq_len)(input)\n",
        "\n",
        "x = Conv1D(filters=128, kernel_size=5, activation='relu')(x)\n",
        "x = MaxPooling1D(5)(x)\n",
        "x = Conv1D(128, 5, activation='relu')(x)\n",
        "x = GlobalMaxPooling1D()(x)\n",
        "\n",
        "x = Dense(128, activation='relu')(x)\n",
        "x = Dropout(0.5)(x)\n",
        "preds = Dense(num_classes, activation='softmax')(x)\n",
        "\n",
        "model = Model(input, preds)\n",
        "model.compile(loss='categorical_crossentropy',\n",
        "              optimizer='adam',\n",
        "              metrics=['acc'])\n",
        "\n",
        "model.fit(X, y,\n",
        "          batch_size=128,\n",
        "          epochs=10,\n",
        "          validation_split=0.2)\n"
      ],
      "execution_count": 4,
      "outputs": [
        {
          "output_type": "stream",
          "name": "stdout",
          "text": [
            "Epoch 1/10\n",
            "71/71 [==============================] - 27s 225ms/step - loss: 2.9266 - acc: 0.0942 - val_loss: 2.6299 - val_acc: 0.1993\n",
            "Epoch 2/10\n",
            "71/71 [==============================] - 9s 131ms/step - loss: 2.3731 - acc: 0.2166 - val_loss: 1.9668 - val_acc: 0.3221\n",
            "Epoch 3/10\n",
            "71/71 [==============================] - 9s 123ms/step - loss: 1.8228 - acc: 0.3783 - val_loss: 1.4617 - val_acc: 0.5400\n",
            "Epoch 4/10\n",
            "71/71 [==============================] - 6s 90ms/step - loss: 1.3640 - acc: 0.5359 - val_loss: 1.1678 - val_acc: 0.6226\n",
            "Epoch 5/10\n",
            "71/71 [==============================] - 5s 70ms/step - loss: 1.0305 - acc: 0.6566 - val_loss: 1.0386 - val_acc: 0.6518\n",
            "Epoch 6/10\n",
            "71/71 [==============================] - 4s 60ms/step - loss: 0.8170 - acc: 0.7309 - val_loss: 0.9351 - val_acc: 0.6938\n",
            "Epoch 7/10\n",
            "71/71 [==============================] - 5s 66ms/step - loss: 0.6214 - acc: 0.7942 - val_loss: 0.9138 - val_acc: 0.7141\n",
            "Epoch 8/10\n",
            "71/71 [==============================] - 4s 64ms/step - loss: 0.4852 - acc: 0.8457 - val_loss: 0.8993 - val_acc: 0.7172\n",
            "Epoch 9/10\n",
            "71/71 [==============================] - 3s 43ms/step - loss: 0.3566 - acc: 0.8889 - val_loss: 0.9073 - val_acc: 0.7287\n",
            "Epoch 10/10\n",
            "71/71 [==============================] - 4s 57ms/step - loss: 0.2808 - acc: 0.9145 - val_loss: 0.9353 - val_acc: 0.7331\n"
          ]
        },
        {
          "output_type": "execute_result",
          "data": {
            "text/plain": [
              "<keras.callbacks.History at 0x7fa577c39c70>"
            ]
          },
          "metadata": {},
          "execution_count": 4
        }
      ]
    },
    {
      "cell_type": "code",
      "metadata": {
        "id": "M4lh8fBuiGfQ",
        "colab": {
          "base_uri": "https://localhost:8080/"
        },
        "outputId": "7b1556e6-4a98-4ea4-dc2d-729c4a635788"
      },
      "source": [
        "model.summary()"
      ],
      "execution_count": 5,
      "outputs": [
        {
          "output_type": "stream",
          "name": "stdout",
          "text": [
            "Model: \"model\"\n",
            "_________________________________________________________________\n",
            " Layer (type)                Output Shape              Param #   \n",
            "=================================================================\n",
            " input_1 (InputLayer)        [(None, 125)]             0         \n",
            "                                                                 \n",
            " embedding (Embedding)       (None, 125, 100)          1000100   \n",
            "                                                                 \n",
            " conv1d (Conv1D)             (None, 121, 128)          64128     \n",
            "                                                                 \n",
            " max_pooling1d (MaxPooling1D  (None, 24, 128)          0         \n",
            " )                                                               \n",
            "                                                                 \n",
            " conv1d_1 (Conv1D)           (None, 20, 128)           82048     \n",
            "                                                                 \n",
            " global_max_pooling1d (Globa  (None, 128)              0         \n",
            " lMaxPooling1D)                                                  \n",
            "                                                                 \n",
            " dense (Dense)               (None, 128)               16512     \n",
            "                                                                 \n",
            " dropout (Dropout)           (None, 128)               0         \n",
            "                                                                 \n",
            " dense_1 (Dense)             (None, 20)                2580      \n",
            "                                                                 \n",
            "=================================================================\n",
            "Total params: 1,165,368\n",
            "Trainable params: 1,165,368\n",
            "Non-trainable params: 0\n",
            "_________________________________________________________________\n"
          ]
        }
      ]
    },
    {
      "cell_type": "code",
      "metadata": {
        "id": "V7jrGPAzE7tZ",
        "colab": {
          "base_uri": "https://localhost:8080/",
          "height": 34
        },
        "outputId": "709465f9-2184-4312-faa2-360adb5243a0"
      },
      "source": [
        "test_preds = model.predict(X_test, batch_size=256)\n",
        "submission_template = pd.read_csv('sample_solution.csv?dl=1')\n",
        "\n",
        "for j in range(test_preds.shape[1]):\n",
        "  submission_template.iloc[:,j+1] = test_preds[:,j]\n",
        "\n",
        "submission_template.to_csv('submission.csv', index=False)\n",
        "\n",
        "from google.colab import files\n",
        "files.download('submission.csv')"
      ],
      "execution_count": 6,
      "outputs": [
        {
          "output_type": "stream",
          "name": "stdout",
          "text": [
            "30/30 [==============================] - 1s 8ms/step\n"
          ]
        },
        {
          "output_type": "display_data",
          "data": {
            "text/plain": [
              "<IPython.core.display.Javascript object>"
            ],
            "application/javascript": [
              "\n",
              "    async function download(id, filename, size) {\n",
              "      if (!google.colab.kernel.accessAllowed) {\n",
              "        return;\n",
              "      }\n",
              "      const div = document.createElement('div');\n",
              "      const label = document.createElement('label');\n",
              "      label.textContent = `Downloading \"${filename}\": `;\n",
              "      div.appendChild(label);\n",
              "      const progress = document.createElement('progress');\n",
              "      progress.max = size;\n",
              "      div.appendChild(progress);\n",
              "      document.body.appendChild(div);\n",
              "\n",
              "      const buffers = [];\n",
              "      let downloaded = 0;\n",
              "\n",
              "      const channel = await google.colab.kernel.comms.open(id);\n",
              "      // Send a message to notify the kernel that we're ready.\n",
              "      channel.send({})\n",
              "\n",
              "      for await (const message of channel.messages) {\n",
              "        // Send a message to notify the kernel that we're ready.\n",
              "        channel.send({})\n",
              "        if (message.buffers) {\n",
              "          for (const buffer of message.buffers) {\n",
              "            buffers.push(buffer);\n",
              "            downloaded += buffer.byteLength;\n",
              "            progress.value = downloaded;\n",
              "          }\n",
              "        }\n",
              "      }\n",
              "      const blob = new Blob(buffers, {type: 'application/binary'});\n",
              "      const a = document.createElement('a');\n",
              "      a.href = window.URL.createObjectURL(blob);\n",
              "      a.download = filename;\n",
              "      div.appendChild(a);\n",
              "      a.click();\n",
              "      div.remove();\n",
              "    }\n",
              "  "
            ]
          },
          "metadata": {}
        },
        {
          "output_type": "display_data",
          "data": {
            "text/plain": [
              "<IPython.core.display.Javascript object>"
            ],
            "application/javascript": [
              "download(\"download_798b4483-2f2e-4388-8c1c-3908103e831b\", \"submission.csv\", 2015969)"
            ]
          },
          "metadata": {}
        }
      ]
    }
  ]
}