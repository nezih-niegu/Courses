{
  "nbformat": 4,
  "nbformat_minor": 0,
  "metadata": {
    "colab": {
      "provenance": []
    },
    "kernelspec": {
      "name": "python3",
      "display_name": "Python 3"
    },
    "accelerator": "GPU",
    "gpuClass": "standard"
  },
  "cells": [
    {
      "cell_type": "markdown",
      "metadata": {
        "id": "ZlKfUT1M3yHv"
      },
      "source": [
        "#Week 2 Lab: Perceptron by hand\n",
        "\n",
        "In this example, we will implement perceptron from scratch using only base pythong and numpy. \n"
      ]
    },
    {
      "cell_type": "code",
      "source": [
        "########## Answer ##########\n",
        "# Adapted from http://scikit-learn.org/stable/auto_examples/model_selection/plot_learning_curve.html\n",
        "# Helper function\n",
        "from sklearn.metrics import roc_auc_score\n",
        "import matplotlib.pyplot as plt\n",
        "\n",
        "def plot_learning_curve(train_scores, title=None, ylim=None):\n",
        "    plt.figure()\n",
        "    plt.title(title)\n",
        "    if ylim is not None:\n",
        "        plt.ylim(*ylim)\n",
        "    plt.xlabel(\"Training Epochs\")\n",
        "    plt.ylabel(\"Loss Value\")\n",
        "    plt.grid()\n",
        "    plt.plot(range(len(train_scores)), train_scores, '-', color=\"r\",\n",
        "             label=\"Training score\")\n",
        "\n",
        "    plt.legend(loc=\"best\")\n",
        "    plt.show()"
      ],
      "metadata": {
        "id": "OTIzJvBQoFYD"
      },
      "execution_count": 73,
      "outputs": []
    },
    {
      "cell_type": "markdown",
      "metadata": {
        "id": "ex1YsYAr4zgT"
      },
      "source": [
        "## Question 1: Learning the OR function with a perceptron\n",
        "\n",
        "Here we will implement a perceptron from scratch. We will start with defining four data points as the input and build a perceptron to model them. The goal is to have the perceptron learn the __OR__ function."
      ]
    },
    {
      "cell_type": "code",
      "metadata": {
        "id": "dOQPyXcF3GhM",
        "outputId": "0048cf13-3b57-4793-bdcc-6fda292f573e",
        "colab": {
          "base_uri": "https://localhost:8080/"
        }
      },
      "source": [
        "# import numpy and define the input data\n",
        "import numpy as np\n",
        "\n",
        "X = np.array([[0,0], [0,1], [1,0], [1,1]])\n",
        "y = np.array([0, 1, 1, 1]) \n",
        "\n",
        "print(f'This is the X matrix {X}')"
      ],
      "execution_count": 74,
      "outputs": [
        {
          "output_type": "stream",
          "name": "stdout",
          "text": [
            "This is the X matrix [[0 0]\n",
            " [0 1]\n",
            " [1 0]\n",
            " [1 1]]\n"
          ]
        }
      ]
    },
    {
      "cell_type": "markdown",
      "metadata": {
        "id": "fcDQ5jlM7w0P"
      },
      "source": [
        "##The forward and backwards pass\n",
        "\n",
        "Here we will implement a perceptron from scratch. We first need to compute the __forward pass__ of the perceptron, which is given by:\n",
        "\n",
        "\n",
        "$$\\phi(w_1*x_{1i} + w_2*x_{2i} + b)$$\n",
        "\n",
        "where $\\phi(h)$ is the the _sigmoid_ transformation and can be computed as:\n",
        "\n",
        "$$\\phi(h) = \\frac{1}{1+\\exp(-h)}$$\n",
        "\n",
        "In the example below, we will compute the forward pass for __all__ data points using a single matrix - vector multiplication. If weights $w_1, w_2$ are in a single vector $w$ we can multiply this vector with our $4x2$ $X$ matrix as follows:\n",
        "\n",
        "$$ h = Xw  $$\n",
        "\n",
        "We can then add our bias to $h$ and perform an element-wise sigmoid transformation to get a $4x1$ vector of output probabilities. \n",
        "\n",
        "Now, Recall that our gradients are for sample $i$ are given by:\n",
        "\n",
        "$$\\frac{\\partial{l}}{\\partial{w_{1}}} = (p - y)*p*(1-p)*x_{1i} \\\\\n",
        "\\frac{\\partial{l}}{\\partial{w_{2}}} = (p - y)*p*(1-p)*X_{2i} \\\\\n",
        "\\frac{\\partial{l}}{\\partial{b}} = (p - y)*p*(1-p)$$ \\\\\n",
        "\n",
        "First, we're going to set up the forward pass. This function should take in the `X` matrix, the weights `w`, and the bias term `b` and returns a vector of prediction probabilities `p` for each sample in `X`. \n",
        "\n",
        "Fill in the function template below:"
      ]
    },
    {
      "cell_type": "code",
      "source": [
        "# The forward pass\n",
        "# X: an n x d matrix of the input features + a column of all ones for the intercept term\n",
        "# w: a d x 1 vector containing the weights for our peceptron\n",
        "def forward_pass(X, w, b):\n",
        "    h = np.dot(X,w) + b\n",
        "    p = 1 / (1 + np.exp(-h))\n",
        "    return p"
      ],
      "metadata": {
        "id": "e3D9PjpHatma"
      },
      "execution_count": 75,
      "outputs": []
    },
    {
      "cell_type": "markdown",
      "source": [
        "Now the backward pass. The function should accept the label vector `y`, the data matrix `X`, and the vector of predicted probabilities `p`. Using the equations above, complete the backward pass function. "
      ],
      "metadata": {
        "id": "cgv7TpjbnNrX"
      }
    },
    {
      "cell_type": "code",
      "source": [
        "# The backward pass\n",
        "# X: the design matrix of the input features\n",
        "# y: the ground truth of outcome labels (classes)\n",
        "# p: the class probability outputted by the model\n",
        "\n",
        "def backward_pass(y, X, p):\n",
        "    # Your code for the gradients goes below:\n",
        "    grad_w1 = (p-y) * p * (1-p) * X[:, 0]\n",
        "    grad_w2 = (p-y) * p * (1-p) * X[:, 1]\n",
        "    grad_b = (p-y) * p * (1-p)\n",
        "    # Average the gradients\n",
        "    grad_w1 = grad_w1.mean()\n",
        "    grad_w2 = grad_w2.mean()\n",
        "    grad_b = grad_b.mean()\n",
        "    \n",
        "    return grad_w1, grad_w2, grad_b\n"
      ],
      "metadata": {
        "id": "i26Ruyl-eT-_"
      },
      "execution_count": 76,
      "outputs": []
    },
    {
      "cell_type": "markdown",
      "source": [
        "Now we are going to put it all together and come up with function that will train our perceptron. Please fill out the incomplete lines to complete the function"
      ],
      "metadata": {
        "id": "vUKEpsebpakN"
      }
    },
    {
      "cell_type": "code",
      "metadata": {
        "id": "dhrKfsDboBlU"
      },
      "source": [
        "# One possible implementation is as below\n",
        "############################################################\n",
        "def train(X, y, w, b, iters, lr=1):\n",
        "    w_new = np.copy(w)\n",
        "    b_new = np.copy(b)\n",
        "    loss = []\n",
        "    for i in range(iters):\n",
        "        # preds is a 4x1 vector of probabilities\n",
        "        p = forward_pass(X, w_new, b_new)\n",
        "        # Now we want to com\n",
        "        grad_w1, grad_w2, grad_b = backward_pass(y, X, p)\n",
        "        \n",
        "        # Now do the gradient descent updates using the average gradient from all four samples\n",
        "        w_new[0] = w_new[0] - lr*grad_w1\n",
        "        w_new[1] = w_new[1] - lr*grad_w2\n",
        "        b_new = b_new - lr*grad_b\n",
        "\n",
        "        # Calculate the loss\n",
        "        mse = ((y - p)**2).mean()\n",
        "        loss.append(mse)\n",
        "        acc = len(np.where(np.round(p) == y)[0])/float(len(y))\n",
        "        # Print out some info \n",
        "        if i % 10 == 0:\n",
        "          print(\"Loss at iteration \" + str(i) + \": \" + str(np.mean(mse)) + '\\t' + \"Accuracy: \" + str(acc))\n",
        "    \n",
        "    return w_new, b_new, loss"
      ],
      "execution_count": 77,
      "outputs": []
    },
    {
      "cell_type": "markdown",
      "source": [
        "Now we are ready to train! Assuming we've done everything correctly the following should run and result in final values for the weights."
      ],
      "metadata": {
        "id": "xypJ4nYKqA4d"
      }
    },
    {
      "cell_type": "code",
      "metadata": {
        "id": "RaUlx3Ch3w0y",
        "outputId": "779b1b05-fe12-4429-e290-78ba8eaa6804",
        "colab": {
          "base_uri": "https://localhost:8080/",
          "height": 453
        }
      },
      "source": [
        "# Initialize the weights and train the model\n",
        "w = np.array([1.,-1.])\n",
        "b = 0.\n",
        "w_new, w_b, loss = train(X, y, w, b, iters=100, lr=1)\n",
        "plot_learning_curve(loss)"
      ],
      "execution_count": 92,
      "outputs": [
        {
          "output_type": "stream",
          "name": "stdout",
          "text": [
            "Loss at iteration 0: 0.2766940333792591\tAccuracy: 0.5\n",
            "Loss at iteration 10: 0.23041151323691078\tAccuracy: 0.5\n",
            "Loss at iteration 20: 0.1983175129294658\tAccuracy: 0.5\n",
            "Loss at iteration 30: 0.17455351013801818\tAccuracy: 0.5\n",
            "Loss at iteration 40: 0.1557709078678609\tAccuracy: 0.75\n",
            "Loss at iteration 50: 0.14051503244498578\tAccuracy: 0.75\n",
            "Loss at iteration 60: 0.1280069419165466\tAccuracy: 1.0\n",
            "Loss at iteration 70: 0.11765649697117814\tAccuracy: 1.0\n",
            "Loss at iteration 80: 0.10898579325278339\tAccuracy: 1.0\n",
            "Loss at iteration 90: 0.10162124003909748\tAccuracy: 1.0\n"
          ]
        },
        {
          "output_type": "display_data",
          "data": {
            "text/plain": [
              "<Figure size 432x288 with 1 Axes>"
            ],
            "image/png": "[encoded data removed]"
          },
          "metadata": {
            "needs_background": "light"
          }
        }
      ]
    },
    {
      "cell_type": "markdown",
      "source": [
        "## Question 2: Learning the AND function\n",
        "\n",
        "Because we've written our functions in a modular way, we can easily repurose them to learn on new data. Next, we will train our perceptron to learn the AND function. Give the code a try again on the new data for the AND function."
      ],
      "metadata": {
        "id": "5Fa_ZaxpqeLx"
      }
    },
    {
      "cell_type": "code",
      "source": [
        "# New data\n",
        "X = np.array([[0,0], [0,1], [1,0], [1,1]])\n",
        "y = np.array([0, 0, 0, 1]) \n",
        "\n",
        "# Reinitialize the weights and train the model\n",
        "w = np.array([1.,-1.])\n",
        "b = 0.\n",
        "w_new, w_b, loss = train(X, y, w, b, iters=200, lr=1)\n",
        "plot_learning_curve(loss)"
      ],
      "metadata": {
        "id": "VTvnczcNq3Qc",
        "outputId": "6da8bcbb-a413-409a-f079-5bdf9c6b46cb",
        "colab": {
          "base_uri": "https://localhost:8080/",
          "height": 626
        }
      },
      "execution_count": 93,
      "outputs": [
        {
          "output_type": "stream",
          "name": "stdout",
          "text": [
            "Loss at iteration 0: 0.2766940333792591\tAccuracy: 0.5\n",
            "Loss at iteration 10: 0.23041151323691078\tAccuracy: 0.5\n",
            "Loss at iteration 20: 0.1983175129294658\tAccuracy: 0.5\n",
            "Loss at iteration 30: 0.17455351013801818\tAccuracy: 0.5\n",
            "Loss at iteration 40: 0.1557709078678609\tAccuracy: 0.75\n",
            "Loss at iteration 50: 0.14051503244498578\tAccuracy: 0.75\n",
            "Loss at iteration 60: 0.1280069419165466\tAccuracy: 1.0\n",
            "Loss at iteration 70: 0.11765649697117814\tAccuracy: 1.0\n",
            "Loss at iteration 80: 0.10898579325278339\tAccuracy: 1.0\n",
            "Loss at iteration 90: 0.10162124003909748\tAccuracy: 1.0\n",
            "Loss at iteration 100: 0.09527891612064196\tAccuracy: 1.0\n",
            "Loss at iteration 110: 0.08974560174974944\tAccuracy: 1.0\n",
            "Loss at iteration 120: 0.08486137764949894\tAccuracy: 1.0\n",
            "Loss at iteration 130: 0.08050567387427979\tAccuracy: 1.0\n",
            "Loss at iteration 140: 0.0765867370130853\tAccuracy: 1.0\n",
            "Loss at iteration 150: 0.07303390805494192\tAccuracy: 1.0\n",
            "Loss at iteration 160: 0.0697920396644601\tAccuracy: 1.0\n",
            "Loss at iteration 170: 0.06681748085904057\tAccuracy: 1.0\n",
            "Loss at iteration 180: 0.06407518759473682\tAccuracy: 1.0\n",
            "Loss at iteration 190: 0.061536634612537264\tAccuracy: 1.0\n"
          ]
        },
        {
          "output_type": "display_data",
          "data": {
            "text/plain": [
              "<Figure size 432x288 with 1 Axes>"
            ],
            "image/png": "[encoded data removed]"
          },
          "metadata": {
            "needs_background": "light"
          }
        }
      ]
    },
    {
      "cell_type": "markdown",
      "source": [
        "## Question 3: (Trying to) Learn the XOR function\n",
        "\n",
        "Now we are going train our model on data for the XOR function. Run the code below and verify if it converges. If it doesn't, what do you think is the problem?"
      ],
      "metadata": {
        "id": "aofJkqQTrGrY"
      }
    },
    {
      "cell_type": "code",
      "source": [
        "# New data\n",
        "X = np.array([[0,0], [0,1], [1,0], [1,1]])\n",
        "y = np.array([0, 1, 1, 0]) \n",
        "\n",
        "# Reinitialize the weights and train the model\n",
        "w = np.array([1.,-1.])\n",
        "b = 0.\n",
        "w_new, w_b, loss = train(X, y, w, b, iters=100, lr=1)\n",
        "plot_learning_curve(loss)"
      ],
      "metadata": {
        "id": "h6hpl5YNrV5I",
        "outputId": "787b1f9a-862b-41ea-8871-efcc4a3ec524",
        "colab": {
          "base_uri": "https://localhost:8080/",
          "height": 453
        }
      },
      "execution_count": 95,
      "outputs": [
        {
          "output_type": "stream",
          "name": "stdout",
          "text": [
            "Loss at iteration 0: 0.2766940333792591\tAccuracy: 0.75\n",
            "Loss at iteration 10: 0.2700164115417251\tAccuracy: 0.75\n",
            "Loss at iteration 20: 0.2667485028069049\tAccuracy: 0.75\n",
            "Loss at iteration 30: 0.26414881253013883\tAccuracy: 0.75\n",
            "Loss at iteration 40: 0.2617532634280848\tAccuracy: 0.75\n",
            "Loss at iteration 50: 0.2595563027762513\tAccuracy: 0.75\n",
            "Loss at iteration 60: 0.2576117365783659\tAccuracy: 0.75\n",
            "Loss at iteration 70: 0.2559539615982568\tAccuracy: 0.75\n",
            "Loss at iteration 80: 0.25458699128623724\tAccuracy: 0.75\n",
            "Loss at iteration 90: 0.25349065933762666\tAccuracy: 0.75\n"
          ]
        },
        {
          "output_type": "display_data",
          "data": {
            "text/plain": [
              "<Figure size 432x288 with 1 Axes>"
            ],
            "image/png": "[encoded data removed]"
          },
          "metadata": {
            "needs_background": "light"
          }
        }
      ]
    },
    {
      "cell_type": "code",
      "source": [],
      "metadata": {
        "id": "aibJbQz8g5jH"
      },
      "execution_count": null,
      "outputs": []
    }
  ]
}