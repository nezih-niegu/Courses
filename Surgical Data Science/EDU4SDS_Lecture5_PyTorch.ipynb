{
 "cells": [
  {
   "cell_type": "markdown",
   "id": "b6e0d531",
   "metadata": {},
   "source": [
    "<center><img src=\"https://drive.google.com/uc?id=1Z3JvAFmL2IkBnQmmt5f4uTcXVhO5f7cq\"/></center>\n",
    "\n",
    "------\n",
    "<center>&copy; Research Group CAMMA, University of Strasbourg, <a href=\"http://camma.u-strasbg.fr\">http://camma.u-strasbg.fr</a> \n",
    "\n",
    "<h2>Author: Vinkle Srivastav </h2>\n",
    "</center>\n",
    "\n",
    "------"
   ]
  },
  {
   "cell_type": "markdown",
   "id": "00877a0a",
   "metadata": {},
   "source": [
    "# <center><font color=green> Lecture 5: Introduction to PyTorch </font></center>\n",
    "<center><img src=\"https://drive.google.com/uc?id=1PbX7zPDuS3BDQ2xw5HDS9oyXtQv0gbx2\"/></center>\n",
    "\n",
    "**Objectives**: \n",
    "  1. PyTorch tensors\n",
    "  2. Autograd: automatic differentiation on tensors\n",
    "  3. Linear regression using gradient descent with PyTorch tensors\n",
    " \n",
    "Tensors are similar to NumPy’s ndarrays but can be used on a GPU for fast computation. In this tutorial, we will illustrate with examples some basic PyTorch tensors functions along with numpy counterpart. Then we will move on to `autograd` package of PyTorch to learn how to automatically compute the differentiation on the tensor operations. In the end,  we will make a 1D linear regression program using PyTorch tensors and autograd."
   ]
  },
  {
   "cell_type": "markdown",
   "id": "79f9b502",
   "metadata": {},
   "source": [
    "## Setup"
   ]
  },
  {
   "cell_type": "code",
   "execution_count": null,
   "id": "88e420e3",
   "metadata": {},
   "outputs": [],
   "source": [
    "# install dependencies\n",
    "# !pip install numpy\n",
    "# !pip install matplotlib"
   ]
  },
  {
   "cell_type": "markdown",
   "id": "ea87ec7d",
   "metadata": {},
   "source": [
    "## Imports"
   ]
  },
  {
   "cell_type": "code",
   "execution_count": 4,
   "id": "9c7ddcd7",
   "metadata": {},
   "outputs": [
    {
     "name": "stdout",
     "output_type": "stream",
     "text": [
      "using device=cuda, dtype=torch.float32, PyTorch version=1.8.1+cu102\n"
     ]
    }
   ],
   "source": [
    "import numpy as np\n",
    "import torch\n",
    "import matplotlib.pyplot as plt\n",
    "device = torch.device(\"cuda\" if torch.cuda.is_available() else \"cpu\")\n",
    "dtype = torch.float32\n",
    "print('using device={}, dtype={}, PyTorch version={}'.format(device, dtype, torch.__version__))"
   ]
  },
  {
   "cell_type": "markdown",
   "id": "57fbd9fa",
   "metadata": {},
   "source": [
    "## 1. PyTorch tensors"
   ]
  },
  {
   "cell_type": "markdown",
   "id": "add3a354",
   "metadata": {},
   "source": [
    "### Tensor initialization"
   ]
  },
  {
   "cell_type": "code",
   "execution_count": 5,
   "id": "fd2f56fe",
   "metadata": {},
   "outputs": [
    {
     "name": "stdout",
     "output_type": "stream",
     "text": [
      "torch:tensor([[0.1836, 0.2901, 0.5500, 0.2061, 0.9955],\n",
      "        [0.4411, 0.7678, 0.3023, 0.6846, 0.4842],\n",
      "        [0.3802, 0.6258, 0.5328, 0.0968, 0.8530],\n",
      "        [0.7872, 0.1405, 0.6257, 0.6428, 0.6226]])\n",
      "\n",
      "numpy:[[0.63072136 0.93357894 0.57407951 0.55835629 0.25215537]\n",
      " [0.82874493 0.42529986 0.49448031 0.40845752 0.04934143]\n",
      " [0.81343739 0.93695628 0.21293733 0.69010511 0.94211314]\n",
      " [0.37805129 0.33450927 0.22306512 0.53186753 0.00273882]]\n"
     ]
    }
   ],
   "source": [
    "# construct a randomly initialized 4x5 matrix\n",
    "# in torch\n",
    "x = torch.rand(4,5)\n",
    "print('torch:{}\\n'.format(x))\n",
    "# in numpy\n",
    "xn = np.random.rand(4,5)\n",
    "print('numpy:{}'.format(xn))"
   ]
  },
  {
   "cell_type": "code",
   "execution_count": 6,
   "id": "13172bac",
   "metadata": {},
   "outputs": [
    {
     "name": "stdout",
     "output_type": "stream",
     "text": [
      "torch:tensor([[0, 0, 0, 0, 0],\n",
      "        [0, 0, 0, 0, 0],\n",
      "        [0, 0, 0, 0, 0],\n",
      "        [0, 0, 0, 0, 0]], dtype=torch.int32)\n",
      "\n",
      "numpy:[[0 0 0 0 0]\n",
      " [0 0 0 0 0]\n",
      " [0 0 0 0 0]\n",
      " [0 0 0 0 0]]\n"
     ]
    }
   ],
   "source": [
    "# construct a zero filled 4x5 matrix of dtype int\n",
    "# in torch\n",
    "x = torch.zeros(4,5, dtype=torch.int) # torch.float, torch.double, torch.long\n",
    "print('torch:{}\\n'.format(x))\n",
    "# in numpy\n",
    "xn = np.zeros((4,5), dtype=int)\n",
    "print('numpy:{}'.format(xn))"
   ]
  },
  {
   "cell_type": "markdown",
   "id": "177842ef",
   "metadata": {},
   "source": [
    "### Tensor attributes"
   ]
  },
  {
   "cell_type": "code",
   "execution_count": 8,
   "id": "9b82aa0c",
   "metadata": {},
   "outputs": [
    {
     "name": "stdout",
     "output_type": "stream",
     "text": [
      "Shape of tensor: torch.Size([2, 3, 4])\n",
      "Datatype of tensor: torch.float32\n",
      "Device tensor is stored on: cpu\n",
      "Device tensor is stored on: cuda:0\n"
     ]
    }
   ],
   "source": [
    "x = torch.rand(2, 3, 4)\n",
    "print(\"Shape of tensor: {}\".format(x.shape))\n",
    "print(\"Datatype of tensor: {}\".format(x.dtype))\n",
    "print(\"Device tensor is stored on: {}\".format(x.device))\n",
    "\n",
    "# transfer tensor to GPU\n",
    "x = x.to(device)\n",
    "print(\"Device tensor is stored on: {}\".format(x.device))"
   ]
  },
  {
   "cell_type": "markdown",
   "id": "107cff37",
   "metadata": {},
   "source": [
    "### Tensor operations"
   ]
  },
  {
   "cell_type": "code",
   "execution_count": 9,
   "id": "1f8000b7",
   "metadata": {},
   "outputs": [
    {
     "name": "stdout",
     "output_type": "stream",
     "text": [
      "x: tensor([[-1.4092,  0.3426, -0.6453,  1.3111,  1.7677],\n",
      "        [ 0.4812, -1.0298,  0.2474, -0.1997,  0.7130],\n",
      "        [-0.0295, -0.2667,  0.1192, -1.5924,  2.1982],\n",
      "        [-0.0638, -0.7273,  0.1387, -0.1187, -2.6472]])\n",
      "\n",
      "x(1st row): tensor([-1.4092,  0.3426, -0.6453,  1.3111,  1.7677]) \n",
      "size:torch.Size([5])\n",
      "\n",
      "x(3rd column): tensor([-0.6453,  0.2474,  0.1192,  0.1387]) \n",
      "size:torch.Size([4])\n",
      "\n",
      "after\n",
      "x(1st row): tensor([[-1.4092,  0.3426, -0.6453,  1.3111,  1.7677]]) \n",
      "size:torch.Size([1, 5])\n",
      "\n",
      "x(3rd column): tensor([[-0.6453],\n",
      "        [ 0.2474],\n",
      "        [ 0.1192],\n",
      "        [ 0.1387]]) \n",
      "size:torch.Size([4, 1])\n",
      "\n"
     ]
    }
   ],
   "source": [
    "# numpy like indexing (0 based)\n",
    "x = torch.randn(4, 5)\n",
    "x_1r = x[0,:]\n",
    "x_3c = x[:,2]\n",
    "print('x: {}\\n'.format(x))\n",
    "print('x(1st row): {} \\nsize:{}\\n'.format(x_1r, x_1r.shape))\n",
    "print('x(3rd column): {} \\nsize:{}\\n'.format(x_3c, x_3c.shape))\n",
    "\n",
    "# Augument dimension\n",
    "x_1r = x_1r.unsqueeze(0)\n",
    "x_3c = x_3c.unsqueeze(1)\n",
    "print('after')\n",
    "print('x(1st row): {} \\nsize:{}\\n'.format(x_1r, x_1r.shape))\n",
    "print('x(3rd column): {} \\nsize:{}\\n'.format(x_3c, x_3c.shape))\n",
    "\n",
    "# to suppress the dimension use .squeeze(dim=N), numpy equivalent is expand_dims/squeeze"
   ]
  },
  {
   "cell_type": "code",
   "execution_count": 11,
   "id": "44a7b307",
   "metadata": {},
   "outputs": [
    {
     "name": "stdout",
     "output_type": "stream",
     "text": [
      "torch: x*y= tensor([[1.1075, 1.1250, 1.1830, 1.0065],\n",
      "        [1.1973, 1.4765, 1.2345, 1.3365],\n",
      "        [0.6563, 0.8945, 0.6463, 0.7605]])\n",
      "numpy: x*y= [[1.1074641  1.1249586  1.1829847  1.0064784 ]\n",
      " [1.1973499  1.4765333  1.234472   1.3365238 ]\n",
      " [0.65628636 0.8945031  0.6462992  0.76049745]]\n"
     ]
    }
   ],
   "source": [
    "# Matrix multiplication\n",
    "x = torch.rand(3, 4)\n",
    "y = torch.rand(4, 4)\n",
    "# using operator opverloading\n",
    "print('torch: x*y=', torch.mm(x,y)) # use x*y for pointwise multiplication\n",
    "\n",
    "print('numpy: x*y=', np.dot(x.numpy(),y.numpy())) # use x*y for pointwise multiplication"
   ]
  },
  {
   "cell_type": "code",
   "execution_count": 12,
   "id": "5101aa8b",
   "metadata": {},
   "outputs": [
    {
     "name": "stdout",
     "output_type": "stream",
     "text": [
      "tensor([0., 0., 0., 0., 1., 0., 0., 0., 0., 0.])\n",
      "max value of tensor is 1.0 at index 4\n",
      "\n",
      "\n",
      " tensor([[0., 0., 0., 0., 1., 0., 0., 0., 0., 0.],\n",
      "        [0., 0., 0., 0., 0., 1., 0., 0., 0., 0.]])\n",
      "max value of tensor is tensor([1., 1.]) at index tensor([4, 5])\n"
     ]
    }
   ],
   "source": [
    "# compute max value or max argument\n",
    "x = torch.zeros(10)\n",
    "x[4] = 1.0\n",
    "print(x)\n",
    "val, index = torch.max(x, 0)\n",
    "print('max value of tensor is {} at index {}'.format(val, index))\n",
    "\n",
    "x = torch.zeros(2, 10)\n",
    "x[0,4] = 1.0\n",
    "x[1,5] = 1.0\n",
    "print('\\n\\n', x)\n",
    "val, index = torch.max(x, 1)\n",
    "print('max value of tensor is {} at index {}'.format(val, index))"
   ]
  },
  {
   "cell_type": "markdown",
   "id": "c69eafd5",
   "metadata": {},
   "source": [
    "## 2. Autograd: automatic differentiation on tensors ops\n",
    "\n",
    "<center><img src=\"https://drive.google.com/uc?id=1kCj60BIOGHfJJsGIL7KMbQho2oC15iVX\"/></center>\n",
    "\n",
    "\n",
    "Autograd provides automatic differentiation to all the Tensors operations. Use `requires_grad=True` to start recording of tensor operations. All the subsequent operations will contain `grad_fn` as shown below"
   ]
  },
  {
   "cell_type": "code",
   "execution_count": 15,
   "id": "38d4cddf",
   "metadata": {},
   "outputs": [
    {
     "name": "stdout",
     "output_type": "stream",
     "text": [
      "tensor([[1., 1.],\n",
      "        [1., 1.]], device='cuda:0', requires_grad=True)\n",
      "tensor([[1., 1.],\n",
      "        [1., 1.]], device='cuda:0', grad_fn=<PowBackward0>)\n",
      "tensor([[0.5000, 0.5000],\n",
      "        [0.5000, 0.5000]], device='cuda:0', grad_fn=<DivBackward0>)\n"
     ]
    }
   ],
   "source": [
    "x = torch.ones(2,2, device=device, requires_grad=True)\n",
    "# Enable existing tensor to support automatic differentiation using the code below\n",
    "# x.requires_grad_()\n",
    "print(x)\n",
    "print(x**2)   # see the grad_fn\n",
    "print(x/2)    # see the grad_fn"
   ]
  },
  {
   "cell_type": "code",
   "execution_count": 18,
   "id": "32ee000f",
   "metadata": {},
   "outputs": [
    {
     "name": "stdout",
     "output_type": "stream",
     "text": [
      "x:  tensor([[1., 1.],\n",
      "        [1., 1.]], device='cuda:0', requires_grad=True)\n",
      "\n",
      "y:  tensor([[6., 6.],\n",
      "        [6., 6.]], device='cuda:0', grad_fn=<AddBackward0>)\n",
      "\n",
      "z:  tensor([[144., 144.],\n",
      "        [144., 144.]], device='cuda:0', grad_fn=<MulBackward0>)\n",
      "\n",
      "out:  144.0\n",
      "\n"
     ]
    }
   ],
   "source": [
    "x = torch.ones(2,2, device=device, requires_grad=True)\n",
    "print('x:  {}\\n'.format(x))\n",
    "# all the subsequent operations on the tensors will have grad_fn\n",
    "y = 2*x + 4 \n",
    "print('y:  {}\\n'.format(y))\n",
    "z = y * y * 4\n",
    "print('z:  {}\\n'.format(z))\n",
    "out = z.mean()\n",
    "print('out:  {}\\n'.format(out))"
   ]
  },
  {
   "cell_type": "markdown",
   "id": "0ad027b4",
   "metadata": {},
   "source": [
    "This is equivalent to **forward pass** as shown below\n",
    "#### $$ x = \n",
    "\\begin{bmatrix} \n",
    "1.0 & 1.0 \\\\\n",
    "1.0 & 1.0 \n",
    "\\end{bmatrix} $$\n",
    "#### $$  y = x + 2 $$\n",
    "#### $$  z = 4*y^2$$\n",
    "#### $$ out =  \\frac{1}{4}\\sum_i z_i $$\n",
    "\n",
    "To compute the backward pass use `.backward()` on the tensor. It will compute the backward pass and store the gradient on the leaf variable"
   ]
  },
  {
   "cell_type": "markdown",
   "id": "1e071c3e",
   "metadata": {},
   "source": [
    "**Backward Pass**\n",
    "#### $$ \\frac{\\partial out}{\\partial x_i} = \\frac{\\partial out}{\\partial z_i} . \\frac{\\partial z_i}{\\partial y_i} .\\frac{\\partial y_i}{\\partial x_i} $$ \n",
    "#### $$ \\frac{\\partial out}{\\partial z_i} = \\frac{1}{4} . 1$$\n",
    "#### $$ \\frac{\\partial z_i}{\\partial y_i} = 8 . y_i$$\n",
    "#### $$ \\frac{\\partial y_i}{\\partial x_i} = 1 $$\n",
    "#### $$ \\frac{\\partial out}{\\partial x_i} = \\frac{1}{4} . 8 . y_i . 1$$\n",
    "#### $$ \\frac{\\partial out}{\\partial x_i} = \\frac{1}{4} . 8 . \\begin{bmatrix} \n",
    "3.0 & 3.0 \\\\\n",
    "3.0 & 3.0 \n",
    "\\end{bmatrix} $$\n",
    "#### $$ \\frac{\\partial out}{\\partial x_i} = \\begin{bmatrix} \n",
    "6.0 & 6.0 \\\\\n",
    "6.0 & 6.0 \n",
    "\\end{bmatrix} $$"
   ]
  },
  {
   "cell_type": "code",
   "execution_count": 19,
   "id": "38436e8c",
   "metadata": {},
   "outputs": [
    {
     "name": "stdout",
     "output_type": "stream",
     "text": [
      "tensor([[24., 24.],\n",
      "        [24., 24.]], device='cuda:0')\n"
     ]
    }
   ],
   "source": [
    "out.backward()\n",
    "print(x.grad.data)"
   ]
  },
  {
   "cell_type": "markdown",
   "id": "59edd5b1",
   "metadata": {},
   "source": [
    "## Linear regression using PyTorch tensors\n",
    "\n",
    "Let's assume training dataset is generated using the following equation:  $  y = sin(10x) + 0.15((10x)^2) + \\mathcal{N}(0,\\,1) $"
   ]
  },
  {
   "cell_type": "code",
   "execution_count": 20,
   "id": "e31daecd",
   "metadata": {},
   "outputs": [
    {
     "name": "stdout",
     "output_type": "stream",
     "text": [
      "x shape = torch.Size([500, 1]), y shape = torch.Size([500, 1])\n"
     ]
    },
    {
     "data": {
      "image/png": "[encoded data removed]",
      "text/plain": [
       "<Figure size 432x288 with 1 Axes>"
      ]
     },
     "metadata": {
      "needs_background": "light"
     },
     "output_type": "display_data"
    }
   ],
   "source": [
    "# training dataset\n",
    "num_training_points = 500\n",
    "x = torch.linspace(0.0, 1, num_training_points, device=device, dtype=dtype)[..., None]\n",
    "y = torch.sin(x*10) + 0.15 * ((x*10) ** 2) + torch.rand(num_training_points,1).to(device)\n",
    "print(\"x shape = {}, y shape = {}\".format(x.shape, y.shape))\n",
    "# plot the training dataset\n",
    "plt.scatter(x.cpu().numpy(), y.cpu().numpy())\n",
    "plt.xlabel('X')\n",
    "plt.ylabel('Y')\n",
    "plt.grid()\n",
    "plt.title('Training Dataset')\n",
    "plt.show()"
   ]
  },
  {
   "cell_type": "markdown",
   "id": "231633db",
   "metadata": {},
   "source": [
    "## Gradient descent\n",
    "Suppose we are given list of $x,y$ points as shown in the above graph. We are going to fit a 1D line using gradient descent algorithm.\n",
    "        \n",
    "Define 1D Model: $\\bar{\\mathbf{y}}$ and $\\mathbf{x}$ are vectot of size N. $w$ and $b$ are learnable scalar parameters.\n",
    "#### $$  \\bar{\\mathbf{y}} = w*\\mathbf{x} + b $$\n",
    "**error vector**        \n",
    "#### $$  e = \\bar{y} - y $$\n",
    "**loss value**        \n",
    "#### $$  loss = \\frac{\\sum_i e_i^2}{N} $$\n",
    "**Gradient**\n",
    "#### $$ \\frac{\\partial loss}{\\partial w} = \\frac{\\partial (\\frac{\\sum_i e_i^2}{N})}{\\partial w} =\\frac{2}{N}*\\sum_i e_i * \\frac{ \\partial  [( w * \\mathbf{x_i} + b) - y_i]}{\\partial w} = \\frac{2}{N}*\\sum_i e_i * x_i$$\n",
    "#### $$ \\frac{\\partial loss}{\\partial b} = \\frac{\\partial (\\frac{\\sum_i e_i^2}{N})}{\\partial b} =\\frac{2}{N}*\\sum_i e_i * \\frac{ \\partial  [( w * \\mathbf{x_i} + b) - y_i]}{\\partial b} = \\frac{2}{N}*\\sum_i e_i * 1  = \\frac{2}{N}*\\sum_i e_i$$\n",
    "**Paramter update for each iteration**\n",
    "#### $$ w = w - (lerning\\_rate * \\frac{\\partial loss}{\\partial w})$$\n",
    "#### $$ b = b - (lerning\\_rate * \\frac{\\partial loss}{\\partial b})$$"
   ]
  },
  {
   "cell_type": "markdown",
   "id": "d2fdff08",
   "metadata": {},
   "source": [
    "### 1D regresion using PyTorch tensors\n",
    "\n",
    "The following will show how to do the forward and backward pass inside the while loop using PyTorch tensors. Once we have learned the parameters, we will plot the fitted line on the training data."
   ]
  },
  {
   "cell_type": "code",
   "execution_count": 21,
   "id": "496b5cce",
   "metadata": {},
   "outputs": [
    {
     "name": "stdout",
     "output_type": "stream",
     "text": [
      "data(x)= torch.Size([500, 2]) torch.float32\n",
      "label(y)= torch.Size([500, 1]) torch.float32\n",
      "Iteration: 10 - loss: 11.5283\n",
      "Iteration: 20 - loss: 6.6320\n",
      "Iteration: 30 - loss: 5.3823\n",
      "Iteration: 40 - loss: 5.0634\n",
      "Iteration: 50 - loss: 4.9820\n",
      "Iteration: 60 - loss: 4.9612\n",
      "Iteration: 70 - loss: 4.9559\n",
      "Iteration: 80 - loss: 4.9545\n",
      "Iteration: 90 - loss: 4.9542\n",
      "Iteration: 100 - loss: 4.9541\n",
      "Iteration: 110 - loss: 4.9541\n",
      "Iteration: 120 - loss: 4.9541\n",
      "Iteration: 130 - loss: 4.9541\n",
      "Iteration: 140 - loss: 4.9541\n",
      "Iteration: 150 - loss: 4.9541\n",
      "Iteration: 160 - loss: 4.9541\n",
      "Iteration: 170 - loss: 4.9541\n",
      "Iteration: 180 - loss: 4.9541\n",
      "Iteration: 190 - loss: 4.9541\n",
      "Iteration: 200 - loss: 4.9541\n"
     ]
    },
    {
     "data": {
      "image/png": "[encoded data removed]",
      "text/plain": [
       "<Figure size 432x288 with 1 Axes>"
      ]
     },
     "metadata": {
      "needs_background": "light"
     },
     "output_type": "display_data"
    }
   ],
   "source": [
    "num_training_points = 500\n",
    "x = torch.linspace(0.0, 1, num_training_points, device=device, dtype=dtype)[..., None]\n",
    "y = torch.sin(x*10) + 0.15 * ((x*10) ** 2) + torch.rand(num_training_points,1).to(device)\n",
    "y = y.float()\n",
    "x = torch.cat((torch.ones_like(x), x), 1)\n",
    "\n",
    "#y = y.float().to(device)\n",
    "print('data(x)=', x.shape, x.dtype)\n",
    "print('label(y)=', y.shape, y.dtype)\n",
    "#x = x.unsqueeze(1)\n",
    "#x = torch.cat((torch.ones_like(x), x), 1)\n",
    "\n",
    "lr = torch.tensor(0.5, device=device, dtype=dtype)\n",
    "niterations=200\n",
    "citer = 1\n",
    "print_every = 10\n",
    "w = torch.randn(1, 2).to(device).float()\n",
    "loss = 0\n",
    "#%% Learning iterations\n",
    "while citer <= niterations:\n",
    "    ## forward propagation\n",
    "    yhat = x.mm(w.t())\n",
    "    ## backward propagation: compute the error vector and loss term\n",
    "    error = yhat - y\n",
    "    ## compute the gradient + update the parameters\n",
    "    loss = (2.0 / len(x)) * torch.sum(error **2)\n",
    "    # gradient\n",
    "    grad = (2.0 / len(x)) * error.t().mm(x)\n",
    "    # parameter update\n",
    "    w = w - (lr * grad)\n",
    "    # update the iteration count\n",
    "    if citer % print_every == 0:\n",
    "        print(\"Iteration: %d - loss: %.4f\" %(citer, loss))\n",
    "    citer += 1\n",
    "    \n",
    "plt.plot(x[:,1].cpu().numpy(), x.mm(w.t()).cpu().numpy(), c='g', label='Model')\n",
    "plt.scatter(x[:,1].cpu().numpy(), y.cpu().numpy(), label='Training Data')\n",
    "plt.grid()\n",
    "plt.legend(loc='best')\n",
    "plt.xlabel('X')\n",
    "plt.ylabel('Y')\n",
    "plt.title('output of linear regression')\n",
    "plt.show()"
   ]
  },
  {
   "cell_type": "markdown",
   "id": "7f079f65",
   "metadata": {},
   "source": [
    "## 1D regresion  using PyTorch tensors and autograd\n",
    "\n",
    "The following will show how to do the forward and backward pass inside the while loop using PyTorch tensors and autograd. Once we have learned the parameters, we will plot the fitted line on the training data."
   ]
  },
  {
   "cell_type": "code",
   "execution_count": 22,
   "id": "c0c2cada",
   "metadata": {},
   "outputs": [
    {
     "name": "stdout",
     "output_type": "stream",
     "text": [
      "Iteration: 10 - loss: 19.5074\n",
      "Iteration: 20 - loss: 13.3932\n",
      "Iteration: 30 - loss: 9.8129\n",
      "Iteration: 40 - loss: 7.7162\n",
      "Iteration: 50 - loss: 6.4884\n",
      "Iteration: 60 - loss: 5.7694\n",
      "Iteration: 70 - loss: 5.3483\n",
      "Iteration: 80 - loss: 5.1017\n",
      "Iteration: 90 - loss: 4.9573\n",
      "Iteration: 100 - loss: 4.8728\n",
      "Iteration: 110 - loss: 4.8233\n",
      "Iteration: 120 - loss: 4.7943\n",
      "Iteration: 130 - loss: 4.7773\n",
      "Iteration: 140 - loss: 4.7673\n",
      "Iteration: 150 - loss: 4.7615\n",
      "Iteration: 160 - loss: 4.7581\n",
      "Iteration: 170 - loss: 4.7561\n",
      "Iteration: 180 - loss: 4.7549\n",
      "Iteration: 190 - loss: 4.7543\n",
      "Iteration: 200 - loss: 4.7539\n"
     ]
    },
    {
     "data": {
      "image/png": "[encoded data removed]",
      "text/plain": [
       "<Figure size 432x288 with 1 Axes>"
      ]
     },
     "metadata": {
      "needs_background": "light"
     },
     "output_type": "display_data"
    }
   ],
   "source": [
    "x = torch.linspace(0.0, 1, num_training_points, device=device, dtype=dtype)\n",
    "x = x.unsqueeze(1)\n",
    "y = torch.sin(x*10) + 0.15 * ((x*10) ** 2) + torch.rand(num_training_points,1).to(device)\n",
    "y = y.float()\n",
    "x = torch.cat((torch.ones_like(x), x), 1)\n",
    "\n",
    "lr = torch.tensor(0.1, device=device, dtype=dtype)\n",
    "niterations=200\n",
    "citer = 1\n",
    "print_every = 10\n",
    "w = torch.randn(1, 2, requires_grad=True, device=device) # see requires_grad=True\n",
    "loss = 0\n",
    "#%% Learning iterations\n",
    "while citer <= niterations:\n",
    "    ## forward propagation\n",
    "    yhat = x.mm(w.t())\n",
    "    ## backward propagation: compute the error vector and loss term\n",
    "    error = yhat - y\n",
    "    loss = (2.0 / len(x)) * torch.sum(error **2)\n",
    "    loss.backward()\n",
    "    ## compute the gradient + backpropagate\n",
    "    # parameter update\n",
    "    with torch.no_grad():\n",
    "        w -= lr * w.grad\n",
    "        w.grad.zero_()    \n",
    "        \n",
    "    # update the iteration count\n",
    "    if citer % print_every == 0:\n",
    "        print(\"Iteration: %d - loss: %.4f\" %(citer, loss))\n",
    "    citer += 1\n",
    "    \n",
    "plt.plot(x[:,1].cpu().numpy(), x.mm(w.t()).cpu().detach().numpy(), c='g', label='Model')\n",
    "plt.scatter(x[:,1].cpu().numpy(), y.cpu().numpy(), label='Training Data')\n",
    "plt.grid()\n",
    "plt.legend(loc='best')\n",
    "plt.xlabel('X')\n",
    "plt.ylabel('Y')\n",
    "plt.title('output of linear regression')\n",
    "plt.show()"
   ]
  }
 ],
 "metadata": {
  "kernelspec": {
   "display_name": "Python 3",
   "language": "python",
   "name": "python3"
  },
  "language_info": {
   "codemirror_mode": {
    "name": "ipython",
    "version": 3
   },
   "file_extension": ".py",
   "mimetype": "text/x-python",
   "name": "python",
   "nbconvert_exporter": "python",
   "pygments_lexer": "ipython3",
   "version": "3.8.10"
  }
 },
 "nbformat": 4,
 "nbformat_minor": 5
}
